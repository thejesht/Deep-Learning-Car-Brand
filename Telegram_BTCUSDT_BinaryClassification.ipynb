{
  "nbformat": 4,
  "nbformat_minor": 0,
  "metadata": {
    "colab": {
      "name": "Telegram_BTCUSDT_BinaryClassification.ipynb",
      "provenance": [],
      "authorship_tag": "ABX9TyNAS+T1Sp/5iniBXmaa0gNf",
      "include_colab_link": true
    },
    "kernelspec": {
      "name": "python3",
      "display_name": "Python 3"
    },
    "language_info": {
      "name": "python"
    },
    "accelerator": "GPU"
  },
  "cells": [
    {
      "cell_type": "markdown",
      "metadata": {
        "id": "view-in-github",
        "colab_type": "text"
      },
      "source": [
        "<a href=\"https://colab.research.google.com/github/thejesht/Deep-Learning-Car-Brand/blob/master/Telegram_BTCUSDT_BinaryClassification.ipynb\" target=\"_parent\"><img src=\"https://colab.research.google.com/assets/colab-badge.svg\" alt=\"Open In Colab\"/></a>"
      ]
    },
    {
      "cell_type": "code",
      "metadata": {
        "id": "gF-MLwNhxHcr"
      },
      "source": [
        "#importing necessary libraries\n",
        "import pandas as pd\n",
        "import numpy as np"
      ],
      "execution_count": 2,
      "outputs": []
    },
    {
      "cell_type": "code",
      "metadata": {
        "id": "0W_KcsTtxR_Q"
      },
      "source": [
        "df=pd.read_csv('Binance_BTCUSDT_minute.csv', low_memory=False) #reading candlestick data for token: BTC-USDT from exchange: binance"
      ],
      "execution_count": 3,
      "outputs": []
    },
    {
      "cell_type": "code",
      "metadata": {
        "colab": {
          "base_uri": "https://localhost:8080/"
        },
        "id": "-4OSW_820PzF",
        "outputId": "21fbe73b-ad92-47e2-8e20-5a659c77ee9e"
      },
      "source": [
        "df.shape #inspecting features of dataset"
      ],
      "execution_count": 4,
      "outputs": [
        {
          "output_type": "execute_result",
          "data": {
            "text/plain": [
              "(1004820, 10)"
            ]
          },
          "metadata": {
            "tags": []
          },
          "execution_count": 4
        }
      ]
    },
    {
      "cell_type": "code",
      "metadata": {
        "colab": {
          "base_uri": "https://localhost:8080/",
          "height": 203
        },
        "id": "nlb4xgR70RY7",
        "outputId": "cc31bfb9-3ce1-4328-fdcd-ee481f091925"
      },
      "source": [
        "df.head() #visualising dataset "
      ],
      "execution_count": 5,
      "outputs": [
        {
          "output_type": "execute_result",
          "data": {
            "text/html": [
              "<div>\n",
              "<style scoped>\n",
              "    .dataframe tbody tr th:only-of-type {\n",
              "        vertical-align: middle;\n",
              "    }\n",
              "\n",
              "    .dataframe tbody tr th {\n",
              "        vertical-align: top;\n",
              "    }\n",
              "\n",
              "    .dataframe thead th {\n",
              "        text-align: right;\n",
              "    }\n",
              "</style>\n",
              "<table border=\"1\" class=\"dataframe\">\n",
              "  <thead>\n",
              "    <tr style=\"text-align: right;\">\n",
              "      <th></th>\n",
              "      <th>unix</th>\n",
              "      <th>date</th>\n",
              "      <th>symbol</th>\n",
              "      <th>open</th>\n",
              "      <th>high</th>\n",
              "      <th>low</th>\n",
              "      <th>close</th>\n",
              "      <th>Volume BTC</th>\n",
              "      <th>Volume USDT</th>\n",
              "      <th>tradecount</th>\n",
              "    </tr>\n",
              "  </thead>\n",
              "  <tbody>\n",
              "    <tr>\n",
              "      <th>0</th>\n",
              "      <td>1.628560e+12</td>\n",
              "      <td>10/08/2021 00:35</td>\n",
              "      <td>BTC/USDT</td>\n",
              "      <td>46092.17</td>\n",
              "      <td>46121.98</td>\n",
              "      <td>46029.85</td>\n",
              "      <td>46035.04</td>\n",
              "      <td>21.279112</td>\n",
              "      <td>9.802980e+05</td>\n",
              "      <td>699.0</td>\n",
              "    </tr>\n",
              "    <tr>\n",
              "      <th>1</th>\n",
              "      <td>1.628560e+12</td>\n",
              "      <td>10/08/2021 00:34</td>\n",
              "      <td>BTC/USDT</td>\n",
              "      <td>46090.17</td>\n",
              "      <td>46100.00</td>\n",
              "      <td>46042.96</td>\n",
              "      <td>46092.18</td>\n",
              "      <td>38.456240</td>\n",
              "      <td>1.771499e+06</td>\n",
              "      <td>689.0</td>\n",
              "    </tr>\n",
              "    <tr>\n",
              "      <th>2</th>\n",
              "      <td>1.628560e+12</td>\n",
              "      <td>10/08/2021 00:33</td>\n",
              "      <td>BTC/USDT</td>\n",
              "      <td>46078.63</td>\n",
              "      <td>46149.06</td>\n",
              "      <td>46057.81</td>\n",
              "      <td>46090.16</td>\n",
              "      <td>47.704272</td>\n",
              "      <td>2.199032e+06</td>\n",
              "      <td>827.0</td>\n",
              "    </tr>\n",
              "    <tr>\n",
              "      <th>3</th>\n",
              "      <td>1.628560e+12</td>\n",
              "      <td>10/08/2021 00:32</td>\n",
              "      <td>BTC/USDT</td>\n",
              "      <td>46179.35</td>\n",
              "      <td>46194.33</td>\n",
              "      <td>46062.53</td>\n",
              "      <td>46078.63</td>\n",
              "      <td>68.195726</td>\n",
              "      <td>3.145916e+06</td>\n",
              "      <td>1004.0</td>\n",
              "    </tr>\n",
              "    <tr>\n",
              "      <th>4</th>\n",
              "      <td>1.628560e+12</td>\n",
              "      <td>10/08/2021 00:31</td>\n",
              "      <td>BTC/USDT</td>\n",
              "      <td>46224.34</td>\n",
              "      <td>46247.77</td>\n",
              "      <td>46169.81</td>\n",
              "      <td>46179.35</td>\n",
              "      <td>41.661314</td>\n",
              "      <td>1.925150e+06</td>\n",
              "      <td>836.0</td>\n",
              "    </tr>\n",
              "  </tbody>\n",
              "</table>\n",
              "</div>"
            ],
            "text/plain": [
              "           unix              date  ...   Volume USDT  tradecount\n",
              "0  1.628560e+12  10/08/2021 00:35  ...  9.802980e+05       699.0\n",
              "1  1.628560e+12  10/08/2021 00:34  ...  1.771499e+06       689.0\n",
              "2  1.628560e+12  10/08/2021 00:33  ...  2.199032e+06       827.0\n",
              "3  1.628560e+12  10/08/2021 00:32  ...  3.145916e+06      1004.0\n",
              "4  1.628560e+12  10/08/2021 00:31  ...  1.925150e+06       836.0\n",
              "\n",
              "[5 rows x 10 columns]"
            ]
          },
          "metadata": {
            "tags": []
          },
          "execution_count": 5
        }
      ]
    },
    {
      "cell_type": "code",
      "metadata": {
        "colab": {
          "base_uri": "https://localhost:8080/",
          "height": 203
        },
        "id": "nJyllpTX0T0m",
        "outputId": "e403645f-9ade-400e-c710-e61792eec29d"
      },
      "source": [
        "df.tail()"
      ],
      "execution_count": 6,
      "outputs": [
        {
          "output_type": "execute_result",
          "data": {
            "text/html": [
              "<div>\n",
              "<style scoped>\n",
              "    .dataframe tbody tr th:only-of-type {\n",
              "        vertical-align: middle;\n",
              "    }\n",
              "\n",
              "    .dataframe tbody tr th {\n",
              "        vertical-align: top;\n",
              "    }\n",
              "\n",
              "    .dataframe thead th {\n",
              "        text-align: right;\n",
              "    }\n",
              "</style>\n",
              "<table border=\"1\" class=\"dataframe\">\n",
              "  <thead>\n",
              "    <tr style=\"text-align: right;\">\n",
              "      <th></th>\n",
              "      <th>unix</th>\n",
              "      <th>date</th>\n",
              "      <th>symbol</th>\n",
              "      <th>open</th>\n",
              "      <th>high</th>\n",
              "      <th>low</th>\n",
              "      <th>close</th>\n",
              "      <th>Volume BTC</th>\n",
              "      <th>Volume USDT</th>\n",
              "      <th>tradecount</th>\n",
              "    </tr>\n",
              "  </thead>\n",
              "  <tbody>\n",
              "    <tr>\n",
              "      <th>1004815</th>\n",
              "      <td>NaN</td>\n",
              "      <td>NaN</td>\n",
              "      <td>NaN</td>\n",
              "      <td>NaN</td>\n",
              "      <td>NaN</td>\n",
              "      <td>NaN</td>\n",
              "      <td>NaN</td>\n",
              "      <td>NaN</td>\n",
              "      <td>NaN</td>\n",
              "      <td>NaN</td>\n",
              "    </tr>\n",
              "    <tr>\n",
              "      <th>1004816</th>\n",
              "      <td>NaN</td>\n",
              "      <td>NaN</td>\n",
              "      <td>NaN</td>\n",
              "      <td>NaN</td>\n",
              "      <td>NaN</td>\n",
              "      <td>NaN</td>\n",
              "      <td>NaN</td>\n",
              "      <td>NaN</td>\n",
              "      <td>NaN</td>\n",
              "      <td>NaN</td>\n",
              "    </tr>\n",
              "    <tr>\n",
              "      <th>1004817</th>\n",
              "      <td>NaN</td>\n",
              "      <td>NaN</td>\n",
              "      <td>NaN</td>\n",
              "      <td>NaN</td>\n",
              "      <td>NaN</td>\n",
              "      <td>NaN</td>\n",
              "      <td>NaN</td>\n",
              "      <td>NaN</td>\n",
              "      <td>NaN</td>\n",
              "      <td>NaN</td>\n",
              "    </tr>\n",
              "    <tr>\n",
              "      <th>1004818</th>\n",
              "      <td>NaN</td>\n",
              "      <td>NaN</td>\n",
              "      <td>NaN</td>\n",
              "      <td>NaN</td>\n",
              "      <td>NaN</td>\n",
              "      <td>NaN</td>\n",
              "      <td>NaN</td>\n",
              "      <td>NaN</td>\n",
              "      <td>NaN</td>\n",
              "      <td>NaN</td>\n",
              "    </tr>\n",
              "    <tr>\n",
              "      <th>1004819</th>\n",
              "      <td>NaN</td>\n",
              "      <td>NaN</td>\n",
              "      <td>NaN</td>\n",
              "      <td>NaN</td>\n",
              "      <td>NaN</td>\n",
              "      <td>NaN</td>\n",
              "      <td>NaN</td>\n",
              "      <td>NaN</td>\n",
              "      <td>NaN</td>\n",
              "      <td>NaN</td>\n",
              "    </tr>\n",
              "  </tbody>\n",
              "</table>\n",
              "</div>"
            ],
            "text/plain": [
              "         unix date symbol  open  ...  close  Volume BTC  Volume USDT  tradecount\n",
              "1004815   NaN  NaN    NaN   NaN  ...    NaN         NaN          NaN         NaN\n",
              "1004816   NaN  NaN    NaN   NaN  ...    NaN         NaN          NaN         NaN\n",
              "1004817   NaN  NaN    NaN   NaN  ...    NaN         NaN          NaN         NaN\n",
              "1004818   NaN  NaN    NaN   NaN  ...    NaN         NaN          NaN         NaN\n",
              "1004819   NaN  NaN    NaN   NaN  ...    NaN         NaN          NaN         NaN\n",
              "\n",
              "[5 rows x 10 columns]"
            ]
          },
          "metadata": {
            "tags": []
          },
          "execution_count": 6
        }
      ]
    },
    {
      "cell_type": "code",
      "metadata": {
        "colab": {
          "base_uri": "https://localhost:8080/"
        },
        "id": "5xeHhDzM0Vy4",
        "outputId": "38ddc46e-716b-465d-eb56-468854a76291"
      },
      "source": [
        "df.isnull().sum() #checking for null values in dataset "
      ],
      "execution_count": 7,
      "outputs": [
        {
          "output_type": "execute_result",
          "data": {
            "text/plain": [
              "unix           75\n",
              "date           75\n",
              "symbol         75\n",
              "open           75\n",
              "high           75\n",
              "low            75\n",
              "close          75\n",
              "Volume BTC     75\n",
              "Volume USDT    75\n",
              "tradecount     75\n",
              "dtype: int64"
            ]
          },
          "metadata": {
            "tags": []
          },
          "execution_count": 7
        }
      ]
    },
    {
      "cell_type": "code",
      "metadata": {
        "id": "GXuDHXRX0YYx"
      },
      "source": [
        "df.dropna(inplace =True) #dropping null values in dataset"
      ],
      "execution_count": 8,
      "outputs": []
    },
    {
      "cell_type": "code",
      "metadata": {
        "colab": {
          "base_uri": "https://localhost:8080/"
        },
        "id": "3-NBIu5l0agW",
        "outputId": "ac6a28d6-b21b-4263-d875-955029a0fbd1"
      },
      "source": [
        "df.isnull().sum()"
      ],
      "execution_count": 9,
      "outputs": [
        {
          "output_type": "execute_result",
          "data": {
            "text/plain": [
              "unix           0\n",
              "date           0\n",
              "symbol         0\n",
              "open           0\n",
              "high           0\n",
              "low            0\n",
              "close          0\n",
              "Volume BTC     0\n",
              "Volume USDT    0\n",
              "tradecount     0\n",
              "dtype: int64"
            ]
          },
          "metadata": {
            "tags": []
          },
          "execution_count": 9
        }
      ]
    },
    {
      "cell_type": "code",
      "metadata": {
        "id": "jeXJEuqH0cQe"
      },
      "source": [
        "df.rename(columns={'date': 'TimeStamp'}, inplace=True) #renaming attribute date to TimeStamp"
      ],
      "execution_count": 10,
      "outputs": []
    },
    {
      "cell_type": "code",
      "metadata": {
        "colab": {
          "base_uri": "https://localhost:8080/",
          "height": 203
        },
        "id": "hWxg6gRf0ekY",
        "outputId": "ec5dd969-7aaa-45aa-d9ff-9dd05df0cd08"
      },
      "source": [
        "df.head()"
      ],
      "execution_count": 11,
      "outputs": [
        {
          "output_type": "execute_result",
          "data": {
            "text/html": [
              "<div>\n",
              "<style scoped>\n",
              "    .dataframe tbody tr th:only-of-type {\n",
              "        vertical-align: middle;\n",
              "    }\n",
              "\n",
              "    .dataframe tbody tr th {\n",
              "        vertical-align: top;\n",
              "    }\n",
              "\n",
              "    .dataframe thead th {\n",
              "        text-align: right;\n",
              "    }\n",
              "</style>\n",
              "<table border=\"1\" class=\"dataframe\">\n",
              "  <thead>\n",
              "    <tr style=\"text-align: right;\">\n",
              "      <th></th>\n",
              "      <th>unix</th>\n",
              "      <th>TimeStamp</th>\n",
              "      <th>symbol</th>\n",
              "      <th>open</th>\n",
              "      <th>high</th>\n",
              "      <th>low</th>\n",
              "      <th>close</th>\n",
              "      <th>Volume BTC</th>\n",
              "      <th>Volume USDT</th>\n",
              "      <th>tradecount</th>\n",
              "    </tr>\n",
              "  </thead>\n",
              "  <tbody>\n",
              "    <tr>\n",
              "      <th>0</th>\n",
              "      <td>1.628560e+12</td>\n",
              "      <td>10/08/2021 00:35</td>\n",
              "      <td>BTC/USDT</td>\n",
              "      <td>46092.17</td>\n",
              "      <td>46121.98</td>\n",
              "      <td>46029.85</td>\n",
              "      <td>46035.04</td>\n",
              "      <td>21.279112</td>\n",
              "      <td>9.802980e+05</td>\n",
              "      <td>699.0</td>\n",
              "    </tr>\n",
              "    <tr>\n",
              "      <th>1</th>\n",
              "      <td>1.628560e+12</td>\n",
              "      <td>10/08/2021 00:34</td>\n",
              "      <td>BTC/USDT</td>\n",
              "      <td>46090.17</td>\n",
              "      <td>46100.00</td>\n",
              "      <td>46042.96</td>\n",
              "      <td>46092.18</td>\n",
              "      <td>38.456240</td>\n",
              "      <td>1.771499e+06</td>\n",
              "      <td>689.0</td>\n",
              "    </tr>\n",
              "    <tr>\n",
              "      <th>2</th>\n",
              "      <td>1.628560e+12</td>\n",
              "      <td>10/08/2021 00:33</td>\n",
              "      <td>BTC/USDT</td>\n",
              "      <td>46078.63</td>\n",
              "      <td>46149.06</td>\n",
              "      <td>46057.81</td>\n",
              "      <td>46090.16</td>\n",
              "      <td>47.704272</td>\n",
              "      <td>2.199032e+06</td>\n",
              "      <td>827.0</td>\n",
              "    </tr>\n",
              "    <tr>\n",
              "      <th>3</th>\n",
              "      <td>1.628560e+12</td>\n",
              "      <td>10/08/2021 00:32</td>\n",
              "      <td>BTC/USDT</td>\n",
              "      <td>46179.35</td>\n",
              "      <td>46194.33</td>\n",
              "      <td>46062.53</td>\n",
              "      <td>46078.63</td>\n",
              "      <td>68.195726</td>\n",
              "      <td>3.145916e+06</td>\n",
              "      <td>1004.0</td>\n",
              "    </tr>\n",
              "    <tr>\n",
              "      <th>4</th>\n",
              "      <td>1.628560e+12</td>\n",
              "      <td>10/08/2021 00:31</td>\n",
              "      <td>BTC/USDT</td>\n",
              "      <td>46224.34</td>\n",
              "      <td>46247.77</td>\n",
              "      <td>46169.81</td>\n",
              "      <td>46179.35</td>\n",
              "      <td>41.661314</td>\n",
              "      <td>1.925150e+06</td>\n",
              "      <td>836.0</td>\n",
              "    </tr>\n",
              "  </tbody>\n",
              "</table>\n",
              "</div>"
            ],
            "text/plain": [
              "           unix         TimeStamp  ...   Volume USDT  tradecount\n",
              "0  1.628560e+12  10/08/2021 00:35  ...  9.802980e+05       699.0\n",
              "1  1.628560e+12  10/08/2021 00:34  ...  1.771499e+06       689.0\n",
              "2  1.628560e+12  10/08/2021 00:33  ...  2.199032e+06       827.0\n",
              "3  1.628560e+12  10/08/2021 00:32  ...  3.145916e+06      1004.0\n",
              "4  1.628560e+12  10/08/2021 00:31  ...  1.925150e+06       836.0\n",
              "\n",
              "[5 rows x 10 columns]"
            ]
          },
          "metadata": {
            "tags": []
          },
          "execution_count": 11
        }
      ]
    },
    {
      "cell_type": "code",
      "metadata": {
        "colab": {
          "base_uri": "https://localhost:8080/",
          "height": 203
        },
        "id": "1OCsLgkF0goe",
        "outputId": "468bd875-cf12-44fd-c654-6a96b1d29ccc"
      },
      "source": [
        "df1= df[['TimeStamp', 'symbol','close']] #filtering out attributes which are relevant for further processing\n",
        "df1.head()"
      ],
      "execution_count": 12,
      "outputs": [
        {
          "output_type": "execute_result",
          "data": {
            "text/html": [
              "<div>\n",
              "<style scoped>\n",
              "    .dataframe tbody tr th:only-of-type {\n",
              "        vertical-align: middle;\n",
              "    }\n",
              "\n",
              "    .dataframe tbody tr th {\n",
              "        vertical-align: top;\n",
              "    }\n",
              "\n",
              "    .dataframe thead th {\n",
              "        text-align: right;\n",
              "    }\n",
              "</style>\n",
              "<table border=\"1\" class=\"dataframe\">\n",
              "  <thead>\n",
              "    <tr style=\"text-align: right;\">\n",
              "      <th></th>\n",
              "      <th>TimeStamp</th>\n",
              "      <th>symbol</th>\n",
              "      <th>close</th>\n",
              "    </tr>\n",
              "  </thead>\n",
              "  <tbody>\n",
              "    <tr>\n",
              "      <th>0</th>\n",
              "      <td>10/08/2021 00:35</td>\n",
              "      <td>BTC/USDT</td>\n",
              "      <td>46035.04</td>\n",
              "    </tr>\n",
              "    <tr>\n",
              "      <th>1</th>\n",
              "      <td>10/08/2021 00:34</td>\n",
              "      <td>BTC/USDT</td>\n",
              "      <td>46092.18</td>\n",
              "    </tr>\n",
              "    <tr>\n",
              "      <th>2</th>\n",
              "      <td>10/08/2021 00:33</td>\n",
              "      <td>BTC/USDT</td>\n",
              "      <td>46090.16</td>\n",
              "    </tr>\n",
              "    <tr>\n",
              "      <th>3</th>\n",
              "      <td>10/08/2021 00:32</td>\n",
              "      <td>BTC/USDT</td>\n",
              "      <td>46078.63</td>\n",
              "    </tr>\n",
              "    <tr>\n",
              "      <th>4</th>\n",
              "      <td>10/08/2021 00:31</td>\n",
              "      <td>BTC/USDT</td>\n",
              "      <td>46179.35</td>\n",
              "    </tr>\n",
              "  </tbody>\n",
              "</table>\n",
              "</div>"
            ],
            "text/plain": [
              "          TimeStamp    symbol     close\n",
              "0  10/08/2021 00:35  BTC/USDT  46035.04\n",
              "1  10/08/2021 00:34  BTC/USDT  46092.18\n",
              "2  10/08/2021 00:33  BTC/USDT  46090.16\n",
              "3  10/08/2021 00:32  BTC/USDT  46078.63\n",
              "4  10/08/2021 00:31  BTC/USDT  46179.35"
            ]
          },
          "metadata": {
            "tags": []
          },
          "execution_count": 12
        }
      ]
    },
    {
      "cell_type": "code",
      "metadata": {
        "colab": {
          "base_uri": "https://localhost:8080/"
        },
        "id": "MR0cdkRM0jyY",
        "outputId": "57f3bb9f-cb22-42b7-9801-05f5ac1376b2"
      },
      "source": [
        "df1['TimeStamp'] = pd.to_datetime(df1.TimeStamp, format='%d/%m/%Y %H:%M')#type conversion"
      ],
      "execution_count": 13,
      "outputs": [
        {
          "output_type": "stream",
          "text": [
            "/usr/local/lib/python3.7/dist-packages/ipykernel_launcher.py:1: SettingWithCopyWarning: \n",
            "A value is trying to be set on a copy of a slice from a DataFrame.\n",
            "Try using .loc[row_indexer,col_indexer] = value instead\n",
            "\n",
            "See the caveats in the documentation: https://pandas.pydata.org/pandas-docs/stable/user_guide/indexing.html#returning-a-view-versus-a-copy\n",
            "  \"\"\"Entry point for launching an IPython kernel.\n"
          ],
          "name": "stderr"
        }
      ]
    },
    {
      "cell_type": "code",
      "metadata": {
        "colab": {
          "base_uri": "https://localhost:8080/",
          "height": 203
        },
        "id": "Q2hd1P850uQx",
        "outputId": "a7765863-7de6-4208-82f9-d3b51bc51757"
      },
      "source": [
        "df1.head()"
      ],
      "execution_count": 14,
      "outputs": [
        {
          "output_type": "execute_result",
          "data": {
            "text/html": [
              "<div>\n",
              "<style scoped>\n",
              "    .dataframe tbody tr th:only-of-type {\n",
              "        vertical-align: middle;\n",
              "    }\n",
              "\n",
              "    .dataframe tbody tr th {\n",
              "        vertical-align: top;\n",
              "    }\n",
              "\n",
              "    .dataframe thead th {\n",
              "        text-align: right;\n",
              "    }\n",
              "</style>\n",
              "<table border=\"1\" class=\"dataframe\">\n",
              "  <thead>\n",
              "    <tr style=\"text-align: right;\">\n",
              "      <th></th>\n",
              "      <th>TimeStamp</th>\n",
              "      <th>symbol</th>\n",
              "      <th>close</th>\n",
              "    </tr>\n",
              "  </thead>\n",
              "  <tbody>\n",
              "    <tr>\n",
              "      <th>0</th>\n",
              "      <td>2021-08-10 00:35:00</td>\n",
              "      <td>BTC/USDT</td>\n",
              "      <td>46035.04</td>\n",
              "    </tr>\n",
              "    <tr>\n",
              "      <th>1</th>\n",
              "      <td>2021-08-10 00:34:00</td>\n",
              "      <td>BTC/USDT</td>\n",
              "      <td>46092.18</td>\n",
              "    </tr>\n",
              "    <tr>\n",
              "      <th>2</th>\n",
              "      <td>2021-08-10 00:33:00</td>\n",
              "      <td>BTC/USDT</td>\n",
              "      <td>46090.16</td>\n",
              "    </tr>\n",
              "    <tr>\n",
              "      <th>3</th>\n",
              "      <td>2021-08-10 00:32:00</td>\n",
              "      <td>BTC/USDT</td>\n",
              "      <td>46078.63</td>\n",
              "    </tr>\n",
              "    <tr>\n",
              "      <th>4</th>\n",
              "      <td>2021-08-10 00:31:00</td>\n",
              "      <td>BTC/USDT</td>\n",
              "      <td>46179.35</td>\n",
              "    </tr>\n",
              "  </tbody>\n",
              "</table>\n",
              "</div>"
            ],
            "text/plain": [
              "            TimeStamp    symbol     close\n",
              "0 2021-08-10 00:35:00  BTC/USDT  46035.04\n",
              "1 2021-08-10 00:34:00  BTC/USDT  46092.18\n",
              "2 2021-08-10 00:33:00  BTC/USDT  46090.16\n",
              "3 2021-08-10 00:32:00  BTC/USDT  46078.63\n",
              "4 2021-08-10 00:31:00  BTC/USDT  46179.35"
            ]
          },
          "metadata": {
            "tags": []
          },
          "execution_count": 14
        }
      ]
    },
    {
      "cell_type": "code",
      "metadata": {
        "colab": {
          "base_uri": "https://localhost:8080/"
        },
        "id": "-QwIFi290wC2",
        "outputId": "24305962-5d5a-4660-8548-6e105de5be84"
      },
      "source": [
        "df1.shape"
      ],
      "execution_count": 15,
      "outputs": [
        {
          "output_type": "execute_result",
          "data": {
            "text/plain": [
              "(1004745, 3)"
            ]
          },
          "metadata": {
            "tags": []
          },
          "execution_count": 15
        }
      ]
    },
    {
      "cell_type": "code",
      "metadata": {
        "id": "L1x4488C00EK"
      },
      "source": [
        "df1 = df1[(df1['TimeStamp'] > '01/01/2019') & (df1['TimeStamp'] <= '08/01/2021')] #filtering token prices in dataframe by date"
      ],
      "execution_count": 16,
      "outputs": []
    },
    {
      "cell_type": "code",
      "metadata": {
        "colab": {
          "base_uri": "https://localhost:8080/"
        },
        "id": "qYTTx51z0796",
        "outputId": "026337e9-de9c-499f-a5eb-e00722e492a8"
      },
      "source": [
        "df1.shape #examining dimensions of the filtered dataset"
      ],
      "execution_count": 17,
      "outputs": [
        {
          "output_type": "execute_result",
          "data": {
            "text/plain": [
              "(991750, 3)"
            ]
          },
          "metadata": {
            "tags": []
          },
          "execution_count": 17
        }
      ]
    },
    {
      "cell_type": "code",
      "metadata": {
        "colab": {
          "base_uri": "https://localhost:8080/",
          "height": 203
        },
        "id": "GqsqdzO809Ke",
        "outputId": "55d48403-fd3b-4915-e5ba-088b2874df6c"
      },
      "source": [
        "df1.head()"
      ],
      "execution_count": 18,
      "outputs": [
        {
          "output_type": "execute_result",
          "data": {
            "text/html": [
              "<div>\n",
              "<style scoped>\n",
              "    .dataframe tbody tr th:only-of-type {\n",
              "        vertical-align: middle;\n",
              "    }\n",
              "\n",
              "    .dataframe tbody tr th {\n",
              "        vertical-align: top;\n",
              "    }\n",
              "\n",
              "    .dataframe thead th {\n",
              "        text-align: right;\n",
              "    }\n",
              "</style>\n",
              "<table border=\"1\" class=\"dataframe\">\n",
              "  <thead>\n",
              "    <tr style=\"text-align: right;\">\n",
              "      <th></th>\n",
              "      <th>TimeStamp</th>\n",
              "      <th>symbol</th>\n",
              "      <th>close</th>\n",
              "    </tr>\n",
              "  </thead>\n",
              "  <tbody>\n",
              "    <tr>\n",
              "      <th>12995</th>\n",
              "      <td>2021-08-01 00:00:00</td>\n",
              "      <td>BTC/USDT</td>\n",
              "      <td>41427.76</td>\n",
              "    </tr>\n",
              "    <tr>\n",
              "      <th>12996</th>\n",
              "      <td>2021-07-31 23:59:00</td>\n",
              "      <td>BTC/USDT</td>\n",
              "      <td>41461.83</td>\n",
              "    </tr>\n",
              "    <tr>\n",
              "      <th>12997</th>\n",
              "      <td>2021-07-31 23:58:00</td>\n",
              "      <td>BTC/USDT</td>\n",
              "      <td>41593.93</td>\n",
              "    </tr>\n",
              "    <tr>\n",
              "      <th>12998</th>\n",
              "      <td>2021-07-31 23:57:00</td>\n",
              "      <td>BTC/USDT</td>\n",
              "      <td>41692.32</td>\n",
              "    </tr>\n",
              "    <tr>\n",
              "      <th>12999</th>\n",
              "      <td>2021-07-31 23:56:00</td>\n",
              "      <td>BTC/USDT</td>\n",
              "      <td>41700.00</td>\n",
              "    </tr>\n",
              "  </tbody>\n",
              "</table>\n",
              "</div>"
            ],
            "text/plain": [
              "                TimeStamp    symbol     close\n",
              "12995 2021-08-01 00:00:00  BTC/USDT  41427.76\n",
              "12996 2021-07-31 23:59:00  BTC/USDT  41461.83\n",
              "12997 2021-07-31 23:58:00  BTC/USDT  41593.93\n",
              "12998 2021-07-31 23:57:00  BTC/USDT  41692.32\n",
              "12999 2021-07-31 23:56:00  BTC/USDT  41700.00"
            ]
          },
          "metadata": {
            "tags": []
          },
          "execution_count": 18
        }
      ]
    },
    {
      "cell_type": "code",
      "metadata": {
        "colab": {
          "base_uri": "https://localhost:8080/",
          "height": 203
        },
        "id": "YRD-yM7_0_eW",
        "outputId": "54b69de2-aa82-4d9f-c3b9-4ae1cfa2a03d"
      },
      "source": [
        "df1.tail()"
      ],
      "execution_count": 19,
      "outputs": [
        {
          "output_type": "execute_result",
          "data": {
            "text/html": [
              "<div>\n",
              "<style scoped>\n",
              "    .dataframe tbody tr th:only-of-type {\n",
              "        vertical-align: middle;\n",
              "    }\n",
              "\n",
              "    .dataframe tbody tr th {\n",
              "        vertical-align: top;\n",
              "    }\n",
              "\n",
              "    .dataframe thead th {\n",
              "        text-align: right;\n",
              "    }\n",
              "</style>\n",
              "<table border=\"1\" class=\"dataframe\">\n",
              "  <thead>\n",
              "    <tr style=\"text-align: right;\">\n",
              "      <th></th>\n",
              "      <th>TimeStamp</th>\n",
              "      <th>symbol</th>\n",
              "      <th>close</th>\n",
              "    </tr>\n",
              "  </thead>\n",
              "  <tbody>\n",
              "    <tr>\n",
              "      <th>1004740</th>\n",
              "      <td>2019-09-08 19:17:00</td>\n",
              "      <td>BTC/USDT</td>\n",
              "      <td>10350.97</td>\n",
              "    </tr>\n",
              "    <tr>\n",
              "      <th>1004741</th>\n",
              "      <td>2019-09-08 19:16:00</td>\n",
              "      <td>BTC/USDT</td>\n",
              "      <td>10347.91</td>\n",
              "    </tr>\n",
              "    <tr>\n",
              "      <th>1004742</th>\n",
              "      <td>2019-09-08 19:15:00</td>\n",
              "      <td>BTC/USDT</td>\n",
              "      <td>10345.41</td>\n",
              "    </tr>\n",
              "    <tr>\n",
              "      <th>1004743</th>\n",
              "      <td>2019-09-08 19:14:00</td>\n",
              "      <td>BTC/USDT</td>\n",
              "      <td>10345.41</td>\n",
              "    </tr>\n",
              "    <tr>\n",
              "      <th>1004744</th>\n",
              "      <td>2019-09-08 19:13:00</td>\n",
              "      <td>BTC/USDT</td>\n",
              "      <td>10345.41</td>\n",
              "    </tr>\n",
              "  </tbody>\n",
              "</table>\n",
              "</div>"
            ],
            "text/plain": [
              "                  TimeStamp    symbol     close\n",
              "1004740 2019-09-08 19:17:00  BTC/USDT  10350.97\n",
              "1004741 2019-09-08 19:16:00  BTC/USDT  10347.91\n",
              "1004742 2019-09-08 19:15:00  BTC/USDT  10345.41\n",
              "1004743 2019-09-08 19:14:00  BTC/USDT  10345.41\n",
              "1004744 2019-09-08 19:13:00  BTC/USDT  10345.41"
            ]
          },
          "metadata": {
            "tags": []
          },
          "execution_count": 19
        }
      ]
    },
    {
      "cell_type": "code",
      "metadata": {
        "id": "sBQP2iFN1CWT"
      },
      "source": [
        "df1['close_5min'] = df1.close.shift(5) #creating additional columns representing future token price by time limits 5m,10,15m,30m,60m and 120m\n",
        "df1['close_10min'] = df1.close.shift(10)\n",
        "df1['close_15min'] = df1.close.shift(15)\n",
        "df1['close_30min'] = df1.close.shift(30)\n",
        "df1['close_60min'] = df1.close.shift(60)\n",
        "df1['close_120min'] = df1.close.shift(120)"
      ],
      "execution_count": 20,
      "outputs": []
    },
    {
      "cell_type": "code",
      "metadata": {
        "colab": {
          "base_uri": "https://localhost:8080/",
          "height": 357
        },
        "id": "Djq3aV-g1lyB",
        "outputId": "fe82dbe8-1589-4bc0-8f48-c089825fd726"
      },
      "source": [
        "df1.head(10)"
      ],
      "execution_count": 21,
      "outputs": [
        {
          "output_type": "execute_result",
          "data": {
            "text/html": [
              "<div>\n",
              "<style scoped>\n",
              "    .dataframe tbody tr th:only-of-type {\n",
              "        vertical-align: middle;\n",
              "    }\n",
              "\n",
              "    .dataframe tbody tr th {\n",
              "        vertical-align: top;\n",
              "    }\n",
              "\n",
              "    .dataframe thead th {\n",
              "        text-align: right;\n",
              "    }\n",
              "</style>\n",
              "<table border=\"1\" class=\"dataframe\">\n",
              "  <thead>\n",
              "    <tr style=\"text-align: right;\">\n",
              "      <th></th>\n",
              "      <th>TimeStamp</th>\n",
              "      <th>symbol</th>\n",
              "      <th>close</th>\n",
              "      <th>close_5min</th>\n",
              "      <th>close_10min</th>\n",
              "      <th>close_15min</th>\n",
              "      <th>close_30min</th>\n",
              "      <th>close_60min</th>\n",
              "      <th>close_120min</th>\n",
              "    </tr>\n",
              "  </thead>\n",
              "  <tbody>\n",
              "    <tr>\n",
              "      <th>12995</th>\n",
              "      <td>2021-08-01 00:00:00</td>\n",
              "      <td>BTC/USDT</td>\n",
              "      <td>41427.76</td>\n",
              "      <td>NaN</td>\n",
              "      <td>NaN</td>\n",
              "      <td>NaN</td>\n",
              "      <td>NaN</td>\n",
              "      <td>NaN</td>\n",
              "      <td>NaN</td>\n",
              "    </tr>\n",
              "    <tr>\n",
              "      <th>12996</th>\n",
              "      <td>2021-07-31 23:59:00</td>\n",
              "      <td>BTC/USDT</td>\n",
              "      <td>41461.83</td>\n",
              "      <td>NaN</td>\n",
              "      <td>NaN</td>\n",
              "      <td>NaN</td>\n",
              "      <td>NaN</td>\n",
              "      <td>NaN</td>\n",
              "      <td>NaN</td>\n",
              "    </tr>\n",
              "    <tr>\n",
              "      <th>12997</th>\n",
              "      <td>2021-07-31 23:58:00</td>\n",
              "      <td>BTC/USDT</td>\n",
              "      <td>41593.93</td>\n",
              "      <td>NaN</td>\n",
              "      <td>NaN</td>\n",
              "      <td>NaN</td>\n",
              "      <td>NaN</td>\n",
              "      <td>NaN</td>\n",
              "      <td>NaN</td>\n",
              "    </tr>\n",
              "    <tr>\n",
              "      <th>12998</th>\n",
              "      <td>2021-07-31 23:57:00</td>\n",
              "      <td>BTC/USDT</td>\n",
              "      <td>41692.32</td>\n",
              "      <td>NaN</td>\n",
              "      <td>NaN</td>\n",
              "      <td>NaN</td>\n",
              "      <td>NaN</td>\n",
              "      <td>NaN</td>\n",
              "      <td>NaN</td>\n",
              "    </tr>\n",
              "    <tr>\n",
              "      <th>12999</th>\n",
              "      <td>2021-07-31 23:56:00</td>\n",
              "      <td>BTC/USDT</td>\n",
              "      <td>41700.00</td>\n",
              "      <td>NaN</td>\n",
              "      <td>NaN</td>\n",
              "      <td>NaN</td>\n",
              "      <td>NaN</td>\n",
              "      <td>NaN</td>\n",
              "      <td>NaN</td>\n",
              "    </tr>\n",
              "    <tr>\n",
              "      <th>13000</th>\n",
              "      <td>2021-07-31 23:55:00</td>\n",
              "      <td>BTC/USDT</td>\n",
              "      <td>41625.22</td>\n",
              "      <td>41427.76</td>\n",
              "      <td>NaN</td>\n",
              "      <td>NaN</td>\n",
              "      <td>NaN</td>\n",
              "      <td>NaN</td>\n",
              "      <td>NaN</td>\n",
              "    </tr>\n",
              "    <tr>\n",
              "      <th>13001</th>\n",
              "      <td>2021-07-31 23:54:00</td>\n",
              "      <td>BTC/USDT</td>\n",
              "      <td>41657.85</td>\n",
              "      <td>41461.83</td>\n",
              "      <td>NaN</td>\n",
              "      <td>NaN</td>\n",
              "      <td>NaN</td>\n",
              "      <td>NaN</td>\n",
              "      <td>NaN</td>\n",
              "    </tr>\n",
              "    <tr>\n",
              "      <th>13002</th>\n",
              "      <td>2021-07-31 23:53:00</td>\n",
              "      <td>BTC/USDT</td>\n",
              "      <td>41706.89</td>\n",
              "      <td>41593.93</td>\n",
              "      <td>NaN</td>\n",
              "      <td>NaN</td>\n",
              "      <td>NaN</td>\n",
              "      <td>NaN</td>\n",
              "      <td>NaN</td>\n",
              "    </tr>\n",
              "    <tr>\n",
              "      <th>13003</th>\n",
              "      <td>2021-07-31 23:52:00</td>\n",
              "      <td>BTC/USDT</td>\n",
              "      <td>41702.79</td>\n",
              "      <td>41692.32</td>\n",
              "      <td>NaN</td>\n",
              "      <td>NaN</td>\n",
              "      <td>NaN</td>\n",
              "      <td>NaN</td>\n",
              "      <td>NaN</td>\n",
              "    </tr>\n",
              "    <tr>\n",
              "      <th>13004</th>\n",
              "      <td>2021-07-31 23:51:00</td>\n",
              "      <td>BTC/USDT</td>\n",
              "      <td>41689.75</td>\n",
              "      <td>41700.00</td>\n",
              "      <td>NaN</td>\n",
              "      <td>NaN</td>\n",
              "      <td>NaN</td>\n",
              "      <td>NaN</td>\n",
              "      <td>NaN</td>\n",
              "    </tr>\n",
              "  </tbody>\n",
              "</table>\n",
              "</div>"
            ],
            "text/plain": [
              "                TimeStamp    symbol  ...  close_60min  close_120min\n",
              "12995 2021-08-01 00:00:00  BTC/USDT  ...          NaN           NaN\n",
              "12996 2021-07-31 23:59:00  BTC/USDT  ...          NaN           NaN\n",
              "12997 2021-07-31 23:58:00  BTC/USDT  ...          NaN           NaN\n",
              "12998 2021-07-31 23:57:00  BTC/USDT  ...          NaN           NaN\n",
              "12999 2021-07-31 23:56:00  BTC/USDT  ...          NaN           NaN\n",
              "13000 2021-07-31 23:55:00  BTC/USDT  ...          NaN           NaN\n",
              "13001 2021-07-31 23:54:00  BTC/USDT  ...          NaN           NaN\n",
              "13002 2021-07-31 23:53:00  BTC/USDT  ...          NaN           NaN\n",
              "13003 2021-07-31 23:52:00  BTC/USDT  ...          NaN           NaN\n",
              "13004 2021-07-31 23:51:00  BTC/USDT  ...          NaN           NaN\n",
              "\n",
              "[10 rows x 9 columns]"
            ]
          },
          "metadata": {
            "tags": []
          },
          "execution_count": 21
        }
      ]
    },
    {
      "cell_type": "code",
      "metadata": {
        "colab": {
          "base_uri": "https://localhost:8080/",
          "height": 357
        },
        "id": "1QhGyOBv1pIG",
        "outputId": "39c5fcce-7c1d-47c8-d891-b22bb5ef914d"
      },
      "source": [
        "df1.tail(10)"
      ],
      "execution_count": 22,
      "outputs": [
        {
          "output_type": "execute_result",
          "data": {
            "text/html": [
              "<div>\n",
              "<style scoped>\n",
              "    .dataframe tbody tr th:only-of-type {\n",
              "        vertical-align: middle;\n",
              "    }\n",
              "\n",
              "    .dataframe tbody tr th {\n",
              "        vertical-align: top;\n",
              "    }\n",
              "\n",
              "    .dataframe thead th {\n",
              "        text-align: right;\n",
              "    }\n",
              "</style>\n",
              "<table border=\"1\" class=\"dataframe\">\n",
              "  <thead>\n",
              "    <tr style=\"text-align: right;\">\n",
              "      <th></th>\n",
              "      <th>TimeStamp</th>\n",
              "      <th>symbol</th>\n",
              "      <th>close</th>\n",
              "      <th>close_5min</th>\n",
              "      <th>close_10min</th>\n",
              "      <th>close_15min</th>\n",
              "      <th>close_30min</th>\n",
              "      <th>close_60min</th>\n",
              "      <th>close_120min</th>\n",
              "    </tr>\n",
              "  </thead>\n",
              "  <tbody>\n",
              "    <tr>\n",
              "      <th>1004735</th>\n",
              "      <td>2019-09-08 19:22:00</td>\n",
              "      <td>BTC/USDT</td>\n",
              "      <td>10352.05</td>\n",
              "      <td>10351.30</td>\n",
              "      <td>10354.64</td>\n",
              "      <td>10341.94</td>\n",
              "      <td>10343.33</td>\n",
              "      <td>10361.27</td>\n",
              "      <td>10335.96</td>\n",
              "    </tr>\n",
              "    <tr>\n",
              "      <th>1004736</th>\n",
              "      <td>2019-09-08 19:21:00</td>\n",
              "      <td>BTC/USDT</td>\n",
              "      <td>10349.19</td>\n",
              "      <td>10343.25</td>\n",
              "      <td>10357.35</td>\n",
              "      <td>10346.18</td>\n",
              "      <td>10345.24</td>\n",
              "      <td>10362.53</td>\n",
              "      <td>10334.74</td>\n",
              "    </tr>\n",
              "    <tr>\n",
              "      <th>1004737</th>\n",
              "      <td>2019-09-08 19:20:00</td>\n",
              "      <td>BTC/USDT</td>\n",
              "      <td>10357.53</td>\n",
              "      <td>10346.00</td>\n",
              "      <td>10355.96</td>\n",
              "      <td>10347.09</td>\n",
              "      <td>10345.24</td>\n",
              "      <td>10357.04</td>\n",
              "      <td>10335.79</td>\n",
              "    </tr>\n",
              "    <tr>\n",
              "      <th>1004738</th>\n",
              "      <td>2019-09-08 19:19:00</td>\n",
              "      <td>BTC/USDT</td>\n",
              "      <td>10349.19</td>\n",
              "      <td>10346.19</td>\n",
              "      <td>10354.62</td>\n",
              "      <td>10346.00</td>\n",
              "      <td>10344.04</td>\n",
              "      <td>10357.15</td>\n",
              "      <td>10330.70</td>\n",
              "    </tr>\n",
              "    <tr>\n",
              "      <th>1004739</th>\n",
              "      <td>2019-09-08 19:18:00</td>\n",
              "      <td>BTC/USDT</td>\n",
              "      <td>10352.51</td>\n",
              "      <td>10346.62</td>\n",
              "      <td>10348.04</td>\n",
              "      <td>10353.14</td>\n",
              "      <td>10344.05</td>\n",
              "      <td>10357.50</td>\n",
              "      <td>10326.52</td>\n",
              "    </tr>\n",
              "    <tr>\n",
              "      <th>1004740</th>\n",
              "      <td>2019-09-08 19:17:00</td>\n",
              "      <td>BTC/USDT</td>\n",
              "      <td>10350.97</td>\n",
              "      <td>10352.05</td>\n",
              "      <td>10351.30</td>\n",
              "      <td>10354.64</td>\n",
              "      <td>10343.97</td>\n",
              "      <td>10357.53</td>\n",
              "      <td>10324.77</td>\n",
              "    </tr>\n",
              "    <tr>\n",
              "      <th>1004741</th>\n",
              "      <td>2019-09-08 19:16:00</td>\n",
              "      <td>BTC/USDT</td>\n",
              "      <td>10347.91</td>\n",
              "      <td>10349.19</td>\n",
              "      <td>10343.25</td>\n",
              "      <td>10357.35</td>\n",
              "      <td>10341.99</td>\n",
              "      <td>10360.08</td>\n",
              "      <td>10325.62</td>\n",
              "    </tr>\n",
              "    <tr>\n",
              "      <th>1004742</th>\n",
              "      <td>2019-09-08 19:15:00</td>\n",
              "      <td>BTC/USDT</td>\n",
              "      <td>10345.41</td>\n",
              "      <td>10357.53</td>\n",
              "      <td>10346.00</td>\n",
              "      <td>10355.96</td>\n",
              "      <td>10340.24</td>\n",
              "      <td>10359.96</td>\n",
              "      <td>10327.47</td>\n",
              "    </tr>\n",
              "    <tr>\n",
              "      <th>1004743</th>\n",
              "      <td>2019-09-08 19:14:00</td>\n",
              "      <td>BTC/USDT</td>\n",
              "      <td>10345.41</td>\n",
              "      <td>10349.19</td>\n",
              "      <td>10346.19</td>\n",
              "      <td>10354.62</td>\n",
              "      <td>10345.74</td>\n",
              "      <td>10358.96</td>\n",
              "      <td>10329.80</td>\n",
              "    </tr>\n",
              "    <tr>\n",
              "      <th>1004744</th>\n",
              "      <td>2019-09-08 19:13:00</td>\n",
              "      <td>BTC/USDT</td>\n",
              "      <td>10345.41</td>\n",
              "      <td>10352.51</td>\n",
              "      <td>10346.62</td>\n",
              "      <td>10348.04</td>\n",
              "      <td>10338.30</td>\n",
              "      <td>10359.93</td>\n",
              "      <td>10328.19</td>\n",
              "    </tr>\n",
              "  </tbody>\n",
              "</table>\n",
              "</div>"
            ],
            "text/plain": [
              "                  TimeStamp    symbol  ...  close_60min  close_120min\n",
              "1004735 2019-09-08 19:22:00  BTC/USDT  ...     10361.27      10335.96\n",
              "1004736 2019-09-08 19:21:00  BTC/USDT  ...     10362.53      10334.74\n",
              "1004737 2019-09-08 19:20:00  BTC/USDT  ...     10357.04      10335.79\n",
              "1004738 2019-09-08 19:19:00  BTC/USDT  ...     10357.15      10330.70\n",
              "1004739 2019-09-08 19:18:00  BTC/USDT  ...     10357.50      10326.52\n",
              "1004740 2019-09-08 19:17:00  BTC/USDT  ...     10357.53      10324.77\n",
              "1004741 2019-09-08 19:16:00  BTC/USDT  ...     10360.08      10325.62\n",
              "1004742 2019-09-08 19:15:00  BTC/USDT  ...     10359.96      10327.47\n",
              "1004743 2019-09-08 19:14:00  BTC/USDT  ...     10358.96      10329.80\n",
              "1004744 2019-09-08 19:13:00  BTC/USDT  ...     10359.93      10328.19\n",
              "\n",
              "[10 rows x 9 columns]"
            ]
          },
          "metadata": {
            "tags": []
          },
          "execution_count": 22
        }
      ]
    },
    {
      "cell_type": "code",
      "metadata": {
        "colab": {
          "base_uri": "https://localhost:8080/"
        },
        "id": "FxrbUf6a1sBi",
        "outputId": "5075d766-7342-44ce-9b3b-9dd335308587"
      },
      "source": [
        "df1.isnull().sum()"
      ],
      "execution_count": 23,
      "outputs": [
        {
          "output_type": "execute_result",
          "data": {
            "text/plain": [
              "TimeStamp         0\n",
              "symbol            0\n",
              "close             0\n",
              "close_5min        5\n",
              "close_10min      10\n",
              "close_15min      15\n",
              "close_30min      30\n",
              "close_60min      60\n",
              "close_120min    120\n",
              "dtype: int64"
            ]
          },
          "metadata": {
            "tags": []
          },
          "execution_count": 23
        }
      ]
    },
    {
      "cell_type": "code",
      "metadata": {
        "colab": {
          "base_uri": "https://localhost:8080/"
        },
        "id": "z8RI6Ulb1vDU",
        "outputId": "9bdae2cf-83c6-4a49-ac17-49575a3be5d6"
      },
      "source": [
        "df1.shape"
      ],
      "execution_count": 24,
      "outputs": [
        {
          "output_type": "execute_result",
          "data": {
            "text/plain": [
              "(991750, 9)"
            ]
          },
          "metadata": {
            "tags": []
          },
          "execution_count": 24
        }
      ]
    },
    {
      "cell_type": "code",
      "metadata": {
        "colab": {
          "base_uri": "https://localhost:8080/"
        },
        "id": "I32SMcFX1xSU",
        "outputId": "c0e6cbd4-d8d1-4f78-f405-64ef325f95d1"
      },
      "source": [
        "df1.dropna(inplace =True) #dropping null values from dataset\n",
        "df1.shape"
      ],
      "execution_count": 25,
      "outputs": [
        {
          "output_type": "execute_result",
          "data": {
            "text/plain": [
              "(991630, 9)"
            ]
          },
          "metadata": {
            "tags": []
          },
          "execution_count": 25
        }
      ]
    },
    {
      "cell_type": "code",
      "metadata": {
        "id": "qPT1EYAB12Y7"
      },
      "source": [
        "df1['diff_5min']= df1['close'] - df1['close_5min'] #creating columns that capture difference between current and future price within above specified time intervals \n",
        "df1['diff_10min']= df1['close'] - df1['close_10min']\n",
        "df1['diff_15min']= df1['close'] - df1['close_15min']\n",
        "df1['diff_30min']= df1['close'] - df1['close_30min']\n",
        "df1['diff_60min']= df1['close'] - df1['close_60min']\n",
        "df1['diff_120min']= df1['close'] - df1['close_120min']"
      ],
      "execution_count": 26,
      "outputs": []
    },
    {
      "cell_type": "code",
      "metadata": {
        "colab": {
          "base_uri": "https://localhost:8080/",
          "height": 713
        },
        "id": "KWUoSrrA2DqY",
        "outputId": "40105ce7-10dd-4470-ea7d-370b29efcdb2"
      },
      "source": [
        "df1.head(10)"
      ],
      "execution_count": 27,
      "outputs": [
        {
          "output_type": "execute_result",
          "data": {
            "text/html": [
              "<div>\n",
              "<style scoped>\n",
              "    .dataframe tbody tr th:only-of-type {\n",
              "        vertical-align: middle;\n",
              "    }\n",
              "\n",
              "    .dataframe tbody tr th {\n",
              "        vertical-align: top;\n",
              "    }\n",
              "\n",
              "    .dataframe thead th {\n",
              "        text-align: right;\n",
              "    }\n",
              "</style>\n",
              "<table border=\"1\" class=\"dataframe\">\n",
              "  <thead>\n",
              "    <tr style=\"text-align: right;\">\n",
              "      <th></th>\n",
              "      <th>TimeStamp</th>\n",
              "      <th>symbol</th>\n",
              "      <th>close</th>\n",
              "      <th>close_5min</th>\n",
              "      <th>close_10min</th>\n",
              "      <th>close_15min</th>\n",
              "      <th>close_30min</th>\n",
              "      <th>close_60min</th>\n",
              "      <th>close_120min</th>\n",
              "      <th>diff_5min</th>\n",
              "      <th>diff_10min</th>\n",
              "      <th>diff_15min</th>\n",
              "      <th>diff_30min</th>\n",
              "      <th>diff_60min</th>\n",
              "      <th>diff_120min</th>\n",
              "    </tr>\n",
              "  </thead>\n",
              "  <tbody>\n",
              "    <tr>\n",
              "      <th>13115</th>\n",
              "      <td>2021-07-31 22:00:00</td>\n",
              "      <td>BTC/USDT</td>\n",
              "      <td>41876.88</td>\n",
              "      <td>41769.56</td>\n",
              "      <td>41786.25</td>\n",
              "      <td>41738.14</td>\n",
              "      <td>41792.89</td>\n",
              "      <td>41821.01</td>\n",
              "      <td>41427.76</td>\n",
              "      <td>107.32</td>\n",
              "      <td>90.63</td>\n",
              "      <td>138.74</td>\n",
              "      <td>83.99</td>\n",
              "      <td>55.87</td>\n",
              "      <td>449.12</td>\n",
              "    </tr>\n",
              "    <tr>\n",
              "      <th>13116</th>\n",
              "      <td>2021-07-31 21:59:00</td>\n",
              "      <td>BTC/USDT</td>\n",
              "      <td>41961.87</td>\n",
              "      <td>41738.01</td>\n",
              "      <td>41765.87</td>\n",
              "      <td>41745.36</td>\n",
              "      <td>41808.87</td>\n",
              "      <td>41863.92</td>\n",
              "      <td>41461.83</td>\n",
              "      <td>223.86</td>\n",
              "      <td>196.00</td>\n",
              "      <td>216.51</td>\n",
              "      <td>153.00</td>\n",
              "      <td>97.95</td>\n",
              "      <td>500.04</td>\n",
              "    </tr>\n",
              "    <tr>\n",
              "      <th>13117</th>\n",
              "      <td>2021-07-31 21:58:00</td>\n",
              "      <td>BTC/USDT</td>\n",
              "      <td>41962.40</td>\n",
              "      <td>41694.51</td>\n",
              "      <td>41808.61</td>\n",
              "      <td>41765.84</td>\n",
              "      <td>41808.56</td>\n",
              "      <td>41847.60</td>\n",
              "      <td>41593.93</td>\n",
              "      <td>267.89</td>\n",
              "      <td>153.79</td>\n",
              "      <td>196.56</td>\n",
              "      <td>153.84</td>\n",
              "      <td>114.80</td>\n",
              "      <td>368.47</td>\n",
              "    </tr>\n",
              "    <tr>\n",
              "      <th>13118</th>\n",
              "      <td>2021-07-31 21:57:00</td>\n",
              "      <td>BTC/USDT</td>\n",
              "      <td>41949.81</td>\n",
              "      <td>41762.38</td>\n",
              "      <td>41769.07</td>\n",
              "      <td>41764.58</td>\n",
              "      <td>41789.49</td>\n",
              "      <td>41841.59</td>\n",
              "      <td>41692.32</td>\n",
              "      <td>187.43</td>\n",
              "      <td>180.74</td>\n",
              "      <td>185.23</td>\n",
              "      <td>160.32</td>\n",
              "      <td>108.22</td>\n",
              "      <td>257.49</td>\n",
              "    </tr>\n",
              "    <tr>\n",
              "      <th>13119</th>\n",
              "      <td>2021-07-31 21:56:00</td>\n",
              "      <td>BTC/USDT</td>\n",
              "      <td>41920.01</td>\n",
              "      <td>41762.97</td>\n",
              "      <td>41735.01</td>\n",
              "      <td>41782.79</td>\n",
              "      <td>41780.33</td>\n",
              "      <td>41824.38</td>\n",
              "      <td>41700.00</td>\n",
              "      <td>157.04</td>\n",
              "      <td>185.00</td>\n",
              "      <td>137.22</td>\n",
              "      <td>139.68</td>\n",
              "      <td>95.63</td>\n",
              "      <td>220.01</td>\n",
              "    </tr>\n",
              "    <tr>\n",
              "      <th>13120</th>\n",
              "      <td>2021-07-31 21:55:00</td>\n",
              "      <td>BTC/USDT</td>\n",
              "      <td>41900.26</td>\n",
              "      <td>41876.88</td>\n",
              "      <td>41769.56</td>\n",
              "      <td>41786.25</td>\n",
              "      <td>41763.26</td>\n",
              "      <td>41875.43</td>\n",
              "      <td>41625.22</td>\n",
              "      <td>23.38</td>\n",
              "      <td>130.70</td>\n",
              "      <td>114.01</td>\n",
              "      <td>137.00</td>\n",
              "      <td>24.83</td>\n",
              "      <td>275.04</td>\n",
              "    </tr>\n",
              "    <tr>\n",
              "      <th>13121</th>\n",
              "      <td>2021-07-31 21:54:00</td>\n",
              "      <td>BTC/USDT</td>\n",
              "      <td>41940.31</td>\n",
              "      <td>41961.87</td>\n",
              "      <td>41738.01</td>\n",
              "      <td>41765.87</td>\n",
              "      <td>41744.91</td>\n",
              "      <td>41893.06</td>\n",
              "      <td>41657.85</td>\n",
              "      <td>-21.56</td>\n",
              "      <td>202.30</td>\n",
              "      <td>174.44</td>\n",
              "      <td>195.40</td>\n",
              "      <td>47.25</td>\n",
              "      <td>282.46</td>\n",
              "    </tr>\n",
              "    <tr>\n",
              "      <th>13122</th>\n",
              "      <td>2021-07-31 21:53:00</td>\n",
              "      <td>BTC/USDT</td>\n",
              "      <td>41900.00</td>\n",
              "      <td>41962.40</td>\n",
              "      <td>41694.51</td>\n",
              "      <td>41808.61</td>\n",
              "      <td>41729.93</td>\n",
              "      <td>41896.60</td>\n",
              "      <td>41706.89</td>\n",
              "      <td>-62.40</td>\n",
              "      <td>205.49</td>\n",
              "      <td>91.39</td>\n",
              "      <td>170.07</td>\n",
              "      <td>3.40</td>\n",
              "      <td>193.11</td>\n",
              "    </tr>\n",
              "    <tr>\n",
              "      <th>13123</th>\n",
              "      <td>2021-07-31 21:52:00</td>\n",
              "      <td>BTC/USDT</td>\n",
              "      <td>41871.26</td>\n",
              "      <td>41949.81</td>\n",
              "      <td>41762.38</td>\n",
              "      <td>41769.07</td>\n",
              "      <td>41729.93</td>\n",
              "      <td>41859.80</td>\n",
              "      <td>41702.79</td>\n",
              "      <td>-78.55</td>\n",
              "      <td>108.88</td>\n",
              "      <td>102.19</td>\n",
              "      <td>141.33</td>\n",
              "      <td>11.46</td>\n",
              "      <td>168.47</td>\n",
              "    </tr>\n",
              "    <tr>\n",
              "      <th>13124</th>\n",
              "      <td>2021-07-31 21:51:00</td>\n",
              "      <td>BTC/USDT</td>\n",
              "      <td>41834.22</td>\n",
              "      <td>41920.01</td>\n",
              "      <td>41762.97</td>\n",
              "      <td>41735.01</td>\n",
              "      <td>41721.11</td>\n",
              "      <td>41863.68</td>\n",
              "      <td>41689.75</td>\n",
              "      <td>-85.79</td>\n",
              "      <td>71.25</td>\n",
              "      <td>99.21</td>\n",
              "      <td>113.11</td>\n",
              "      <td>-29.46</td>\n",
              "      <td>144.47</td>\n",
              "    </tr>\n",
              "  </tbody>\n",
              "</table>\n",
              "</div>"
            ],
            "text/plain": [
              "                TimeStamp    symbol  ...  diff_60min  diff_120min\n",
              "13115 2021-07-31 22:00:00  BTC/USDT  ...       55.87       449.12\n",
              "13116 2021-07-31 21:59:00  BTC/USDT  ...       97.95       500.04\n",
              "13117 2021-07-31 21:58:00  BTC/USDT  ...      114.80       368.47\n",
              "13118 2021-07-31 21:57:00  BTC/USDT  ...      108.22       257.49\n",
              "13119 2021-07-31 21:56:00  BTC/USDT  ...       95.63       220.01\n",
              "13120 2021-07-31 21:55:00  BTC/USDT  ...       24.83       275.04\n",
              "13121 2021-07-31 21:54:00  BTC/USDT  ...       47.25       282.46\n",
              "13122 2021-07-31 21:53:00  BTC/USDT  ...        3.40       193.11\n",
              "13123 2021-07-31 21:52:00  BTC/USDT  ...       11.46       168.47\n",
              "13124 2021-07-31 21:51:00  BTC/USDT  ...      -29.46       144.47\n",
              "\n",
              "[10 rows x 15 columns]"
            ]
          },
          "metadata": {
            "tags": []
          },
          "execution_count": 27
        }
      ]
    },
    {
      "cell_type": "code",
      "metadata": {
        "id": "fc4Yi6dg2Erm"
      },
      "source": [
        "df1['indicator_5min'] = np.where(df1['diff_5min'] > 0, 1, -1) #creating columns that capture uptick and downtick of signals for binary classification task\n",
        "df1['indicator_10min'] = np.where(df1['diff_10min'] > 0, 1, -1)\n",
        "df1['indicator_15min'] = np.where(df1['diff_15min'] > 0, 1, -1)\n",
        "df1['indicator_30min'] = np.where(df1['diff_30min'] > 0, 1, -1)\n",
        "df1['indicator_60min'] = np.where(df1['diff_60min'] > 0, 1, -1)\n",
        "df1['indicator_120min'] = np.where(df1['diff_120min'] > 0, 1, -1)"
      ],
      "execution_count": 28,
      "outputs": []
    },
    {
      "cell_type": "code",
      "metadata": {
        "colab": {
          "base_uri": "https://localhost:8080/"
        },
        "id": "bcUM9M5J2P5Y",
        "outputId": "ddd7714a-2ba9-4d3f-d1bc-9c761a5c9770"
      },
      "source": [
        "df1['indicator_5min'].value_counts() #examining distribution of upticks and downticks"
      ],
      "execution_count": 29,
      "outputs": [
        {
          "output_type": "execute_result",
          "data": {
            "text/plain": [
              "-1    497522\n",
              " 1    494108\n",
              "Name: indicator_5min, dtype: int64"
            ]
          },
          "metadata": {
            "tags": []
          },
          "execution_count": 29
        }
      ]
    },
    {
      "cell_type": "code",
      "metadata": {
        "colab": {
          "base_uri": "https://localhost:8080/"
        },
        "id": "CtH8KIwT2SUC",
        "outputId": "83ebc128-dc8d-4569-b999-e666554cfa63"
      },
      "source": [
        "df1['indicator_10min'].value_counts()"
      ],
      "execution_count": 30,
      "outputs": [
        {
          "output_type": "execute_result",
          "data": {
            "text/plain": [
              "-1    499091\n",
              " 1    492539\n",
              "Name: indicator_10min, dtype: int64"
            ]
          },
          "metadata": {
            "tags": []
          },
          "execution_count": 30
        }
      ]
    },
    {
      "cell_type": "code",
      "metadata": {
        "colab": {
          "base_uri": "https://localhost:8080/"
        },
        "id": "_lpCcuH22WD5",
        "outputId": "12f1f4a1-c692-420a-a8c8-75c62df12cfc"
      },
      "source": [
        "df1['indicator_15min'].value_counts()"
      ],
      "execution_count": 31,
      "outputs": [
        {
          "output_type": "execute_result",
          "data": {
            "text/plain": [
              "-1    500585\n",
              " 1    491045\n",
              "Name: indicator_15min, dtype: int64"
            ]
          },
          "metadata": {
            "tags": []
          },
          "execution_count": 31
        }
      ]
    },
    {
      "cell_type": "code",
      "metadata": {
        "colab": {
          "base_uri": "https://localhost:8080/"
        },
        "id": "VsMkXXtr2WGX",
        "outputId": "fd1d5d2e-d8fb-45e7-99a5-eda9f35b2378"
      },
      "source": [
        "df1['indicator_30min'].value_counts()"
      ],
      "execution_count": 32,
      "outputs": [
        {
          "output_type": "execute_result",
          "data": {
            "text/plain": [
              "-1    503495\n",
              " 1    488135\n",
              "Name: indicator_30min, dtype: int64"
            ]
          },
          "metadata": {
            "tags": []
          },
          "execution_count": 32
        }
      ]
    },
    {
      "cell_type": "code",
      "metadata": {
        "colab": {
          "base_uri": "https://localhost:8080/"
        },
        "id": "g2JtjEN42WJc",
        "outputId": "2d780927-4e19-4302-b77e-d7d65538b367"
      },
      "source": [
        "df1['indicator_60min'].value_counts()"
      ],
      "execution_count": 33,
      "outputs": [
        {
          "output_type": "execute_result",
          "data": {
            "text/plain": [
              "-1    507536\n",
              " 1    484094\n",
              "Name: indicator_60min, dtype: int64"
            ]
          },
          "metadata": {
            "tags": []
          },
          "execution_count": 33
        }
      ]
    },
    {
      "cell_type": "code",
      "metadata": {
        "colab": {
          "base_uri": "https://localhost:8080/"
        },
        "id": "qRWUKVVd2WLU",
        "outputId": "58c68776-63fb-4468-ac56-0ea8e5fd3a98"
      },
      "source": [
        "df1['indicator_120min'].value_counts()"
      ],
      "execution_count": 34,
      "outputs": [
        {
          "output_type": "execute_result",
          "data": {
            "text/plain": [
              "-1    510379\n",
              " 1    481251\n",
              "Name: indicator_120min, dtype: int64"
            ]
          },
          "metadata": {
            "tags": []
          },
          "execution_count": 34
        }
      ]
    },
    {
      "cell_type": "code",
      "metadata": {
        "colab": {
          "base_uri": "https://localhost:8080/",
          "height": 391
        },
        "id": "RQPnVJVx2WNt",
        "outputId": "4cc2d3db-8a52-40b0-f2f6-8edc1fa729e1"
      },
      "source": [
        "df1.head()"
      ],
      "execution_count": 35,
      "outputs": [
        {
          "output_type": "execute_result",
          "data": {
            "text/html": [
              "<div>\n",
              "<style scoped>\n",
              "    .dataframe tbody tr th:only-of-type {\n",
              "        vertical-align: middle;\n",
              "    }\n",
              "\n",
              "    .dataframe tbody tr th {\n",
              "        vertical-align: top;\n",
              "    }\n",
              "\n",
              "    .dataframe thead th {\n",
              "        text-align: right;\n",
              "    }\n",
              "</style>\n",
              "<table border=\"1\" class=\"dataframe\">\n",
              "  <thead>\n",
              "    <tr style=\"text-align: right;\">\n",
              "      <th></th>\n",
              "      <th>TimeStamp</th>\n",
              "      <th>symbol</th>\n",
              "      <th>close</th>\n",
              "      <th>close_5min</th>\n",
              "      <th>close_10min</th>\n",
              "      <th>close_15min</th>\n",
              "      <th>close_30min</th>\n",
              "      <th>close_60min</th>\n",
              "      <th>close_120min</th>\n",
              "      <th>diff_5min</th>\n",
              "      <th>diff_10min</th>\n",
              "      <th>diff_15min</th>\n",
              "      <th>diff_30min</th>\n",
              "      <th>diff_60min</th>\n",
              "      <th>diff_120min</th>\n",
              "      <th>indicator_5min</th>\n",
              "      <th>indicator_10min</th>\n",
              "      <th>indicator_15min</th>\n",
              "      <th>indicator_30min</th>\n",
              "      <th>indicator_60min</th>\n",
              "      <th>indicator_120min</th>\n",
              "    </tr>\n",
              "  </thead>\n",
              "  <tbody>\n",
              "    <tr>\n",
              "      <th>13115</th>\n",
              "      <td>2021-07-31 22:00:00</td>\n",
              "      <td>BTC/USDT</td>\n",
              "      <td>41876.88</td>\n",
              "      <td>41769.56</td>\n",
              "      <td>41786.25</td>\n",
              "      <td>41738.14</td>\n",
              "      <td>41792.89</td>\n",
              "      <td>41821.01</td>\n",
              "      <td>41427.76</td>\n",
              "      <td>107.32</td>\n",
              "      <td>90.63</td>\n",
              "      <td>138.74</td>\n",
              "      <td>83.99</td>\n",
              "      <td>55.87</td>\n",
              "      <td>449.12</td>\n",
              "      <td>1</td>\n",
              "      <td>1</td>\n",
              "      <td>1</td>\n",
              "      <td>1</td>\n",
              "      <td>1</td>\n",
              "      <td>1</td>\n",
              "    </tr>\n",
              "    <tr>\n",
              "      <th>13116</th>\n",
              "      <td>2021-07-31 21:59:00</td>\n",
              "      <td>BTC/USDT</td>\n",
              "      <td>41961.87</td>\n",
              "      <td>41738.01</td>\n",
              "      <td>41765.87</td>\n",
              "      <td>41745.36</td>\n",
              "      <td>41808.87</td>\n",
              "      <td>41863.92</td>\n",
              "      <td>41461.83</td>\n",
              "      <td>223.86</td>\n",
              "      <td>196.00</td>\n",
              "      <td>216.51</td>\n",
              "      <td>153.00</td>\n",
              "      <td>97.95</td>\n",
              "      <td>500.04</td>\n",
              "      <td>1</td>\n",
              "      <td>1</td>\n",
              "      <td>1</td>\n",
              "      <td>1</td>\n",
              "      <td>1</td>\n",
              "      <td>1</td>\n",
              "    </tr>\n",
              "    <tr>\n",
              "      <th>13117</th>\n",
              "      <td>2021-07-31 21:58:00</td>\n",
              "      <td>BTC/USDT</td>\n",
              "      <td>41962.40</td>\n",
              "      <td>41694.51</td>\n",
              "      <td>41808.61</td>\n",
              "      <td>41765.84</td>\n",
              "      <td>41808.56</td>\n",
              "      <td>41847.60</td>\n",
              "      <td>41593.93</td>\n",
              "      <td>267.89</td>\n",
              "      <td>153.79</td>\n",
              "      <td>196.56</td>\n",
              "      <td>153.84</td>\n",
              "      <td>114.80</td>\n",
              "      <td>368.47</td>\n",
              "      <td>1</td>\n",
              "      <td>1</td>\n",
              "      <td>1</td>\n",
              "      <td>1</td>\n",
              "      <td>1</td>\n",
              "      <td>1</td>\n",
              "    </tr>\n",
              "    <tr>\n",
              "      <th>13118</th>\n",
              "      <td>2021-07-31 21:57:00</td>\n",
              "      <td>BTC/USDT</td>\n",
              "      <td>41949.81</td>\n",
              "      <td>41762.38</td>\n",
              "      <td>41769.07</td>\n",
              "      <td>41764.58</td>\n",
              "      <td>41789.49</td>\n",
              "      <td>41841.59</td>\n",
              "      <td>41692.32</td>\n",
              "      <td>187.43</td>\n",
              "      <td>180.74</td>\n",
              "      <td>185.23</td>\n",
              "      <td>160.32</td>\n",
              "      <td>108.22</td>\n",
              "      <td>257.49</td>\n",
              "      <td>1</td>\n",
              "      <td>1</td>\n",
              "      <td>1</td>\n",
              "      <td>1</td>\n",
              "      <td>1</td>\n",
              "      <td>1</td>\n",
              "    </tr>\n",
              "    <tr>\n",
              "      <th>13119</th>\n",
              "      <td>2021-07-31 21:56:00</td>\n",
              "      <td>BTC/USDT</td>\n",
              "      <td>41920.01</td>\n",
              "      <td>41762.97</td>\n",
              "      <td>41735.01</td>\n",
              "      <td>41782.79</td>\n",
              "      <td>41780.33</td>\n",
              "      <td>41824.38</td>\n",
              "      <td>41700.00</td>\n",
              "      <td>157.04</td>\n",
              "      <td>185.00</td>\n",
              "      <td>137.22</td>\n",
              "      <td>139.68</td>\n",
              "      <td>95.63</td>\n",
              "      <td>220.01</td>\n",
              "      <td>1</td>\n",
              "      <td>1</td>\n",
              "      <td>1</td>\n",
              "      <td>1</td>\n",
              "      <td>1</td>\n",
              "      <td>1</td>\n",
              "    </tr>\n",
              "  </tbody>\n",
              "</table>\n",
              "</div>"
            ],
            "text/plain": [
              "                TimeStamp    symbol  ...  indicator_60min  indicator_120min\n",
              "13115 2021-07-31 22:00:00  BTC/USDT  ...                1                 1\n",
              "13116 2021-07-31 21:59:00  BTC/USDT  ...                1                 1\n",
              "13117 2021-07-31 21:58:00  BTC/USDT  ...                1                 1\n",
              "13118 2021-07-31 21:57:00  BTC/USDT  ...                1                 1\n",
              "13119 2021-07-31 21:56:00  BTC/USDT  ...                1                 1\n",
              "\n",
              "[5 rows x 21 columns]"
            ]
          },
          "metadata": {
            "tags": []
          },
          "execution_count": 35
        }
      ]
    },
    {
      "cell_type": "code",
      "metadata": {
        "colab": {
          "base_uri": "https://localhost:8080/",
          "height": 391
        },
        "id": "hCfhQNyU2WQN",
        "outputId": "d0083f86-b9f5-40a8-9a47-f208214e562a"
      },
      "source": [
        "df1.tail()"
      ],
      "execution_count": 36,
      "outputs": [
        {
          "output_type": "execute_result",
          "data": {
            "text/html": [
              "<div>\n",
              "<style scoped>\n",
              "    .dataframe tbody tr th:only-of-type {\n",
              "        vertical-align: middle;\n",
              "    }\n",
              "\n",
              "    .dataframe tbody tr th {\n",
              "        vertical-align: top;\n",
              "    }\n",
              "\n",
              "    .dataframe thead th {\n",
              "        text-align: right;\n",
              "    }\n",
              "</style>\n",
              "<table border=\"1\" class=\"dataframe\">\n",
              "  <thead>\n",
              "    <tr style=\"text-align: right;\">\n",
              "      <th></th>\n",
              "      <th>TimeStamp</th>\n",
              "      <th>symbol</th>\n",
              "      <th>close</th>\n",
              "      <th>close_5min</th>\n",
              "      <th>close_10min</th>\n",
              "      <th>close_15min</th>\n",
              "      <th>close_30min</th>\n",
              "      <th>close_60min</th>\n",
              "      <th>close_120min</th>\n",
              "      <th>diff_5min</th>\n",
              "      <th>diff_10min</th>\n",
              "      <th>diff_15min</th>\n",
              "      <th>diff_30min</th>\n",
              "      <th>diff_60min</th>\n",
              "      <th>diff_120min</th>\n",
              "      <th>indicator_5min</th>\n",
              "      <th>indicator_10min</th>\n",
              "      <th>indicator_15min</th>\n",
              "      <th>indicator_30min</th>\n",
              "      <th>indicator_60min</th>\n",
              "      <th>indicator_120min</th>\n",
              "    </tr>\n",
              "  </thead>\n",
              "  <tbody>\n",
              "    <tr>\n",
              "      <th>1004740</th>\n",
              "      <td>2019-09-08 19:17:00</td>\n",
              "      <td>BTC/USDT</td>\n",
              "      <td>10350.97</td>\n",
              "      <td>10352.05</td>\n",
              "      <td>10351.30</td>\n",
              "      <td>10354.64</td>\n",
              "      <td>10343.97</td>\n",
              "      <td>10357.53</td>\n",
              "      <td>10324.77</td>\n",
              "      <td>-1.08</td>\n",
              "      <td>-0.33</td>\n",
              "      <td>-3.67</td>\n",
              "      <td>7.00</td>\n",
              "      <td>-6.56</td>\n",
              "      <td>26.20</td>\n",
              "      <td>-1</td>\n",
              "      <td>-1</td>\n",
              "      <td>-1</td>\n",
              "      <td>1</td>\n",
              "      <td>-1</td>\n",
              "      <td>1</td>\n",
              "    </tr>\n",
              "    <tr>\n",
              "      <th>1004741</th>\n",
              "      <td>2019-09-08 19:16:00</td>\n",
              "      <td>BTC/USDT</td>\n",
              "      <td>10347.91</td>\n",
              "      <td>10349.19</td>\n",
              "      <td>10343.25</td>\n",
              "      <td>10357.35</td>\n",
              "      <td>10341.99</td>\n",
              "      <td>10360.08</td>\n",
              "      <td>10325.62</td>\n",
              "      <td>-1.28</td>\n",
              "      <td>4.66</td>\n",
              "      <td>-9.44</td>\n",
              "      <td>5.92</td>\n",
              "      <td>-12.17</td>\n",
              "      <td>22.29</td>\n",
              "      <td>-1</td>\n",
              "      <td>1</td>\n",
              "      <td>-1</td>\n",
              "      <td>1</td>\n",
              "      <td>-1</td>\n",
              "      <td>1</td>\n",
              "    </tr>\n",
              "    <tr>\n",
              "      <th>1004742</th>\n",
              "      <td>2019-09-08 19:15:00</td>\n",
              "      <td>BTC/USDT</td>\n",
              "      <td>10345.41</td>\n",
              "      <td>10357.53</td>\n",
              "      <td>10346.00</td>\n",
              "      <td>10355.96</td>\n",
              "      <td>10340.24</td>\n",
              "      <td>10359.96</td>\n",
              "      <td>10327.47</td>\n",
              "      <td>-12.12</td>\n",
              "      <td>-0.59</td>\n",
              "      <td>-10.55</td>\n",
              "      <td>5.17</td>\n",
              "      <td>-14.55</td>\n",
              "      <td>17.94</td>\n",
              "      <td>-1</td>\n",
              "      <td>-1</td>\n",
              "      <td>-1</td>\n",
              "      <td>1</td>\n",
              "      <td>-1</td>\n",
              "      <td>1</td>\n",
              "    </tr>\n",
              "    <tr>\n",
              "      <th>1004743</th>\n",
              "      <td>2019-09-08 19:14:00</td>\n",
              "      <td>BTC/USDT</td>\n",
              "      <td>10345.41</td>\n",
              "      <td>10349.19</td>\n",
              "      <td>10346.19</td>\n",
              "      <td>10354.62</td>\n",
              "      <td>10345.74</td>\n",
              "      <td>10358.96</td>\n",
              "      <td>10329.80</td>\n",
              "      <td>-3.78</td>\n",
              "      <td>-0.78</td>\n",
              "      <td>-9.21</td>\n",
              "      <td>-0.33</td>\n",
              "      <td>-13.55</td>\n",
              "      <td>15.61</td>\n",
              "      <td>-1</td>\n",
              "      <td>-1</td>\n",
              "      <td>-1</td>\n",
              "      <td>-1</td>\n",
              "      <td>-1</td>\n",
              "      <td>1</td>\n",
              "    </tr>\n",
              "    <tr>\n",
              "      <th>1004744</th>\n",
              "      <td>2019-09-08 19:13:00</td>\n",
              "      <td>BTC/USDT</td>\n",
              "      <td>10345.41</td>\n",
              "      <td>10352.51</td>\n",
              "      <td>10346.62</td>\n",
              "      <td>10348.04</td>\n",
              "      <td>10338.30</td>\n",
              "      <td>10359.93</td>\n",
              "      <td>10328.19</td>\n",
              "      <td>-7.10</td>\n",
              "      <td>-1.21</td>\n",
              "      <td>-2.63</td>\n",
              "      <td>7.11</td>\n",
              "      <td>-14.52</td>\n",
              "      <td>17.22</td>\n",
              "      <td>-1</td>\n",
              "      <td>-1</td>\n",
              "      <td>-1</td>\n",
              "      <td>1</td>\n",
              "      <td>-1</td>\n",
              "      <td>1</td>\n",
              "    </tr>\n",
              "  </tbody>\n",
              "</table>\n",
              "</div>"
            ],
            "text/plain": [
              "                  TimeStamp    symbol  ...  indicator_60min  indicator_120min\n",
              "1004740 2019-09-08 19:17:00  BTC/USDT  ...               -1                 1\n",
              "1004741 2019-09-08 19:16:00  BTC/USDT  ...               -1                 1\n",
              "1004742 2019-09-08 19:15:00  BTC/USDT  ...               -1                 1\n",
              "1004743 2019-09-08 19:14:00  BTC/USDT  ...               -1                 1\n",
              "1004744 2019-09-08 19:13:00  BTC/USDT  ...               -1                 1\n",
              "\n",
              "[5 rows x 21 columns]"
            ]
          },
          "metadata": {
            "tags": []
          },
          "execution_count": 36
        }
      ]
    },
    {
      "cell_type": "code",
      "metadata": {
        "colab": {
          "base_uri": "https://localhost:8080/"
        },
        "id": "nvMTiRDI2WSh",
        "outputId": "ce59a8db-3697-4dc9-e121-887dcefe8dd8"
      },
      "source": [
        "df1.info() #attibute - datatype information"
      ],
      "execution_count": 37,
      "outputs": [
        {
          "output_type": "stream",
          "text": [
            "<class 'pandas.core.frame.DataFrame'>\n",
            "Int64Index: 991630 entries, 13115 to 1004744\n",
            "Data columns (total 21 columns):\n",
            " #   Column            Non-Null Count   Dtype         \n",
            "---  ------            --------------   -----         \n",
            " 0   TimeStamp         991630 non-null  datetime64[ns]\n",
            " 1   symbol            991630 non-null  object        \n",
            " 2   close             991630 non-null  float64       \n",
            " 3   close_5min        991630 non-null  float64       \n",
            " 4   close_10min       991630 non-null  float64       \n",
            " 5   close_15min       991630 non-null  float64       \n",
            " 6   close_30min       991630 non-null  float64       \n",
            " 7   close_60min       991630 non-null  float64       \n",
            " 8   close_120min      991630 non-null  float64       \n",
            " 9   diff_5min         991630 non-null  float64       \n",
            " 10  diff_10min        991630 non-null  float64       \n",
            " 11  diff_15min        991630 non-null  float64       \n",
            " 12  diff_30min        991630 non-null  float64       \n",
            " 13  diff_60min        991630 non-null  float64       \n",
            " 14  diff_120min       991630 non-null  float64       \n",
            " 15  indicator_5min    991630 non-null  int64         \n",
            " 16  indicator_10min   991630 non-null  int64         \n",
            " 17  indicator_15min   991630 non-null  int64         \n",
            " 18  indicator_30min   991630 non-null  int64         \n",
            " 19  indicator_60min   991630 non-null  int64         \n",
            " 20  indicator_120min  991630 non-null  int64         \n",
            "dtypes: datetime64[ns](1), float64(13), int64(6), object(1)\n",
            "memory usage: 166.4+ MB\n"
          ],
          "name": "stdout"
        }
      ]
    },
    {
      "cell_type": "code",
      "metadata": {
        "id": "Wzaj0BWE2WU3"
      },
      "source": [
        "df2=pd.read_csv('text_final.csv') #reading dataset containing telegram messages"
      ],
      "execution_count": 39,
      "outputs": []
    },
    {
      "cell_type": "code",
      "metadata": {
        "colab": {
          "base_uri": "https://localhost:8080/",
          "height": 357
        },
        "id": "YDbS1uMz2WXn",
        "outputId": "b28b4cc3-3462-428a-c4c8-d9873454db20"
      },
      "source": [
        "df2.head(10) #visualising dataset"
      ],
      "execution_count": 41,
      "outputs": [
        {
          "output_type": "execute_result",
          "data": {
            "text/html": [
              "<div>\n",
              "<style scoped>\n",
              "    .dataframe tbody tr th:only-of-type {\n",
              "        vertical-align: middle;\n",
              "    }\n",
              "\n",
              "    .dataframe tbody tr th {\n",
              "        vertical-align: top;\n",
              "    }\n",
              "\n",
              "    .dataframe thead th {\n",
              "        text-align: right;\n",
              "    }\n",
              "</style>\n",
              "<table border=\"1\" class=\"dataframe\">\n",
              "  <thead>\n",
              "    <tr style=\"text-align: right;\">\n",
              "      <th></th>\n",
              "      <th>TimeStamp</th>\n",
              "      <th>Channel_Name</th>\n",
              "      <th>Message</th>\n",
              "    </tr>\n",
              "  </thead>\n",
              "  <tbody>\n",
              "    <tr>\n",
              "      <th>0</th>\n",
              "      <td>2019-01-01 05:54:17</td>\n",
              "      <td>Crypto Profit Coach™</td>\n",
              "      <td>❗ READ INSTRUCTIONS BELOW❗\\n\\n1) Sign up to Yo...</td>\n",
              "    </tr>\n",
              "    <tr>\n",
              "      <th>1</th>\n",
              "      <td>2019-01-01 06:03:21</td>\n",
              "      <td>Whales Crypto Guide</td>\n",
              "      <td>Buy DLT between 950-990 satoshi.\\n \\nIn consol...</td>\n",
              "    </tr>\n",
              "    <tr>\n",
              "      <th>2</th>\n",
              "      <td>2019-01-01 06:03:32</td>\n",
              "      <td>Whales Crypto Guide</td>\n",
              "      <td>DLT signal was given in VIP channel 10 hours b...</td>\n",
              "    </tr>\n",
              "    <tr>\n",
              "      <th>3</th>\n",
              "      <td>2019-01-01 06:29:39</td>\n",
              "      <td>Coingape-Crypto Breaking News, Price Analysis,...</td>\n",
              "      <td>#CryptoNews\\nAfrica now accounts for the highe...</td>\n",
              "    </tr>\n",
              "    <tr>\n",
              "      <th>4</th>\n",
              "      <td>2019-01-01 08:00:32</td>\n",
              "      <td>Crypto Profit Coach™</td>\n",
              "      <td>ℹ Coin signal information ℹ\\n\\nDate: Tuesday, ...</td>\n",
              "    </tr>\n",
              "    <tr>\n",
              "      <th>5</th>\n",
              "      <td>2019-01-01 09:46:30</td>\n",
              "      <td>Coingape-Crypto Breaking News, Price Analysis,...</td>\n",
              "      <td>It is a Coindesk’s Influencer List or a paid c...</td>\n",
              "    </tr>\n",
              "    <tr>\n",
              "      <th>6</th>\n",
              "      <td>2019-01-01 10:00:22</td>\n",
              "      <td>Crypto Profit Coach™</td>\n",
              "      <td>ℹ️ 7 HOURS UNTIL THE COIN TO BUY IS RELEASED ℹ...</td>\n",
              "    </tr>\n",
              "    <tr>\n",
              "      <th>7</th>\n",
              "      <td>2019-01-01 10:39:32</td>\n",
              "      <td>Crypto Profit Coach™</td>\n",
              "      <td>#DLT signal given few days back..n buy signal ...</td>\n",
              "    </tr>\n",
              "    <tr>\n",
              "      <th>8</th>\n",
              "      <td>2019-01-01 11:00:20</td>\n",
              "      <td>Binance Royal Pump</td>\n",
              "      <td>🔥 Last 4 hours 30 mins to the binance pump !!!...</td>\n",
              "    </tr>\n",
              "    <tr>\n",
              "      <th>9</th>\n",
              "      <td>2019-01-01 12:30:05</td>\n",
              "      <td>Binance Royal Pump</td>\n",
              "      <td>🚀 Today we're going to do two special pumps fo...</td>\n",
              "    </tr>\n",
              "  </tbody>\n",
              "</table>\n",
              "</div>"
            ],
            "text/plain": [
              "             TimeStamp  ...                                            Message\n",
              "0  2019-01-01 05:54:17  ...  ❗ READ INSTRUCTIONS BELOW❗\\n\\n1) Sign up to Yo...\n",
              "1  2019-01-01 06:03:21  ...  Buy DLT between 950-990 satoshi.\\n \\nIn consol...\n",
              "2  2019-01-01 06:03:32  ...  DLT signal was given in VIP channel 10 hours b...\n",
              "3  2019-01-01 06:29:39  ...  #CryptoNews\\nAfrica now accounts for the highe...\n",
              "4  2019-01-01 08:00:32  ...  ℹ Coin signal information ℹ\\n\\nDate: Tuesday, ...\n",
              "5  2019-01-01 09:46:30  ...  It is a Coindesk’s Influencer List or a paid c...\n",
              "6  2019-01-01 10:00:22  ...  ℹ️ 7 HOURS UNTIL THE COIN TO BUY IS RELEASED ℹ...\n",
              "7  2019-01-01 10:39:32  ...  #DLT signal given few days back..n buy signal ...\n",
              "8  2019-01-01 11:00:20  ...  🔥 Last 4 hours 30 mins to the binance pump !!!...\n",
              "9  2019-01-01 12:30:05  ...  🚀 Today we're going to do two special pumps fo...\n",
              "\n",
              "[10 rows x 3 columns]"
            ]
          },
          "metadata": {
            "tags": []
          },
          "execution_count": 41
        }
      ]
    },
    {
      "cell_type": "code",
      "metadata": {
        "id": "VkNnNjUb2WZx"
      },
      "source": [
        "df1['TimeStamp'] = pd.to_datetime(df1['TimeStamp']) #type conversion of attribute timestamp\n",
        "df2['TimeStamp'] = pd.to_datetime(df2['TimeStamp'])"
      ],
      "execution_count": 42,
      "outputs": []
    },
    {
      "cell_type": "code",
      "metadata": {
        "id": "t7Kg_ee02WdL"
      },
      "source": [
        "df2.TimeStamp = df2.TimeStamp.map(lambda x: x.replace(second=0)) #replacing seconds under attribute timestamp in dataframe text_final to index with token price "
      ],
      "execution_count": 43,
      "outputs": []
    },
    {
      "cell_type": "code",
      "metadata": {
        "colab": {
          "base_uri": "https://localhost:8080/",
          "height": 203
        },
        "id": "5q1Wm0SX3M1P",
        "outputId": "724b30ff-e031-4079-9352-7b06fbb08917"
      },
      "source": [
        "df2.head()"
      ],
      "execution_count": 44,
      "outputs": [
        {
          "output_type": "execute_result",
          "data": {
            "text/html": [
              "<div>\n",
              "<style scoped>\n",
              "    .dataframe tbody tr th:only-of-type {\n",
              "        vertical-align: middle;\n",
              "    }\n",
              "\n",
              "    .dataframe tbody tr th {\n",
              "        vertical-align: top;\n",
              "    }\n",
              "\n",
              "    .dataframe thead th {\n",
              "        text-align: right;\n",
              "    }\n",
              "</style>\n",
              "<table border=\"1\" class=\"dataframe\">\n",
              "  <thead>\n",
              "    <tr style=\"text-align: right;\">\n",
              "      <th></th>\n",
              "      <th>TimeStamp</th>\n",
              "      <th>Channel_Name</th>\n",
              "      <th>Message</th>\n",
              "    </tr>\n",
              "  </thead>\n",
              "  <tbody>\n",
              "    <tr>\n",
              "      <th>0</th>\n",
              "      <td>2019-01-01 05:54:00</td>\n",
              "      <td>Crypto Profit Coach™</td>\n",
              "      <td>❗ READ INSTRUCTIONS BELOW❗\\n\\n1) Sign up to Yo...</td>\n",
              "    </tr>\n",
              "    <tr>\n",
              "      <th>1</th>\n",
              "      <td>2019-01-01 06:03:00</td>\n",
              "      <td>Whales Crypto Guide</td>\n",
              "      <td>Buy DLT between 950-990 satoshi.\\n \\nIn consol...</td>\n",
              "    </tr>\n",
              "    <tr>\n",
              "      <th>2</th>\n",
              "      <td>2019-01-01 06:03:00</td>\n",
              "      <td>Whales Crypto Guide</td>\n",
              "      <td>DLT signal was given in VIP channel 10 hours b...</td>\n",
              "    </tr>\n",
              "    <tr>\n",
              "      <th>3</th>\n",
              "      <td>2019-01-01 06:29:00</td>\n",
              "      <td>Coingape-Crypto Breaking News, Price Analysis,...</td>\n",
              "      <td>#CryptoNews\\nAfrica now accounts for the highe...</td>\n",
              "    </tr>\n",
              "    <tr>\n",
              "      <th>4</th>\n",
              "      <td>2019-01-01 08:00:00</td>\n",
              "      <td>Crypto Profit Coach™</td>\n",
              "      <td>ℹ Coin signal information ℹ\\n\\nDate: Tuesday, ...</td>\n",
              "    </tr>\n",
              "  </tbody>\n",
              "</table>\n",
              "</div>"
            ],
            "text/plain": [
              "            TimeStamp  ...                                            Message\n",
              "0 2019-01-01 05:54:00  ...  ❗ READ INSTRUCTIONS BELOW❗\\n\\n1) Sign up to Yo...\n",
              "1 2019-01-01 06:03:00  ...  Buy DLT between 950-990 satoshi.\\n \\nIn consol...\n",
              "2 2019-01-01 06:03:00  ...  DLT signal was given in VIP channel 10 hours b...\n",
              "3 2019-01-01 06:29:00  ...  #CryptoNews\\nAfrica now accounts for the highe...\n",
              "4 2019-01-01 08:00:00  ...  ℹ Coin signal information ℹ\\n\\nDate: Tuesday, ...\n",
              "\n",
              "[5 rows x 3 columns]"
            ]
          },
          "metadata": {
            "tags": []
          },
          "execution_count": 44
        }
      ]
    },
    {
      "cell_type": "code",
      "metadata": {
        "colab": {
          "base_uri": "https://localhost:8080/",
          "height": 203
        },
        "id": "ZAJapkPW3RE8",
        "outputId": "9d244f83-4da9-4238-96b7-10773cb41747"
      },
      "source": [
        "df2.tail()"
      ],
      "execution_count": 45,
      "outputs": [
        {
          "output_type": "execute_result",
          "data": {
            "text/html": [
              "<div>\n",
              "<style scoped>\n",
              "    .dataframe tbody tr th:only-of-type {\n",
              "        vertical-align: middle;\n",
              "    }\n",
              "\n",
              "    .dataframe tbody tr th {\n",
              "        vertical-align: top;\n",
              "    }\n",
              "\n",
              "    .dataframe thead th {\n",
              "        text-align: right;\n",
              "    }\n",
              "</style>\n",
              "<table border=\"1\" class=\"dataframe\">\n",
              "  <thead>\n",
              "    <tr style=\"text-align: right;\">\n",
              "      <th></th>\n",
              "      <th>TimeStamp</th>\n",
              "      <th>Channel_Name</th>\n",
              "      <th>Message</th>\n",
              "    </tr>\n",
              "  </thead>\n",
              "  <tbody>\n",
              "    <tr>\n",
              "      <th>43232</th>\n",
              "      <td>2021-07-31 16:42:00</td>\n",
              "      <td>Uniswap Unicorns 🦄 PreSale / DeFi / News</td>\n",
              "      <td>#Bitcoin (BTC) Closes 10 Daily-Green Candles i...</td>\n",
              "    </tr>\n",
              "    <tr>\n",
              "      <th>43233</th>\n",
              "      <td>2021-07-31 17:20:00</td>\n",
              "      <td>Whales Crypto Guide</td>\n",
              "      <td>You Can Buy Some #WRX Around 1.12$\\n \\nFundame...</td>\n",
              "    </tr>\n",
              "    <tr>\n",
              "      <th>43234</th>\n",
              "      <td>2021-07-31 19:18:00</td>\n",
              "      <td>Coingape-Crypto Breaking News, Price Analysis,...</td>\n",
              "      <td>Bitstamp CEO is “Blown Away” by the Rising Eth...</td>\n",
              "    </tr>\n",
              "    <tr>\n",
              "      <th>43235</th>\n",
              "      <td>2021-07-31 21:55:00</td>\n",
              "      <td>Coingape-Crypto Breaking News, Price Analysis,...</td>\n",
              "      <td>Wealthfront ($21 Billion AUM) Offers Cryptocur...</td>\n",
              "    </tr>\n",
              "    <tr>\n",
              "      <th>43236</th>\n",
              "      <td>2021-07-31 22:04:00</td>\n",
              "      <td>Coingape-Crypto Breaking News, Price Analysis,...</td>\n",
              "      <td>Peter Schiff calls MicroStrategy’s Saylor “mad...</td>\n",
              "    </tr>\n",
              "  </tbody>\n",
              "</table>\n",
              "</div>"
            ],
            "text/plain": [
              "                TimeStamp  ...                                            Message\n",
              "43232 2021-07-31 16:42:00  ...  #Bitcoin (BTC) Closes 10 Daily-Green Candles i...\n",
              "43233 2021-07-31 17:20:00  ...  You Can Buy Some #WRX Around 1.12$\\n \\nFundame...\n",
              "43234 2021-07-31 19:18:00  ...  Bitstamp CEO is “Blown Away” by the Rising Eth...\n",
              "43235 2021-07-31 21:55:00  ...  Wealthfront ($21 Billion AUM) Offers Cryptocur...\n",
              "43236 2021-07-31 22:04:00  ...  Peter Schiff calls MicroStrategy’s Saylor “mad...\n",
              "\n",
              "[5 rows x 3 columns]"
            ]
          },
          "metadata": {
            "tags": []
          },
          "execution_count": 45
        }
      ]
    },
    {
      "cell_type": "code",
      "metadata": {
        "colab": {
          "base_uri": "https://localhost:8080/"
        },
        "id": "0Llyb40V3Umj",
        "outputId": "73096781-fa01-49ac-af19-e55910d91ee6"
      },
      "source": [
        "df2.shape"
      ],
      "execution_count": 46,
      "outputs": [
        {
          "output_type": "execute_result",
          "data": {
            "text/plain": [
              "(43237, 3)"
            ]
          },
          "metadata": {
            "tags": []
          },
          "execution_count": 46
        }
      ]
    },
    {
      "cell_type": "code",
      "metadata": {
        "id": "KlnHpXot3mKi"
      },
      "source": [
        "df = pd.merge(df2, df1, on='TimeStamp',how = 'inner' ) #joining dataframe containing telegram data & binance token price information "
      ],
      "execution_count": 47,
      "outputs": []
    },
    {
      "cell_type": "code",
      "metadata": {
        "colab": {
          "base_uri": "https://localhost:8080/"
        },
        "id": "w-COCx284JZ-",
        "outputId": "002a40c8-ec37-426d-9853-bffd1ab9a343"
      },
      "source": [
        "df.shape"
      ],
      "execution_count": 48,
      "outputs": [
        {
          "output_type": "execute_result",
          "data": {
            "text/plain": [
              "(37757, 23)"
            ]
          },
          "metadata": {
            "tags": []
          },
          "execution_count": 48
        }
      ]
    },
    {
      "cell_type": "code",
      "metadata": {
        "colab": {
          "base_uri": "https://localhost:8080/",
          "height": 610
        },
        "id": "I76KAUkH4KZ6",
        "outputId": "3749d8fe-62ff-437b-df4f-b63dd7a9dc4f"
      },
      "source": [
        "df.head() #visualising dataframe"
      ],
      "execution_count": 49,
      "outputs": [
        {
          "output_type": "execute_result",
          "data": {
            "text/html": [
              "<div>\n",
              "<style scoped>\n",
              "    .dataframe tbody tr th:only-of-type {\n",
              "        vertical-align: middle;\n",
              "    }\n",
              "\n",
              "    .dataframe tbody tr th {\n",
              "        vertical-align: top;\n",
              "    }\n",
              "\n",
              "    .dataframe thead th {\n",
              "        text-align: right;\n",
              "    }\n",
              "</style>\n",
              "<table border=\"1\" class=\"dataframe\">\n",
              "  <thead>\n",
              "    <tr style=\"text-align: right;\">\n",
              "      <th></th>\n",
              "      <th>TimeStamp</th>\n",
              "      <th>Channel_Name</th>\n",
              "      <th>Message</th>\n",
              "      <th>symbol</th>\n",
              "      <th>close</th>\n",
              "      <th>close_5min</th>\n",
              "      <th>close_10min</th>\n",
              "      <th>close_15min</th>\n",
              "      <th>close_30min</th>\n",
              "      <th>close_60min</th>\n",
              "      <th>close_120min</th>\n",
              "      <th>diff_5min</th>\n",
              "      <th>diff_10min</th>\n",
              "      <th>diff_15min</th>\n",
              "      <th>diff_30min</th>\n",
              "      <th>diff_60min</th>\n",
              "      <th>diff_120min</th>\n",
              "      <th>indicator_5min</th>\n",
              "      <th>indicator_10min</th>\n",
              "      <th>indicator_15min</th>\n",
              "      <th>indicator_30min</th>\n",
              "      <th>indicator_60min</th>\n",
              "      <th>indicator_120min</th>\n",
              "    </tr>\n",
              "  </thead>\n",
              "  <tbody>\n",
              "    <tr>\n",
              "      <th>0</th>\n",
              "      <td>2019-09-08 19:29:00</td>\n",
              "      <td>Crypto VIP Signal™</td>\n",
              "      <td>Today's Big Bang Call Summary 📌\\n\\n$DATA Call ...</td>\n",
              "      <td>BTC/USDT</td>\n",
              "      <td>10354.62</td>\n",
              "      <td>10346.00</td>\n",
              "      <td>10341.14</td>\n",
              "      <td>10345.74</td>\n",
              "      <td>10340.12</td>\n",
              "      <td>10351.83</td>\n",
              "      <td>10343.36</td>\n",
              "      <td>8.62</td>\n",
              "      <td>13.48</td>\n",
              "      <td>8.88</td>\n",
              "      <td>14.50</td>\n",
              "      <td>2.79</td>\n",
              "      <td>11.26</td>\n",
              "      <td>1</td>\n",
              "      <td>1</td>\n",
              "      <td>1</td>\n",
              "      <td>1</td>\n",
              "      <td>1</td>\n",
              "      <td>1</td>\n",
              "    </tr>\n",
              "    <tr>\n",
              "      <th>1</th>\n",
              "      <td>2019-09-08 20:16:00</td>\n",
              "      <td>Coingape-Crypto Breaking News, Price Analysis,...</td>\n",
              "      <td>Will Binance.US Launch Bring in Benefits for A...</td>\n",
              "      <td>BTC/USDT</td>\n",
              "      <td>10360.08</td>\n",
              "      <td>10362.53</td>\n",
              "      <td>10361.69</td>\n",
              "      <td>10350.54</td>\n",
              "      <td>10349.37</td>\n",
              "      <td>10325.62</td>\n",
              "      <td>10401.11</td>\n",
              "      <td>-2.45</td>\n",
              "      <td>-1.61</td>\n",
              "      <td>9.54</td>\n",
              "      <td>10.71</td>\n",
              "      <td>34.46</td>\n",
              "      <td>-41.03</td>\n",
              "      <td>-1</td>\n",
              "      <td>-1</td>\n",
              "      <td>1</td>\n",
              "      <td>1</td>\n",
              "      <td>1</td>\n",
              "      <td>-1</td>\n",
              "    </tr>\n",
              "    <tr>\n",
              "      <th>2</th>\n",
              "      <td>2019-09-08 22:12:00</td>\n",
              "      <td>Coingape-Crypto Breaking News, Price Analysis,...</td>\n",
              "      <td>Why Ongoing US &amp; China Trade War Might Fuel Th...</td>\n",
              "      <td>BTC/USDT</td>\n",
              "      <td>10404.87</td>\n",
              "      <td>10407.78</td>\n",
              "      <td>10404.71</td>\n",
              "      <td>10397.27</td>\n",
              "      <td>10390.85</td>\n",
              "      <td>10368.02</td>\n",
              "      <td>10391.63</td>\n",
              "      <td>-2.91</td>\n",
              "      <td>0.16</td>\n",
              "      <td>7.60</td>\n",
              "      <td>14.02</td>\n",
              "      <td>36.85</td>\n",
              "      <td>13.24</td>\n",
              "      <td>-1</td>\n",
              "      <td>1</td>\n",
              "      <td>1</td>\n",
              "      <td>1</td>\n",
              "      <td>1</td>\n",
              "      <td>1</td>\n",
              "    </tr>\n",
              "    <tr>\n",
              "      <th>3</th>\n",
              "      <td>2019-09-08 22:39:00</td>\n",
              "      <td>Binance Waves</td>\n",
              "      <td>New signal posted in vip only, small whales, w...</td>\n",
              "      <td>BTC/USDT</td>\n",
              "      <td>10391.95</td>\n",
              "      <td>10389.12</td>\n",
              "      <td>10388.02</td>\n",
              "      <td>10382.71</td>\n",
              "      <td>10370.01</td>\n",
              "      <td>10391.86</td>\n",
              "      <td>10391.63</td>\n",
              "      <td>2.83</td>\n",
              "      <td>3.93</td>\n",
              "      <td>9.24</td>\n",
              "      <td>21.94</td>\n",
              "      <td>0.09</td>\n",
              "      <td>0.32</td>\n",
              "      <td>1</td>\n",
              "      <td>1</td>\n",
              "      <td>1</td>\n",
              "      <td>1</td>\n",
              "      <td>1</td>\n",
              "      <td>1</td>\n",
              "    </tr>\n",
              "    <tr>\n",
              "      <th>4</th>\n",
              "      <td>2019-09-09 07:04:00</td>\n",
              "      <td>Coingape-Crypto Breaking News, Price Analysis,...</td>\n",
              "      <td>Analyst Predicts 60% Drop in Altcoin Relative ...</td>\n",
              "      <td>BTC/USDT</td>\n",
              "      <td>10257.69</td>\n",
              "      <td>10214.63</td>\n",
              "      <td>10217.73</td>\n",
              "      <td>10218.94</td>\n",
              "      <td>10127.07</td>\n",
              "      <td>10115.58</td>\n",
              "      <td>10153.14</td>\n",
              "      <td>43.06</td>\n",
              "      <td>39.96</td>\n",
              "      <td>38.75</td>\n",
              "      <td>130.62</td>\n",
              "      <td>142.11</td>\n",
              "      <td>104.55</td>\n",
              "      <td>1</td>\n",
              "      <td>1</td>\n",
              "      <td>1</td>\n",
              "      <td>1</td>\n",
              "      <td>1</td>\n",
              "      <td>1</td>\n",
              "    </tr>\n",
              "  </tbody>\n",
              "</table>\n",
              "</div>"
            ],
            "text/plain": [
              "            TimeStamp  ... indicator_120min\n",
              "0 2019-09-08 19:29:00  ...                1\n",
              "1 2019-09-08 20:16:00  ...               -1\n",
              "2 2019-09-08 22:12:00  ...                1\n",
              "3 2019-09-08 22:39:00  ...                1\n",
              "4 2019-09-09 07:04:00  ...                1\n",
              "\n",
              "[5 rows x 23 columns]"
            ]
          },
          "metadata": {
            "tags": []
          },
          "execution_count": 49
        }
      ]
    },
    {
      "cell_type": "code",
      "metadata": {
        "colab": {
          "base_uri": "https://localhost:8080/"
        },
        "id": "v1x-knil4NEI",
        "outputId": "98e9d7fe-7059-4cbc-d563-9142ef932b7f"
      },
      "source": [
        "df.info()"
      ],
      "execution_count": 50,
      "outputs": [
        {
          "output_type": "stream",
          "text": [
            "<class 'pandas.core.frame.DataFrame'>\n",
            "Int64Index: 37757 entries, 0 to 37756\n",
            "Data columns (total 23 columns):\n",
            " #   Column            Non-Null Count  Dtype         \n",
            "---  ------            --------------  -----         \n",
            " 0   TimeStamp         37757 non-null  datetime64[ns]\n",
            " 1   Channel_Name      37757 non-null  object        \n",
            " 2   Message           37757 non-null  object        \n",
            " 3   symbol            37757 non-null  object        \n",
            " 4   close             37757 non-null  float64       \n",
            " 5   close_5min        37757 non-null  float64       \n",
            " 6   close_10min       37757 non-null  float64       \n",
            " 7   close_15min       37757 non-null  float64       \n",
            " 8   close_30min       37757 non-null  float64       \n",
            " 9   close_60min       37757 non-null  float64       \n",
            " 10  close_120min      37757 non-null  float64       \n",
            " 11  diff_5min         37757 non-null  float64       \n",
            " 12  diff_10min        37757 non-null  float64       \n",
            " 13  diff_15min        37757 non-null  float64       \n",
            " 14  diff_30min        37757 non-null  float64       \n",
            " 15  diff_60min        37757 non-null  float64       \n",
            " 16  diff_120min       37757 non-null  float64       \n",
            " 17  indicator_5min    37757 non-null  int64         \n",
            " 18  indicator_10min   37757 non-null  int64         \n",
            " 19  indicator_15min   37757 non-null  int64         \n",
            " 20  indicator_30min   37757 non-null  int64         \n",
            " 21  indicator_60min   37757 non-null  int64         \n",
            " 22  indicator_120min  37757 non-null  int64         \n",
            "dtypes: datetime64[ns](1), float64(13), int64(6), object(3)\n",
            "memory usage: 6.9+ MB\n"
          ],
          "name": "stdout"
        }
      ]
    },
    {
      "cell_type": "code",
      "metadata": {
        "id": "MypJN_OV6mlk"
      },
      "source": [
        "#filtering attributes for further analysis "
      ],
      "execution_count": 51,
      "outputs": []
    },
    {
      "cell_type": "code",
      "metadata": {
        "id": "TKuM6-t-4Qxn"
      },
      "source": [
        "df1=df[['TimeStamp','symbol','Message','indicator_5min','indicator_10min','indicator_15min','indicator_30min','indicator_60min','indicator_120min']]"
      ],
      "execution_count": 52,
      "outputs": []
    },
    {
      "cell_type": "code",
      "metadata": {
        "colab": {
          "base_uri": "https://localhost:8080/",
          "height": 371
        },
        "id": "cuERcQDA4Xon",
        "outputId": "4c910e59-919a-4776-e3c2-fb8a2ac30d5a"
      },
      "source": [
        "df1.head()"
      ],
      "execution_count": 53,
      "outputs": [
        {
          "output_type": "execute_result",
          "data": {
            "text/html": [
              "<div>\n",
              "<style scoped>\n",
              "    .dataframe tbody tr th:only-of-type {\n",
              "        vertical-align: middle;\n",
              "    }\n",
              "\n",
              "    .dataframe tbody tr th {\n",
              "        vertical-align: top;\n",
              "    }\n",
              "\n",
              "    .dataframe thead th {\n",
              "        text-align: right;\n",
              "    }\n",
              "</style>\n",
              "<table border=\"1\" class=\"dataframe\">\n",
              "  <thead>\n",
              "    <tr style=\"text-align: right;\">\n",
              "      <th></th>\n",
              "      <th>TimeStamp</th>\n",
              "      <th>symbol</th>\n",
              "      <th>Message</th>\n",
              "      <th>indicator_5min</th>\n",
              "      <th>indicator_10min</th>\n",
              "      <th>indicator_15min</th>\n",
              "      <th>indicator_30min</th>\n",
              "      <th>indicator_60min</th>\n",
              "      <th>indicator_120min</th>\n",
              "    </tr>\n",
              "  </thead>\n",
              "  <tbody>\n",
              "    <tr>\n",
              "      <th>0</th>\n",
              "      <td>2019-09-08 19:29:00</td>\n",
              "      <td>BTC/USDT</td>\n",
              "      <td>Today's Big Bang Call Summary 📌\\n\\n$DATA Call ...</td>\n",
              "      <td>1</td>\n",
              "      <td>1</td>\n",
              "      <td>1</td>\n",
              "      <td>1</td>\n",
              "      <td>1</td>\n",
              "      <td>1</td>\n",
              "    </tr>\n",
              "    <tr>\n",
              "      <th>1</th>\n",
              "      <td>2019-09-08 20:16:00</td>\n",
              "      <td>BTC/USDT</td>\n",
              "      <td>Will Binance.US Launch Bring in Benefits for A...</td>\n",
              "      <td>-1</td>\n",
              "      <td>-1</td>\n",
              "      <td>1</td>\n",
              "      <td>1</td>\n",
              "      <td>1</td>\n",
              "      <td>-1</td>\n",
              "    </tr>\n",
              "    <tr>\n",
              "      <th>2</th>\n",
              "      <td>2019-09-08 22:12:00</td>\n",
              "      <td>BTC/USDT</td>\n",
              "      <td>Why Ongoing US &amp; China Trade War Might Fuel Th...</td>\n",
              "      <td>-1</td>\n",
              "      <td>1</td>\n",
              "      <td>1</td>\n",
              "      <td>1</td>\n",
              "      <td>1</td>\n",
              "      <td>1</td>\n",
              "    </tr>\n",
              "    <tr>\n",
              "      <th>3</th>\n",
              "      <td>2019-09-08 22:39:00</td>\n",
              "      <td>BTC/USDT</td>\n",
              "      <td>New signal posted in vip only, small whales, w...</td>\n",
              "      <td>1</td>\n",
              "      <td>1</td>\n",
              "      <td>1</td>\n",
              "      <td>1</td>\n",
              "      <td>1</td>\n",
              "      <td>1</td>\n",
              "    </tr>\n",
              "    <tr>\n",
              "      <th>4</th>\n",
              "      <td>2019-09-09 07:04:00</td>\n",
              "      <td>BTC/USDT</td>\n",
              "      <td>Analyst Predicts 60% Drop in Altcoin Relative ...</td>\n",
              "      <td>1</td>\n",
              "      <td>1</td>\n",
              "      <td>1</td>\n",
              "      <td>1</td>\n",
              "      <td>1</td>\n",
              "      <td>1</td>\n",
              "    </tr>\n",
              "  </tbody>\n",
              "</table>\n",
              "</div>"
            ],
            "text/plain": [
              "            TimeStamp    symbol  ... indicator_60min  indicator_120min\n",
              "0 2019-09-08 19:29:00  BTC/USDT  ...               1                 1\n",
              "1 2019-09-08 20:16:00  BTC/USDT  ...               1                -1\n",
              "2 2019-09-08 22:12:00  BTC/USDT  ...               1                 1\n",
              "3 2019-09-08 22:39:00  BTC/USDT  ...               1                 1\n",
              "4 2019-09-09 07:04:00  BTC/USDT  ...               1                 1\n",
              "\n",
              "[5 rows x 9 columns]"
            ]
          },
          "metadata": {
            "tags": []
          },
          "execution_count": 53
        }
      ]
    },
    {
      "cell_type": "code",
      "metadata": {
        "id": "3EEUf7kI4aqP"
      },
      "source": [
        "df=df1[['TimeStamp','Message','indicator_15min']] #preparing dataframe for appplication of NLP methods "
      ],
      "execution_count": 54,
      "outputs": []
    },
    {
      "cell_type": "code",
      "metadata": {
        "id": "BvP8KnQc48y_"
      },
      "source": [
        "#importing necessary libraries to perform NLP data wrangling techniques\n",
        "import numpy as np \n",
        "import re\n",
        "import nltk\n",
        "import spacy\n",
        "import string"
      ],
      "execution_count": 55,
      "outputs": []
    },
    {
      "cell_type": "code",
      "metadata": {
        "colab": {
          "base_uri": "https://localhost:8080/"
        },
        "id": "2fSBxDM05AN5",
        "outputId": "773d6d8f-649f-4d34-e2d1-cc97378ae5ef"
      },
      "source": [
        "#Lower Casing - converting upper case to lower case letters\n",
        "df['Message'] = df['Message'].str.lower()"
      ],
      "execution_count": 56,
      "outputs": [
        {
          "output_type": "stream",
          "text": [
            "/usr/local/lib/python3.7/dist-packages/ipykernel_launcher.py:2: SettingWithCopyWarning: \n",
            "A value is trying to be set on a copy of a slice from a DataFrame.\n",
            "Try using .loc[row_indexer,col_indexer] = value instead\n",
            "\n",
            "See the caveats in the documentation: https://pandas.pydata.org/pandas-docs/stable/user_guide/indexing.html#returning-a-view-versus-a-copy\n",
            "  \n"
          ],
          "name": "stderr"
        }
      ]
    },
    {
      "cell_type": "code",
      "metadata": {
        "colab": {
          "base_uri": "https://localhost:8080/",
          "height": 203
        },
        "id": "P4CeuunS5Gbd",
        "outputId": "1b9cdee8-dff3-4ce3-81cd-a768fea7e2e6"
      },
      "source": [
        "df.head()"
      ],
      "execution_count": 57,
      "outputs": [
        {
          "output_type": "execute_result",
          "data": {
            "text/html": [
              "<div>\n",
              "<style scoped>\n",
              "    .dataframe tbody tr th:only-of-type {\n",
              "        vertical-align: middle;\n",
              "    }\n",
              "\n",
              "    .dataframe tbody tr th {\n",
              "        vertical-align: top;\n",
              "    }\n",
              "\n",
              "    .dataframe thead th {\n",
              "        text-align: right;\n",
              "    }\n",
              "</style>\n",
              "<table border=\"1\" class=\"dataframe\">\n",
              "  <thead>\n",
              "    <tr style=\"text-align: right;\">\n",
              "      <th></th>\n",
              "      <th>TimeStamp</th>\n",
              "      <th>Message</th>\n",
              "      <th>indicator_15min</th>\n",
              "    </tr>\n",
              "  </thead>\n",
              "  <tbody>\n",
              "    <tr>\n",
              "      <th>0</th>\n",
              "      <td>2019-09-08 19:29:00</td>\n",
              "      <td>today's big bang call summary 📌\\n\\n$data call ...</td>\n",
              "      <td>1</td>\n",
              "    </tr>\n",
              "    <tr>\n",
              "      <th>1</th>\n",
              "      <td>2019-09-08 20:16:00</td>\n",
              "      <td>will binance.us launch bring in benefits for a...</td>\n",
              "      <td>1</td>\n",
              "    </tr>\n",
              "    <tr>\n",
              "      <th>2</th>\n",
              "      <td>2019-09-08 22:12:00</td>\n",
              "      <td>why ongoing us &amp; china trade war might fuel th...</td>\n",
              "      <td>1</td>\n",
              "    </tr>\n",
              "    <tr>\n",
              "      <th>3</th>\n",
              "      <td>2019-09-08 22:39:00</td>\n",
              "      <td>new signal posted in vip only, small whales, w...</td>\n",
              "      <td>1</td>\n",
              "    </tr>\n",
              "    <tr>\n",
              "      <th>4</th>\n",
              "      <td>2019-09-09 07:04:00</td>\n",
              "      <td>analyst predicts 60% drop in altcoin relative ...</td>\n",
              "      <td>1</td>\n",
              "    </tr>\n",
              "  </tbody>\n",
              "</table>\n",
              "</div>"
            ],
            "text/plain": [
              "            TimeStamp  ... indicator_15min\n",
              "0 2019-09-08 19:29:00  ...               1\n",
              "1 2019-09-08 20:16:00  ...               1\n",
              "2 2019-09-08 22:12:00  ...               1\n",
              "3 2019-09-08 22:39:00  ...               1\n",
              "4 2019-09-09 07:04:00  ...               1\n",
              "\n",
              "[5 rows x 3 columns]"
            ]
          },
          "metadata": {
            "tags": []
          },
          "execution_count": 57
        }
      ]
    },
    {
      "cell_type": "code",
      "metadata": {
        "colab": {
          "base_uri": "https://localhost:8080/",
          "height": 35
        },
        "id": "vCicb-Yz5KvO",
        "outputId": "f00d41b4-b2d3-4bd5-e932-bb7a39bcea25"
      },
      "source": [
        "string.punctuation"
      ],
      "execution_count": 58,
      "outputs": [
        {
          "output_type": "execute_result",
          "data": {
            "application/vnd.google.colaboratory.intrinsic+json": {
              "type": "string"
            },
            "text/plain": [
              "'!\"#$%&\\'()*+,-./:;<=>?@[\\\\]^_`{|}~'"
            ]
          },
          "metadata": {
            "tags": []
          },
          "execution_count": 58
        }
      ]
    },
    {
      "cell_type": "code",
      "metadata": {
        "colab": {
          "base_uri": "https://localhost:8080/",
          "height": 35
        },
        "id": "X5VGIeWb5cwy",
        "outputId": "14ff14f4-053b-4cc4-fae0-7aea6668bef8"
      },
      "source": [
        "string.digits"
      ],
      "execution_count": 59,
      "outputs": [
        {
          "output_type": "execute_result",
          "data": {
            "application/vnd.google.colaboratory.intrinsic+json": {
              "type": "string"
            },
            "text/plain": [
              "'0123456789'"
            ]
          },
          "metadata": {
            "tags": []
          },
          "execution_count": 59
        }
      ]
    },
    {
      "cell_type": "code",
      "metadata": {
        "colab": {
          "base_uri": "https://localhost:8080/"
        },
        "id": "aMQO2D_F5iqH",
        "outputId": "a511701e-e359-4a11-8a5b-b2542df0f8c9"
      },
      "source": [
        "# remove punctuations and digits for chat messages \n",
        "PUNCT_TO_REMOVE = string.punctuation + string.digits \n",
        "\n",
        "print(PUNCT_TO_REMOVE)\n",
        "\n",
        "def remove_punctuations(text):\n",
        "    for punctuation in PUNCT_TO_REMOVE:\n",
        "        text = text.replace(punctuation,' ')\n",
        "    return text\n",
        "\n",
        "df['Message'] = df['Message'].apply(lambda text: remove_punctuations(text))\n"
      ],
      "execution_count": 60,
      "outputs": [
        {
          "output_type": "stream",
          "text": [
            "!\"#$%&'()*+,-./:;<=>?@[\\]^_`{|}~0123456789\n"
          ],
          "name": "stdout"
        },
        {
          "output_type": "stream",
          "text": [
            "/usr/local/lib/python3.7/dist-packages/ipykernel_launcher.py:11: SettingWithCopyWarning: \n",
            "A value is trying to be set on a copy of a slice from a DataFrame.\n",
            "Try using .loc[row_indexer,col_indexer] = value instead\n",
            "\n",
            "See the caveats in the documentation: https://pandas.pydata.org/pandas-docs/stable/user_guide/indexing.html#returning-a-view-versus-a-copy\n",
            "  # This is added back by InteractiveShellApp.init_path()\n"
          ],
          "name": "stderr"
        }
      ]
    },
    {
      "cell_type": "code",
      "metadata": {
        "colab": {
          "base_uri": "https://localhost:8080/",
          "height": 203
        },
        "id": "tEP1f3el5qH6",
        "outputId": "6840d4ec-5083-4cac-c26d-2fa5699ad05a"
      },
      "source": [
        "df.head()"
      ],
      "execution_count": 61,
      "outputs": [
        {
          "output_type": "execute_result",
          "data": {
            "text/html": [
              "<div>\n",
              "<style scoped>\n",
              "    .dataframe tbody tr th:only-of-type {\n",
              "        vertical-align: middle;\n",
              "    }\n",
              "\n",
              "    .dataframe tbody tr th {\n",
              "        vertical-align: top;\n",
              "    }\n",
              "\n",
              "    .dataframe thead th {\n",
              "        text-align: right;\n",
              "    }\n",
              "</style>\n",
              "<table border=\"1\" class=\"dataframe\">\n",
              "  <thead>\n",
              "    <tr style=\"text-align: right;\">\n",
              "      <th></th>\n",
              "      <th>TimeStamp</th>\n",
              "      <th>Message</th>\n",
              "      <th>indicator_15min</th>\n",
              "    </tr>\n",
              "  </thead>\n",
              "  <tbody>\n",
              "    <tr>\n",
              "      <th>0</th>\n",
              "      <td>2019-09-08 19:29:00</td>\n",
              "      <td>today s big bang call summary 📌 n n data call ...</td>\n",
              "      <td>1</td>\n",
              "    </tr>\n",
              "    <tr>\n",
              "      <th>1</th>\n",
              "      <td>2019-09-08 20:16:00</td>\n",
              "      <td>will binance us launch bring in benefits for a...</td>\n",
              "      <td>1</td>\n",
              "    </tr>\n",
              "    <tr>\n",
              "      <th>2</th>\n",
              "      <td>2019-09-08 22:12:00</td>\n",
              "      <td>why ongoing us   china trade war might fuel th...</td>\n",
              "      <td>1</td>\n",
              "    </tr>\n",
              "    <tr>\n",
              "      <th>3</th>\n",
              "      <td>2019-09-08 22:39:00</td>\n",
              "      <td>new signal posted in vip only  small whales  w...</td>\n",
              "      <td>1</td>\n",
              "    </tr>\n",
              "    <tr>\n",
              "      <th>4</th>\n",
              "      <td>2019-09-09 07:04:00</td>\n",
              "      <td>analyst predicts     drop in altcoin relative ...</td>\n",
              "      <td>1</td>\n",
              "    </tr>\n",
              "  </tbody>\n",
              "</table>\n",
              "</div>"
            ],
            "text/plain": [
              "            TimeStamp  ... indicator_15min\n",
              "0 2019-09-08 19:29:00  ...               1\n",
              "1 2019-09-08 20:16:00  ...               1\n",
              "2 2019-09-08 22:12:00  ...               1\n",
              "3 2019-09-08 22:39:00  ...               1\n",
              "4 2019-09-09 07:04:00  ...               1\n",
              "\n",
              "[5 rows x 3 columns]"
            ]
          },
          "metadata": {
            "tags": []
          },
          "execution_count": 61
        }
      ]
    },
    {
      "cell_type": "code",
      "metadata": {
        "colab": {
          "base_uri": "https://localhost:8080/"
        },
        "id": "-Q7d85c15xUZ",
        "outputId": "a00fa412-1202-4bd4-e404-560fd98b980f"
      },
      "source": [
        "#importing libraries to remove stop words \n",
        "import nltk\n",
        "nltk.download('stopwords')\n",
        "from nltk.corpus import stopwords"
      ],
      "execution_count": 62,
      "outputs": [
        {
          "output_type": "stream",
          "text": [
            "[nltk_data] Downloading package stopwords to /root/nltk_data...\n",
            "[nltk_data]   Unzipping corpora/stopwords.zip.\n"
          ],
          "name": "stdout"
        }
      ]
    },
    {
      "cell_type": "code",
      "metadata": {
        "colab": {
          "base_uri": "https://localhost:8080/",
          "height": 304
        },
        "id": "YSIYWnj67axo",
        "outputId": "650d95ce-907b-4ddd-ef11-74c4592ab09e"
      },
      "source": [
        "#removing stop words from chat messages \n",
        "STOPWORDS = set(stopwords.words('english'))\n",
        "def remove_stopwords(text):\n",
        "    return \" \".join([word for word in str(text).split() if word not in STOPWORDS])\n",
        "\n",
        "df[\"Message\"] = df[\"Message\"].apply(lambda text: remove_stopwords(text))\n",
        "df.head()"
      ],
      "execution_count": 63,
      "outputs": [
        {
          "output_type": "stream",
          "text": [
            "/usr/local/lib/python3.7/dist-packages/ipykernel_launcher.py:6: SettingWithCopyWarning: \n",
            "A value is trying to be set on a copy of a slice from a DataFrame.\n",
            "Try using .loc[row_indexer,col_indexer] = value instead\n",
            "\n",
            "See the caveats in the documentation: https://pandas.pydata.org/pandas-docs/stable/user_guide/indexing.html#returning-a-view-versus-a-copy\n",
            "  \n"
          ],
          "name": "stderr"
        },
        {
          "output_type": "execute_result",
          "data": {
            "text/html": [
              "<div>\n",
              "<style scoped>\n",
              "    .dataframe tbody tr th:only-of-type {\n",
              "        vertical-align: middle;\n",
              "    }\n",
              "\n",
              "    .dataframe tbody tr th {\n",
              "        vertical-align: top;\n",
              "    }\n",
              "\n",
              "    .dataframe thead th {\n",
              "        text-align: right;\n",
              "    }\n",
              "</style>\n",
              "<table border=\"1\" class=\"dataframe\">\n",
              "  <thead>\n",
              "    <tr style=\"text-align: right;\">\n",
              "      <th></th>\n",
              "      <th>TimeStamp</th>\n",
              "      <th>Message</th>\n",
              "      <th>indicator_15min</th>\n",
              "    </tr>\n",
              "  </thead>\n",
              "  <tbody>\n",
              "    <tr>\n",
              "      <th>0</th>\n",
              "      <td>2019-09-08 19:29:00</td>\n",
              "      <td>today big bang call summary 📌 n n data call sh...</td>\n",
              "      <td>1</td>\n",
              "    </tr>\n",
              "    <tr>\n",
              "      <th>1</th>\n",
              "      <td>2019-09-08 20:16:00</td>\n",
              "      <td>binance us launch bring benefits traders reali...</td>\n",
              "      <td>1</td>\n",
              "    </tr>\n",
              "    <tr>\n",
              "      <th>2</th>\n",
              "      <td>2019-09-08 22:12:00</td>\n",
              "      <td>ongoing us china trade war might fuel next bit...</td>\n",
              "      <td>1</td>\n",
              "    </tr>\n",
              "    <tr>\n",
              "      <th>3</th>\n",
              "      <td>2019-09-08 22:39:00</td>\n",
              "      <td>new signal posted vip small whales suggest joi...</td>\n",
              "      <td>1</td>\n",
              "    </tr>\n",
              "    <tr>\n",
              "      <th>4</th>\n",
              "      <td>2019-09-09 07:04:00</td>\n",
              "      <td>analyst predicts drop altcoin relative bitcoin...</td>\n",
              "      <td>1</td>\n",
              "    </tr>\n",
              "  </tbody>\n",
              "</table>\n",
              "</div>"
            ],
            "text/plain": [
              "            TimeStamp  ... indicator_15min\n",
              "0 2019-09-08 19:29:00  ...               1\n",
              "1 2019-09-08 20:16:00  ...               1\n",
              "2 2019-09-08 22:12:00  ...               1\n",
              "3 2019-09-08 22:39:00  ...               1\n",
              "4 2019-09-09 07:04:00  ...               1\n",
              "\n",
              "[5 rows x 3 columns]"
            ]
          },
          "metadata": {
            "tags": []
          },
          "execution_count": 63
        }
      ]
    },
    {
      "cell_type": "code",
      "metadata": {
        "colab": {
          "base_uri": "https://localhost:8080/"
        },
        "id": "yj0BFnhX7q6_",
        "outputId": "f84e476f-bd83-497c-fadb-204b62a64319"
      },
      "source": [
        "#examine most repeated words within data collected \n",
        "from collections import Counter\n",
        "cnt = Counter()\n",
        "for text in df[\"Message\"].values:\n",
        "    for word in text.split():\n",
        "        cnt[word] += 1\n",
        "        \n",
        "cnt.most_common(25)"
      ],
      "execution_count": 64,
      "outputs": [
        {
          "output_type": "execute_result",
          "data": {
            "text/plain": [
              "[('n', 41443),\n",
              " ('com', 6623),\n",
              " ('binance', 6346),\n",
              " ('pump', 5983),\n",
              " ('btc', 5284),\n",
              " ('profit', 5141),\n",
              " ('bitcoin', 5098),\n",
              " ('nhttps', 4807),\n",
              " ('buy', 4603),\n",
              " ('price', 3686),\n",
              " ('coin', 3325),\n",
              " ('coingape', 3247),\n",
              " ('https', 2597),\n",
              " ('target', 2567),\n",
              " ('crypto', 2566),\n",
              " ('🚀', 2467),\n",
              " ('n✅', 2156),\n",
              " ('signal', 2033),\n",
              " ('x', 2031),\n",
              " ('hours', 2005),\n",
              " ('time', 1956),\n",
              " ('market', 1954),\n",
              " ('satoshi', 1744),\n",
              " ('💵', 1692),\n",
              " ('day', 1689)]"
            ]
          },
          "metadata": {
            "tags": []
          },
          "execution_count": 64
        }
      ]
    },
    {
      "cell_type": "code",
      "metadata": {
        "id": "VbFIse6879MW"
      },
      "source": [
        "#remove frequently repeated words from dataset\n",
        "FREQWORDS = set([w for (w, wc) in cnt.most_common(10)])\n",
        "def remove_freqwords(text):\n",
        "    return \" \".join([word for word in str(text).split() if word not in FREQWORDS])\n",
        "\n",
        "df[\"Message\"] = df[\"Message\"].apply(lambda text: remove_freqwords(text))\n",
        "df.head()"
      ],
      "execution_count": null,
      "outputs": []
    },
    {
      "cell_type": "code",
      "metadata": {
        "colab": {
          "base_uri": "https://localhost:8080/",
          "height": 304
        },
        "id": "7n0Ggymv8q4_",
        "outputId": "8764cfee-7af9-4a6d-a784-87e3ff31c12b"
      },
      "source": [
        "#remove rare words from dataframe\n",
        "n_rare_words = 10\n",
        "RAREWORDS = set([w for (w, wc) in cnt.most_common()[:-n_rare_words-1:-1]])\n",
        "def remove_rarewords(text):\n",
        "    return \" \".join([word for word in str(text).split() if word not in RAREWORDS])\n",
        "\n",
        "df[\"Message\"] = df[\"Message\"].apply(lambda text: remove_rarewords(text))\n",
        "df.head(5)"
      ],
      "execution_count": 65,
      "outputs": [
        {
          "output_type": "stream",
          "text": [
            "/usr/local/lib/python3.7/dist-packages/ipykernel_launcher.py:7: SettingWithCopyWarning: \n",
            "A value is trying to be set on a copy of a slice from a DataFrame.\n",
            "Try using .loc[row_indexer,col_indexer] = value instead\n",
            "\n",
            "See the caveats in the documentation: https://pandas.pydata.org/pandas-docs/stable/user_guide/indexing.html#returning-a-view-versus-a-copy\n",
            "  import sys\n"
          ],
          "name": "stderr"
        },
        {
          "output_type": "execute_result",
          "data": {
            "text/html": [
              "<div>\n",
              "<style scoped>\n",
              "    .dataframe tbody tr th:only-of-type {\n",
              "        vertical-align: middle;\n",
              "    }\n",
              "\n",
              "    .dataframe tbody tr th {\n",
              "        vertical-align: top;\n",
              "    }\n",
              "\n",
              "    .dataframe thead th {\n",
              "        text-align: right;\n",
              "    }\n",
              "</style>\n",
              "<table border=\"1\" class=\"dataframe\">\n",
              "  <thead>\n",
              "    <tr style=\"text-align: right;\">\n",
              "      <th></th>\n",
              "      <th>TimeStamp</th>\n",
              "      <th>Message</th>\n",
              "      <th>indicator_15min</th>\n",
              "    </tr>\n",
              "  </thead>\n",
              "  <tbody>\n",
              "    <tr>\n",
              "      <th>0</th>\n",
              "      <td>2019-09-08 19:29:00</td>\n",
              "      <td>today big bang call summary 📌 n n data call sh...</td>\n",
              "      <td>1</td>\n",
              "    </tr>\n",
              "    <tr>\n",
              "      <th>1</th>\n",
              "      <td>2019-09-08 20:16:00</td>\n",
              "      <td>binance us launch bring benefits traders reali...</td>\n",
              "      <td>1</td>\n",
              "    </tr>\n",
              "    <tr>\n",
              "      <th>2</th>\n",
              "      <td>2019-09-08 22:12:00</td>\n",
              "      <td>ongoing us china trade war might fuel next bit...</td>\n",
              "      <td>1</td>\n",
              "    </tr>\n",
              "    <tr>\n",
              "      <th>3</th>\n",
              "      <td>2019-09-08 22:39:00</td>\n",
              "      <td>new signal posted vip small whales suggest joi...</td>\n",
              "      <td>1</td>\n",
              "    </tr>\n",
              "    <tr>\n",
              "      <th>4</th>\n",
              "      <td>2019-09-09 07:04:00</td>\n",
              "      <td>analyst predicts drop altcoin relative bitcoin...</td>\n",
              "      <td>1</td>\n",
              "    </tr>\n",
              "  </tbody>\n",
              "</table>\n",
              "</div>"
            ],
            "text/plain": [
              "            TimeStamp  ... indicator_15min\n",
              "0 2019-09-08 19:29:00  ...               1\n",
              "1 2019-09-08 20:16:00  ...               1\n",
              "2 2019-09-08 22:12:00  ...               1\n",
              "3 2019-09-08 22:39:00  ...               1\n",
              "4 2019-09-09 07:04:00  ...               1\n",
              "\n",
              "[5 rows x 3 columns]"
            ]
          },
          "metadata": {
            "tags": []
          },
          "execution_count": 65
        }
      ]
    },
    {
      "cell_type": "code",
      "metadata": {
        "id": "tc3xdWpg9KGp"
      },
      "source": [
        "#importing package to perform stemming \n",
        "from nltk.stem.porter import PorterStemmer"
      ],
      "execution_count": 66,
      "outputs": []
    },
    {
      "cell_type": "code",
      "metadata": {
        "colab": {
          "base_uri": "https://localhost:8080/",
          "height": 304
        },
        "id": "tr9Ry_y89KJM",
        "outputId": "649979f8-ab7f-48f0-c550-0abfa482b5a8"
      },
      "source": [
        "stemmer = PorterStemmer()\n",
        "def stem_words(text):\n",
        "    return \" \".join([stemmer.stem(word) for word in text.split()])\n",
        "\n",
        "df[\"Message\"] = df[\"Message\"].apply(lambda text: stem_words(text))\n",
        "df.head()"
      ],
      "execution_count": 67,
      "outputs": [
        {
          "output_type": "stream",
          "text": [
            "/usr/local/lib/python3.7/dist-packages/ipykernel_launcher.py:5: SettingWithCopyWarning: \n",
            "A value is trying to be set on a copy of a slice from a DataFrame.\n",
            "Try using .loc[row_indexer,col_indexer] = value instead\n",
            "\n",
            "See the caveats in the documentation: https://pandas.pydata.org/pandas-docs/stable/user_guide/indexing.html#returning-a-view-versus-a-copy\n",
            "  \"\"\"\n"
          ],
          "name": "stderr"
        },
        {
          "output_type": "execute_result",
          "data": {
            "text/html": [
              "<div>\n",
              "<style scoped>\n",
              "    .dataframe tbody tr th:only-of-type {\n",
              "        vertical-align: middle;\n",
              "    }\n",
              "\n",
              "    .dataframe tbody tr th {\n",
              "        vertical-align: top;\n",
              "    }\n",
              "\n",
              "    .dataframe thead th {\n",
              "        text-align: right;\n",
              "    }\n",
              "</style>\n",
              "<table border=\"1\" class=\"dataframe\">\n",
              "  <thead>\n",
              "    <tr style=\"text-align: right;\">\n",
              "      <th></th>\n",
              "      <th>TimeStamp</th>\n",
              "      <th>Message</th>\n",
              "      <th>indicator_15min</th>\n",
              "    </tr>\n",
              "  </thead>\n",
              "  <tbody>\n",
              "    <tr>\n",
              "      <th>0</th>\n",
              "      <td>2019-09-08 19:29:00</td>\n",
              "      <td>today big bang call summari 📌 n n data call sh...</td>\n",
              "      <td>1</td>\n",
              "    </tr>\n",
              "    <tr>\n",
              "      <th>1</th>\n",
              "      <td>2019-09-08 20:16:00</td>\n",
              "      <td>binanc us launch bring benefit trader realist ...</td>\n",
              "      <td>1</td>\n",
              "    </tr>\n",
              "    <tr>\n",
              "      <th>2</th>\n",
              "      <td>2019-09-08 22:12:00</td>\n",
              "      <td>ongo us china trade war might fuel next bitcoi...</td>\n",
              "      <td>1</td>\n",
              "    </tr>\n",
              "    <tr>\n",
              "      <th>3</th>\n",
              "      <td>2019-09-08 22:39:00</td>\n",
              "      <td>new signal post vip small whale suggest join u...</td>\n",
              "      <td>1</td>\n",
              "    </tr>\n",
              "    <tr>\n",
              "      <th>4</th>\n",
              "      <td>2019-09-09 07:04:00</td>\n",
              "      <td>analyst predict drop altcoin rel bitcoin btc m...</td>\n",
              "      <td>1</td>\n",
              "    </tr>\n",
              "  </tbody>\n",
              "</table>\n",
              "</div>"
            ],
            "text/plain": [
              "            TimeStamp  ... indicator_15min\n",
              "0 2019-09-08 19:29:00  ...               1\n",
              "1 2019-09-08 20:16:00  ...               1\n",
              "2 2019-09-08 22:12:00  ...               1\n",
              "3 2019-09-08 22:39:00  ...               1\n",
              "4 2019-09-09 07:04:00  ...               1\n",
              "\n",
              "[5 rows x 3 columns]"
            ]
          },
          "metadata": {
            "tags": []
          },
          "execution_count": 67
        }
      ]
    },
    {
      "cell_type": "code",
      "metadata": {
        "colab": {
          "base_uri": "https://localhost:8080/"
        },
        "id": "NW9Mp36N9yck",
        "outputId": "25d1ad08-17d7-4aea-b442-c32d0f95c61b"
      },
      "source": [
        "#importing package to perform lemmatization\n",
        "nltk.download('wordnet')"
      ],
      "execution_count": 68,
      "outputs": [
        {
          "output_type": "stream",
          "text": [
            "[nltk_data] Downloading package wordnet to /root/nltk_data...\n",
            "[nltk_data]   Unzipping corpora/wordnet.zip.\n"
          ],
          "name": "stdout"
        },
        {
          "output_type": "execute_result",
          "data": {
            "text/plain": [
              "True"
            ]
          },
          "metadata": {
            "tags": []
          },
          "execution_count": 68
        }
      ]
    },
    {
      "cell_type": "code",
      "metadata": {
        "colab": {
          "base_uri": "https://localhost:8080/",
          "height": 304
        },
        "id": "VsOvMGVI9KLR",
        "outputId": "51e39eba-6c48-44a2-88ef-3ec15cb1986d"
      },
      "source": [
        "#function to perform lemmatization \n",
        "from nltk.stem import WordNetLemmatizer\n",
        "\n",
        "lemmatizer = WordNetLemmatizer()\n",
        "def lemmatize_words(text):\n",
        "    return \" \".join([lemmatizer.lemmatize(word) for word in text.split()])\n",
        "\n",
        "df[\"Message\"] = df[\"Message\"].apply(lambda text: lemmatize_words(text))\n",
        "df.head()"
      ],
      "execution_count": null,
      "outputs": [
        {
          "output_type": "stream",
          "text": [
            "/usr/local/lib/python3.7/dist-packages/ipykernel_launcher.py:7: SettingWithCopyWarning: \n",
            "A value is trying to be set on a copy of a slice from a DataFrame.\n",
            "Try using .loc[row_indexer,col_indexer] = value instead\n",
            "\n",
            "See the caveats in the documentation: https://pandas.pydata.org/pandas-docs/stable/user_guide/indexing.html#returning-a-view-versus-a-copy\n",
            "  import sys\n"
          ],
          "name": "stderr"
        },
        {
          "output_type": "execute_result",
          "data": {
            "text/html": [
              "<div>\n",
              "<style scoped>\n",
              "    .dataframe tbody tr th:only-of-type {\n",
              "        vertical-align: middle;\n",
              "    }\n",
              "\n",
              "    .dataframe tbody tr th {\n",
              "        vertical-align: top;\n",
              "    }\n",
              "\n",
              "    .dataframe thead th {\n",
              "        text-align: right;\n",
              "    }\n",
              "</style>\n",
              "<table border=\"1\" class=\"dataframe\">\n",
              "  <thead>\n",
              "    <tr style=\"text-align: right;\">\n",
              "      <th></th>\n",
              "      <th>TimeStamp</th>\n",
              "      <th>Message</th>\n",
              "      <th>indicator_15min</th>\n",
              "    </tr>\n",
              "  </thead>\n",
              "  <tbody>\n",
              "    <tr>\n",
              "      <th>0</th>\n",
              "      <td>2019-09-08 19:29:00</td>\n",
              "      <td>today big bang call summari 📌 n n data call sh...</td>\n",
              "      <td>1</td>\n",
              "    </tr>\n",
              "    <tr>\n",
              "      <th>1</th>\n",
              "      <td>2019-09-08 20:16:00</td>\n",
              "      <td>binanc u launch bring benefit trader realist t...</td>\n",
              "      <td>1</td>\n",
              "    </tr>\n",
              "    <tr>\n",
              "      <th>2</th>\n",
              "      <td>2019-09-08 22:12:00</td>\n",
              "      <td>ongo u china trade war might fuel next bitcoin...</td>\n",
              "      <td>1</td>\n",
              "    </tr>\n",
              "    <tr>\n",
              "      <th>3</th>\n",
              "      <td>2019-09-08 22:39:00</td>\n",
              "      <td>new signal post vip small whale suggest join u...</td>\n",
              "      <td>1</td>\n",
              "    </tr>\n",
              "    <tr>\n",
              "      <th>4</th>\n",
              "      <td>2019-09-09 07:04:00</td>\n",
              "      <td>analyst predict drop altcoin rel bitcoin btc m...</td>\n",
              "      <td>1</td>\n",
              "    </tr>\n",
              "  </tbody>\n",
              "</table>\n",
              "</div>"
            ],
            "text/plain": [
              "            TimeStamp  ... indicator_15min\n",
              "0 2019-09-08 19:29:00  ...               1\n",
              "1 2019-09-08 20:16:00  ...               1\n",
              "2 2019-09-08 22:12:00  ...               1\n",
              "3 2019-09-08 22:39:00  ...               1\n",
              "4 2019-09-09 07:04:00  ...               1\n",
              "\n",
              "[5 rows x 3 columns]"
            ]
          },
          "metadata": {
            "tags": []
          },
          "execution_count": 142
        }
      ]
    },
    {
      "cell_type": "code",
      "metadata": {
        "id": "lHaY8Lw8_6Xy"
      },
      "source": [
        "#removing emoticons & emojis from chat messages \n",
        "df = df.astype(str).apply(lambda x: x.str.encode('ascii', 'ignore').str.decode('ascii'))"
      ],
      "execution_count": 69,
      "outputs": []
    },
    {
      "cell_type": "code",
      "metadata": {
        "colab": {
          "base_uri": "https://localhost:8080/",
          "height": 203
        },
        "id": "44v5bFqB_9ES",
        "outputId": "fc6fb124-6d2e-4ce0-9440-6ed4e485c47e"
      },
      "source": [
        "df.head()"
      ],
      "execution_count": 70,
      "outputs": [
        {
          "output_type": "execute_result",
          "data": {
            "text/html": [
              "<div>\n",
              "<style scoped>\n",
              "    .dataframe tbody tr th:only-of-type {\n",
              "        vertical-align: middle;\n",
              "    }\n",
              "\n",
              "    .dataframe tbody tr th {\n",
              "        vertical-align: top;\n",
              "    }\n",
              "\n",
              "    .dataframe thead th {\n",
              "        text-align: right;\n",
              "    }\n",
              "</style>\n",
              "<table border=\"1\" class=\"dataframe\">\n",
              "  <thead>\n",
              "    <tr style=\"text-align: right;\">\n",
              "      <th></th>\n",
              "      <th>TimeStamp</th>\n",
              "      <th>Message</th>\n",
              "      <th>indicator_15min</th>\n",
              "    </tr>\n",
              "  </thead>\n",
              "  <tbody>\n",
              "    <tr>\n",
              "      <th>0</th>\n",
              "      <td>2019-09-08 19:29:00</td>\n",
              "      <td>today big bang call summari  n n data call sha...</td>\n",
              "      <td>1</td>\n",
              "    </tr>\n",
              "    <tr>\n",
              "      <th>1</th>\n",
              "      <td>2019-09-08 20:16:00</td>\n",
              "      <td>binanc us launch bring benefit trader realist ...</td>\n",
              "      <td>1</td>\n",
              "    </tr>\n",
              "    <tr>\n",
              "      <th>2</th>\n",
              "      <td>2019-09-08 22:12:00</td>\n",
              "      <td>ongo us china trade war might fuel next bitcoi...</td>\n",
              "      <td>1</td>\n",
              "    </tr>\n",
              "    <tr>\n",
              "      <th>3</th>\n",
              "      <td>2019-09-08 22:39:00</td>\n",
              "      <td>new signal post vip small whale suggest join u...</td>\n",
              "      <td>1</td>\n",
              "    </tr>\n",
              "    <tr>\n",
              "      <th>4</th>\n",
              "      <td>2019-09-09 07:04:00</td>\n",
              "      <td>analyst predict drop altcoin rel bitcoin btc m...</td>\n",
              "      <td>1</td>\n",
              "    </tr>\n",
              "  </tbody>\n",
              "</table>\n",
              "</div>"
            ],
            "text/plain": [
              "             TimeStamp  ... indicator_15min\n",
              "0  2019-09-08 19:29:00  ...               1\n",
              "1  2019-09-08 20:16:00  ...               1\n",
              "2  2019-09-08 22:12:00  ...               1\n",
              "3  2019-09-08 22:39:00  ...               1\n",
              "4  2019-09-09 07:04:00  ...               1\n",
              "\n",
              "[5 rows x 3 columns]"
            ]
          },
          "metadata": {
            "tags": []
          },
          "execution_count": 70
        }
      ]
    },
    {
      "cell_type": "code",
      "metadata": {
        "colab": {
          "base_uri": "https://localhost:8080/",
          "height": 819
        },
        "id": "tgh6njp3-jAb",
        "outputId": "2b42b6fa-b767-4c92-f4df-a449086d8953"
      },
      "source": [
        "#removing most repeated word 'n', which might not be useful to our task  \n",
        "df['Message'] = df['Message'].str.replace('n', '')\n",
        "df.head(25)"
      ],
      "execution_count": 71,
      "outputs": [
        {
          "output_type": "execute_result",
          "data": {
            "text/html": [
              "<div>\n",
              "<style scoped>\n",
              "    .dataframe tbody tr th:only-of-type {\n",
              "        vertical-align: middle;\n",
              "    }\n",
              "\n",
              "    .dataframe tbody tr th {\n",
              "        vertical-align: top;\n",
              "    }\n",
              "\n",
              "    .dataframe thead th {\n",
              "        text-align: right;\n",
              "    }\n",
              "</style>\n",
              "<table border=\"1\" class=\"dataframe\">\n",
              "  <thead>\n",
              "    <tr style=\"text-align: right;\">\n",
              "      <th></th>\n",
              "      <th>TimeStamp</th>\n",
              "      <th>Message</th>\n",
              "      <th>indicator_15min</th>\n",
              "    </tr>\n",
              "  </thead>\n",
              "  <tbody>\n",
              "    <tr>\n",
              "      <th>0</th>\n",
              "      <td>2019-09-08 19:29:00</td>\n",
              "      <td>today big bag call summari    data call share ...</td>\n",
              "      <td>1</td>\n",
              "    </tr>\n",
              "    <tr>\n",
              "      <th>1</th>\n",
              "      <td>2019-09-08 20:16:00</td>\n",
              "      <td>biac us lauch brig beefit trader realist take ...</td>\n",
              "      <td>1</td>\n",
              "    </tr>\n",
              "    <tr>\n",
              "      <th>2</th>\n",
              "      <td>2019-09-08 22:12:00</td>\n",
              "      <td>ogo us chia trade war might fuel ext bitcoi bu...</td>\n",
              "      <td>1</td>\n",
              "    </tr>\n",
              "    <tr>\n",
              "      <th>3</th>\n",
              "      <td>2019-09-08 22:39:00</td>\n",
              "      <td>ew sigal post vip small whale suggest joi us b...</td>\n",
              "      <td>1</td>\n",
              "    </tr>\n",
              "    <tr>\n",
              "      <th>4</th>\n",
              "      <td>2019-09-09 07:04:00</td>\n",
              "      <td>aalyst predict drop altcoi rel bitcoi btc mcap...</td>\n",
              "      <td>1</td>\n",
              "    </tr>\n",
              "    <tr>\n",
              "      <th>5</th>\n",
              "      <td>2019-09-09 07:45:00</td>\n",
              "      <td>usdt usd trasfer ukow wallet okex</td>\n",
              "      <td>1</td>\n",
              "    </tr>\n",
              "    <tr>\n",
              "      <th>6</th>\n",
              "      <td>2019-09-09 07:59:00</td>\n",
              "      <td>bitcoicash price aalysi  will bch usd wi war  ...</td>\n",
              "      <td>1</td>\n",
              "    </tr>\n",
              "    <tr>\n",
              "      <th>7</th>\n",
              "      <td>2019-09-09 08:59:00</td>\n",
              "      <td>hour left biac pump evet  pump free pumper rec...</td>\n",
              "      <td>-1</td>\n",
              "    </tr>\n",
              "    <tr>\n",
              "      <th>8</th>\n",
              "      <td>2019-09-09 10:48:00</td>\n",
              "      <td>bitcoi dip crypto aalyst expect plug k  read h...</td>\n",
              "      <td>-1</td>\n",
              "    </tr>\n",
              "    <tr>\n",
              "      <th>9</th>\n",
              "      <td>2019-09-09 11:05:00</td>\n",
              "      <td>ardr mooig</td>\n",
              "      <td>-1</td>\n",
              "    </tr>\n",
              "    <tr>\n",
              "      <th>10</th>\n",
              "      <td>2019-09-09 11:30:00</td>\n",
              "      <td>twitter ceo call bitcoi best bet disapprov lib...</td>\n",
              "      <td>1</td>\n",
              "    </tr>\n",
              "    <tr>\n",
              "      <th>11</th>\n",
              "      <td>2019-09-09 12:28:00</td>\n",
              "      <td>btc pump  miut</td>\n",
              "      <td>-1</td>\n",
              "    </tr>\n",
              "    <tr>\n",
              "      <th>12</th>\n",
              "      <td>2019-09-09 12:32:00</td>\n",
              "      <td>keep book profit alt let watch btc movemet</td>\n",
              "      <td>1</td>\n",
              "    </tr>\n",
              "    <tr>\n",
              "      <th>13</th>\n",
              "      <td>2019-09-09 13:15:00</td>\n",
              "      <td>bitcoi price aalysi could btc usd ogo breakout...</td>\n",
              "      <td>-1</td>\n",
              "    </tr>\n",
              "    <tr>\n",
              "      <th>14</th>\n",
              "      <td>2019-09-09 13:37:00</td>\n",
              "      <td>much movemet market alt movemet sigific make h...</td>\n",
              "      <td>1</td>\n",
              "    </tr>\n",
              "    <tr>\n",
              "      <th>15</th>\n",
              "      <td>2019-09-09 15:04:00</td>\n",
              "      <td>biac lauch third phase led add rippl litecoi u...</td>\n",
              "      <td>-1</td>\n",
              "    </tr>\n",
              "    <tr>\n",
              "      <th>16</th>\n",
              "      <td>2019-09-09 15:23:00</td>\n",
              "      <td>mth</td>\n",
              "      <td>-1</td>\n",
              "    </tr>\n",
              "    <tr>\n",
              "      <th>17</th>\n",
              "      <td>2019-09-09 15:32:00</td>\n",
              "      <td>crypto adopt lg take first step blockchai smar...</td>\n",
              "      <td>1</td>\n",
              "    </tr>\n",
              "    <tr>\n",
              "      <th>18</th>\n",
              "      <td>2019-09-09 16:19:00</td>\n",
              "      <td>ardr short term call give   hope liste   price...</td>\n",
              "      <td>1</td>\n",
              "    </tr>\n",
              "    <tr>\n",
              "      <th>19</th>\n",
              "      <td>2019-09-09 19:35:00</td>\n",
              "      <td>big b btc trasfer updat third btc may come exc...</td>\n",
              "      <td>-1</td>\n",
              "    </tr>\n",
              "    <tr>\n",
              "      <th>20</th>\n",
              "      <td>2019-09-09 21:00:00</td>\n",
              "      <td>coi  b  exect gai</td>\n",
              "      <td>-1</td>\n",
              "    </tr>\n",
              "    <tr>\n",
              "      <th>21</th>\n",
              "      <td>2019-09-09 21:25:00</td>\n",
              "      <td>today bullish call summari    bt call share sa...</td>\n",
              "      <td>1</td>\n",
              "    </tr>\n",
              "    <tr>\n",
              "      <th>22</th>\n",
              "      <td>2019-09-10 02:03:00</td>\n",
              "      <td>mth</td>\n",
              "      <td>1</td>\n",
              "    </tr>\n",
              "    <tr>\n",
              "      <th>23</th>\n",
              "      <td>2019-09-10 03:52:00</td>\n",
              "      <td>wow  we put chart accord ta fomo help us mth b...</td>\n",
              "      <td>1</td>\n",
              "    </tr>\n",
              "    <tr>\n",
              "      <th>24</th>\n",
              "      <td>2019-09-10 04:37:00</td>\n",
              "      <td>ftm   maiet ed moth mai aouc ped  buy rumour s...</td>\n",
              "      <td>1</td>\n",
              "    </tr>\n",
              "  </tbody>\n",
              "</table>\n",
              "</div>"
            ],
            "text/plain": [
              "              TimeStamp  ... indicator_15min\n",
              "0   2019-09-08 19:29:00  ...               1\n",
              "1   2019-09-08 20:16:00  ...               1\n",
              "2   2019-09-08 22:12:00  ...               1\n",
              "3   2019-09-08 22:39:00  ...               1\n",
              "4   2019-09-09 07:04:00  ...               1\n",
              "5   2019-09-09 07:45:00  ...               1\n",
              "6   2019-09-09 07:59:00  ...               1\n",
              "7   2019-09-09 08:59:00  ...              -1\n",
              "8   2019-09-09 10:48:00  ...              -1\n",
              "9   2019-09-09 11:05:00  ...              -1\n",
              "10  2019-09-09 11:30:00  ...               1\n",
              "11  2019-09-09 12:28:00  ...              -1\n",
              "12  2019-09-09 12:32:00  ...               1\n",
              "13  2019-09-09 13:15:00  ...              -1\n",
              "14  2019-09-09 13:37:00  ...               1\n",
              "15  2019-09-09 15:04:00  ...              -1\n",
              "16  2019-09-09 15:23:00  ...              -1\n",
              "17  2019-09-09 15:32:00  ...               1\n",
              "18  2019-09-09 16:19:00  ...               1\n",
              "19  2019-09-09 19:35:00  ...              -1\n",
              "20  2019-09-09 21:00:00  ...              -1\n",
              "21  2019-09-09 21:25:00  ...               1\n",
              "22  2019-09-10 02:03:00  ...               1\n",
              "23  2019-09-10 03:52:00  ...               1\n",
              "24  2019-09-10 04:37:00  ...               1\n",
              "\n",
              "[25 rows x 3 columns]"
            ]
          },
          "metadata": {
            "tags": []
          },
          "execution_count": 71
        }
      ]
    },
    {
      "cell_type": "code",
      "metadata": {
        "id": "E6k37HsdARBG"
      },
      "source": [
        "#importing train test package from sklearn \n",
        "from sklearn.model_selection import train_test_split "
      ],
      "execution_count": 175,
      "outputs": []
    },
    {
      "cell_type": "code",
      "metadata": {
        "id": "Sp1sz-Ev9Xc-"
      },
      "source": [
        "y=df['indicator_15min']"
      ],
      "execution_count": 176,
      "outputs": []
    },
    {
      "cell_type": "code",
      "metadata": {
        "id": "mPGPKiSW9MIm"
      },
      "source": [
        "X_train, X_val, y_train, y_val = train_test_split(df['Message'], y,random_state=42, test_size=0.2, shuffle=True)"
      ],
      "execution_count": 177,
      "outputs": []
    },
    {
      "cell_type": "code",
      "metadata": {
        "colab": {
          "base_uri": "https://localhost:8080/"
        },
        "id": "YKQs1Jol9k6z",
        "outputId": "0d8ed7d1-c0c3-42f0-eeaa-8afb93b005dd"
      },
      "source": [
        "y_train.value_counts()"
      ],
      "execution_count": 178,
      "outputs": [
        {
          "output_type": "execute_result",
          "data": {
            "text/plain": [
              "1     15231\n",
              "-1    14974\n",
              "Name: indicator_15min, dtype: int64"
            ]
          },
          "metadata": {
            "tags": []
          },
          "execution_count": 178
        }
      ]
    },
    {
      "cell_type": "code",
      "metadata": {
        "colab": {
          "base_uri": "https://localhost:8080/"
        },
        "id": "JMcOAgHt9nFb",
        "outputId": "c623df19-157c-44b4-8d71-7371cf53f810"
      },
      "source": [
        "y_val.value_counts()"
      ],
      "execution_count": 179,
      "outputs": [
        {
          "output_type": "execute_result",
          "data": {
            "text/plain": [
              "1     3824\n",
              "-1    3728\n",
              "Name: indicator_15min, dtype: int64"
            ]
          },
          "metadata": {
            "tags": []
          },
          "execution_count": 179
        }
      ]
    },
    {
      "cell_type": "code",
      "metadata": {
        "colab": {
          "base_uri": "https://localhost:8080/"
        },
        "id": "LKXs8EIw9p0G",
        "outputId": "48625bcb-9321-4df6-d6e5-bd89bbf73ed5"
      },
      "source": [
        "X_train.shape"
      ],
      "execution_count": 180,
      "outputs": [
        {
          "output_type": "execute_result",
          "data": {
            "text/plain": [
              "(30205,)"
            ]
          },
          "metadata": {
            "tags": []
          },
          "execution_count": 180
        }
      ]
    },
    {
      "cell_type": "code",
      "metadata": {
        "colab": {
          "base_uri": "https://localhost:8080/"
        },
        "id": "c1OW_n7D9tWy",
        "outputId": "e17ae77f-7ec2-4664-b8a9-70748410965f"
      },
      "source": [
        "X_val.shape"
      ],
      "execution_count": 181,
      "outputs": [
        {
          "output_type": "execute_result",
          "data": {
            "text/plain": [
              "(7552,)"
            ]
          },
          "metadata": {
            "tags": []
          },
          "execution_count": 181
        }
      ]
    },
    {
      "cell_type": "code",
      "metadata": {
        "id": "d6GJUVeJ9vBM"
      },
      "source": [
        "from sklearn.feature_extraction.text import TfidfVectorizer"
      ],
      "execution_count": 182,
      "outputs": []
    },
    {
      "cell_type": "code",
      "metadata": {
        "id": "CwBZYcTB90u2"
      },
      "source": [
        "tfv = TfidfVectorizer(min_df=0.1, max_features=None, strip_accents='unicode', analyzer='word',ngram_range=(1, 3), use_idf=1,smooth_idf=1,sublinear_tf=1)"
      ],
      "execution_count": 183,
      "outputs": []
    },
    {
      "cell_type": "code",
      "metadata": {
        "colab": {
          "base_uri": "https://localhost:8080/"
        },
        "id": "rumzZRV5922j",
        "outputId": "e1802958-3abe-4fb6-a4f6-c49c1e5e2bd0"
      },
      "source": [
        "tfv.fit(list(X_train) + list(X_val))"
      ],
      "execution_count": 184,
      "outputs": [
        {
          "output_type": "execute_result",
          "data": {
            "text/plain": [
              "TfidfVectorizer(analyzer='word', binary=False, decode_error='strict',\n",
              "                dtype=<class 'numpy.float64'>, encoding='utf-8',\n",
              "                input='content', lowercase=True, max_df=1.0, max_features=None,\n",
              "                min_df=0.1, ngram_range=(1, 3), norm='l2', preprocessor=None,\n",
              "                smooth_idf=1, stop_words=None, strip_accents='unicode',\n",
              "                sublinear_tf=1, token_pattern='(?u)\\\\b\\\\w\\\\w+\\\\b',\n",
              "                tokenizer=None, use_idf=1, vocabulary=None)"
            ]
          },
          "metadata": {
            "tags": []
          },
          "execution_count": 184
        }
      ]
    },
    {
      "cell_type": "code",
      "metadata": {
        "id": "O0FKBeTR98TU"
      },
      "source": [
        "xtrain_tfv =  tfv.transform(X_train) \n",
        "xvalid_tfv = tfv.transform(X_val)"
      ],
      "execution_count": 185,
      "outputs": []
    },
    {
      "cell_type": "code",
      "metadata": {
        "id": "t5mosNCv-Jmr"
      },
      "source": [
        "from sklearn.naive_bayes import MultinomialNB #building a multinomial naive bayes model for binary classification task"
      ],
      "execution_count": 186,
      "outputs": []
    },
    {
      "cell_type": "code",
      "metadata": {
        "id": "-Ro0QVtG-XCW"
      },
      "source": [
        "#Naive Bayes on TFIDF\n",
        "clf = MultinomialNB()\n",
        "clf.fit(xtrain_tfv, y_train)\n",
        "y_pred = clf.predict(xvalid_tfv)"
      ],
      "execution_count": 187,
      "outputs": []
    },
    {
      "cell_type": "code",
      "metadata": {
        "colab": {
          "base_uri": "https://localhost:8080/"
        },
        "id": "cJdCGX2--YTx",
        "outputId": "1bea6c81-7702-4210-e0a0-f10231ccafba"
      },
      "source": [
        "from sklearn.metrics import confusion_matrix,classification_report,accuracy_score\n",
        "print(confusion_matrix(y_pred,y_val))\n",
        "print(accuracy_score(y_pred,y_val))\n",
        "print(classification_report(y_pred,y_val))"
      ],
      "execution_count": 188,
      "outputs": [
        {
          "output_type": "stream",
          "text": [
            "[[ 283  280]\n",
            " [3445 3544]]\n",
            "0.5067531779661016\n",
            "              precision    recall  f1-score   support\n",
            "\n",
            "          -1       0.08      0.50      0.13       563\n",
            "           1       0.93      0.51      0.66      6989\n",
            "\n",
            "    accuracy                           0.51      7552\n",
            "   macro avg       0.50      0.50      0.39      7552\n",
            "weighted avg       0.86      0.51      0.62      7552\n",
            "\n"
          ],
          "name": "stdout"
        }
      ]
    },
    {
      "cell_type": "code",
      "metadata": {
        "id": "LqSc5tVKRkwb"
      },
      "source": [
        "#cnn"
      ],
      "execution_count": 189,
      "outputs": []
    },
    {
      "cell_type": "code",
      "metadata": {
        "id": "Awy9T0tFYbWi"
      },
      "source": [
        "from tensorflow.keras.preprocessing.text import Tokenizer\n",
        "max_words=10000\n",
        "tokenizer=Tokenizer(max_words)\n",
        "tokenizer.fit_on_texts(df['Message'])\n",
        "sequence_train=tokenizer.texts_to_sequences(X_train)\n",
        "sequence_test=tokenizer.texts_to_sequences(X_val)"
      ],
      "execution_count": 190,
      "outputs": []
    },
    {
      "cell_type": "code",
      "metadata": {
        "colab": {
          "base_uri": "https://localhost:8080/"
        },
        "id": "9ykLVCHYYbaN",
        "outputId": "a542619b-5e15-467b-a779-102234cd694b"
      },
      "source": [
        "word_2_vec=tokenizer.word_index\n",
        "V=len(word_2_vec)\n",
        "print('Dataset has {} number of independent tokens'.format(V))"
      ],
      "execution_count": 191,
      "outputs": [
        {
          "output_type": "stream",
          "text": [
            "Dataset has 12790 number of independent tokens\n"
          ],
          "name": "stdout"
        }
      ]
    },
    {
      "cell_type": "code",
      "metadata": {
        "colab": {
          "base_uri": "https://localhost:8080/"
        },
        "id": "45If1YF6YbeA",
        "outputId": "5d42216d-b459-4f45-9f74-ab899a16ab39"
      },
      "source": [
        "from tensorflow.keras.preprocessing.sequence import pad_sequences\n",
        "data_train=pad_sequences(sequence_train)\n",
        "data_train.shape"
      ],
      "execution_count": 192,
      "outputs": [
        {
          "output_type": "execute_result",
          "data": {
            "text/plain": [
              "(30205, 308)"
            ]
          },
          "metadata": {
            "tags": []
          },
          "execution_count": 192
        }
      ]
    },
    {
      "cell_type": "code",
      "metadata": {
        "colab": {
          "base_uri": "https://localhost:8080/"
        },
        "id": "2fuuwuAZYbg0",
        "outputId": "9e64c18e-a936-4f47-990f-f437b085e0af"
      },
      "source": [
        "T=data_train.shape[1]\n",
        "data_test=pad_sequences(sequence_test,maxlen=T)\n",
        "data_test.shape"
      ],
      "execution_count": 193,
      "outputs": [
        {
          "output_type": "execute_result",
          "data": {
            "text/plain": [
              "(7552, 308)"
            ]
          },
          "metadata": {
            "tags": []
          },
          "execution_count": 193
        }
      ]
    },
    {
      "cell_type": "code",
      "metadata": {
        "id": "97SmoXswYbkG"
      },
      "source": [
        "from keras.regularizers import l1,l2,l1_l2\n",
        "from keras.layers import Dense, Flatten, Dropout, AveragePooling1D,MaxPooling1D"
      ],
      "execution_count": 194,
      "outputs": []
    },
    {
      "cell_type": "code",
      "metadata": {
        "colab": {
          "base_uri": "https://localhost:8080/"
        },
        "id": "gKv0G5aTYboW",
        "outputId": "06fda25f-90c4-4695-aa2c-841246b2acf7"
      },
      "source": [
        "from tensorflow.keras.layers import Input,Conv1D,MaxPooling1D,Dense,GlobalMaxPooling1D,Embedding\n",
        "from tensorflow.keras.models import Model\n",
        "D=20\n",
        "i=Input((T,))\n",
        "x=Embedding(V+1,D)(i)\n",
        "x=Conv1D(32,3,kernel_initializer='he_uniform',activation='relu')(x)\n",
        "x=MaxPooling1D(3)(x)\n",
        "x=(Dropout(0.2))(x)\n",
        "x=Conv1D(64,3,kernel_initializer='he_uniform',activation='relu')(x)\n",
        "x=MaxPooling1D(3)(x)\n",
        "x=(Dropout(0.2))(x)\n",
        "x=Conv1D(128,3,kernel_initializer='he_uniform',activation='relu')(x)\n",
        "x=GlobalMaxPooling1D()(x)\n",
        "x=(Dropout(0.2))(x)\n",
        "x=Dense(1,activation='sigmoid',kernel_regularizer=l2(0.01))(x)\n",
        "model=Model(i,x)\n",
        "model.summary()"
      ],
      "execution_count": 195,
      "outputs": [
        {
          "output_type": "stream",
          "text": [
            "Model: \"model_4\"\n",
            "_________________________________________________________________\n",
            "Layer (type)                 Output Shape              Param #   \n",
            "=================================================================\n",
            "input_5 (InputLayer)         [(None, 308)]             0         \n",
            "_________________________________________________________________\n",
            "embedding_4 (Embedding)      (None, 308, 20)           255820    \n",
            "_________________________________________________________________\n",
            "conv1d_12 (Conv1D)           (None, 306, 32)           1952      \n",
            "_________________________________________________________________\n",
            "max_pooling1d_8 (MaxPooling1 (None, 102, 32)           0         \n",
            "_________________________________________________________________\n",
            "tf.identity_12 (TFOpLambda)  (None, 102, 32)           0         \n",
            "_________________________________________________________________\n",
            "conv1d_13 (Conv1D)           (None, 100, 64)           6208      \n",
            "_________________________________________________________________\n",
            "max_pooling1d_9 (MaxPooling1 (None, 33, 64)            0         \n",
            "_________________________________________________________________\n",
            "tf.identity_13 (TFOpLambda)  (None, 33, 64)            0         \n",
            "_________________________________________________________________\n",
            "conv1d_14 (Conv1D)           (None, 31, 128)           24704     \n",
            "_________________________________________________________________\n",
            "global_max_pooling1d_4 (Glob (None, 128)               0         \n",
            "_________________________________________________________________\n",
            "tf.identity_14 (TFOpLambda)  (None, 128)               0         \n",
            "_________________________________________________________________\n",
            "dense_4 (Dense)              (None, 1)                 129       \n",
            "=================================================================\n",
            "Total params: 288,813\n",
            "Trainable params: 288,813\n",
            "Non-trainable params: 0\n",
            "_________________________________________________________________\n"
          ],
          "name": "stdout"
        }
      ]
    },
    {
      "cell_type": "code",
      "metadata": {
        "id": "RAUVPNwQZo87"
      },
      "source": [
        "model.compile(loss='binary_crossentropy',optimizer='RMSprop',metrics=['accuracy'])"
      ],
      "execution_count": 215,
      "outputs": []
    },
    {
      "cell_type": "code",
      "metadata": {
        "id": "NHARpSdMZ-v7"
      },
      "source": [
        "y_train=y_train.astype(int)"
      ],
      "execution_count": 199,
      "outputs": []
    },
    {
      "cell_type": "code",
      "metadata": {
        "id": "D9PemOqqaGco"
      },
      "source": [
        "y_val=y_val.astype(int)"
      ],
      "execution_count": 200,
      "outputs": []
    },
    {
      "cell_type": "markdown",
      "metadata": {
        "id": "YKAe9_OEdxUE"
      },
      "source": [
        ""
      ]
    },
    {
      "cell_type": "code",
      "metadata": {
        "colab": {
          "base_uri": "https://localhost:8080/"
        },
        "id": "aQSYxz5BZwvy",
        "outputId": "edb02225-c358-4cfb-fda6-80ad0bc2f4b0"
      },
      "source": [
        "cnn=model.fit(data_train,y_train,validation_data=(data_test,y_val),batch_size=128,epochs=128)"
      ],
      "execution_count": 216,
      "outputs": [
        {
          "output_type": "stream",
          "text": [
            "Epoch 1/128\n",
            "236/236 [==============================] - 5s 18ms/step - loss: -7174685720576.0000 - accuracy: 0.0315 - val_loss: -392775532544.0000 - val_accuracy: 0.0311\n",
            "Epoch 2/128\n",
            "236/236 [==============================] - 4s 16ms/step - loss: -7352879153152.0000 - accuracy: 0.0376 - val_loss: -402495963136.0000 - val_accuracy: 0.0305\n",
            "Epoch 3/128\n",
            "236/236 [==============================] - 4s 16ms/step - loss: -7537418567680.0000 - accuracy: 0.0429 - val_loss: -412265971712.0000 - val_accuracy: 0.0307\n",
            "Epoch 4/128\n",
            "236/236 [==============================] - 4s 16ms/step - loss: -7724829507584.0000 - accuracy: 0.0305 - val_loss: -421513822208.0000 - val_accuracy: 0.2148\n",
            "Epoch 5/128\n",
            "236/236 [==============================] - 4s 15ms/step - loss: -7918795096064.0000 - accuracy: 0.0595 - val_loss: -431964815360.0000 - val_accuracy: 0.0314\n",
            "Epoch 6/128\n",
            "236/236 [==============================] - 4s 16ms/step - loss: -8109988249600.0000 - accuracy: 0.0511 - val_loss: -441972293632.0000 - val_accuracy: 0.0314\n",
            "Epoch 7/128\n",
            "236/236 [==============================] - 4s 16ms/step - loss: -8305589092352.0000 - accuracy: 0.0477 - val_loss: -452402741248.0000 - val_accuracy: 0.0312\n",
            "Epoch 8/128\n",
            "236/236 [==============================] - 4s 16ms/step - loss: -8508971417600.0000 - accuracy: 0.0327 - val_loss: -462810972160.0000 - val_accuracy: 0.0314\n",
            "Epoch 9/128\n",
            "236/236 [==============================] - 4s 16ms/step - loss: -8711976255488.0000 - accuracy: 0.0431 - val_loss: -474466222080.0000 - val_accuracy: 0.0314\n",
            "Epoch 10/128\n",
            "236/236 [==============================] - 4s 16ms/step - loss: -8924698771456.0000 - accuracy: 0.0425 - val_loss: -485501042688.0000 - val_accuracy: 0.0315\n",
            "Epoch 11/128\n",
            "236/236 [==============================] - 4s 16ms/step - loss: -9137067917312.0000 - accuracy: 0.0356 - val_loss: -496230367232.0000 - val_accuracy: 0.0316\n",
            "Epoch 12/128\n",
            "236/236 [==============================] - 4s 16ms/step - loss: -9349426577408.0000 - accuracy: 0.0333 - val_loss: -507513602048.0000 - val_accuracy: 0.0318\n",
            "Epoch 13/128\n",
            "236/236 [==============================] - 4s 15ms/step - loss: -9565898801152.0000 - accuracy: 0.1095 - val_loss: -519622164480.0000 - val_accuracy: 0.0311\n",
            "Epoch 14/128\n",
            "236/236 [==============================] - 4s 15ms/step - loss: -9792057769984.0000 - accuracy: 0.0305 - val_loss: -530817613824.0000 - val_accuracy: 0.0318\n",
            "Epoch 15/128\n",
            "236/236 [==============================] - 4s 15ms/step - loss: -10025184526336.0000 - accuracy: 0.0698 - val_loss: -543545131008.0000 - val_accuracy: 0.0314\n",
            "Epoch 16/128\n",
            "236/236 [==============================] - 4s 15ms/step - loss: -10263110615040.0000 - accuracy: 0.0534 - val_loss: -556158550016.0000 - val_accuracy: 0.0311\n",
            "Epoch 17/128\n",
            "236/236 [==============================] - 4s 15ms/step - loss: -10499628466176.0000 - accuracy: 0.0769 - val_loss: -568394514432.0000 - val_accuracy: 0.0314\n",
            "Epoch 18/128\n",
            "236/236 [==============================] - 4s 15ms/step - loss: -10745672630272.0000 - accuracy: 0.0599 - val_loss: -581198544896.0000 - val_accuracy: 0.0311\n",
            "Epoch 19/128\n",
            "236/236 [==============================] - 4s 16ms/step - loss: -10993294901248.0000 - accuracy: 0.0354 - val_loss: -593598676992.0000 - val_accuracy: 0.0315\n",
            "Epoch 20/128\n",
            "236/236 [==============================] - 4s 17ms/step - loss: -11245513080832.0000 - accuracy: 0.0413 - val_loss: -607447416832.0000 - val_accuracy: 0.0312\n",
            "Epoch 21/128\n",
            "236/236 [==============================] - 4s 17ms/step - loss: -11502666907648.0000 - accuracy: 0.0344 - val_loss: -621297139712.0000 - val_accuracy: 0.0315\n",
            "Epoch 22/128\n",
            "236/236 [==============================] - 4s 16ms/step - loss: -11764788887552.0000 - accuracy: 0.0541 - val_loss: -634755874816.0000 - val_accuracy: 0.0314\n",
            "Epoch 23/128\n",
            "236/236 [==============================] - 4s 16ms/step - loss: -12032481951744.0000 - accuracy: 0.0509 - val_loss: -649657253888.0000 - val_accuracy: 0.0306\n",
            "Epoch 24/128\n",
            "236/236 [==============================] - 4s 15ms/step - loss: -12303169748992.0000 - accuracy: 0.0301 - val_loss: -663738056704.0000 - val_accuracy: 0.0302\n",
            "Epoch 25/128\n",
            "236/236 [==============================] - 4s 15ms/step - loss: -12577089257472.0000 - accuracy: 0.1216 - val_loss: -677759221760.0000 - val_accuracy: 0.0287\n",
            "Epoch 26/128\n",
            "236/236 [==============================] - 4s 15ms/step - loss: -12850580946944.0000 - accuracy: 0.0490 - val_loss: -692100661248.0000 - val_accuracy: 0.0290\n",
            "Epoch 27/128\n",
            "236/236 [==============================] - 4s 15ms/step - loss: -13130520330240.0000 - accuracy: 0.0298 - val_loss: -707115810816.0000 - val_accuracy: 0.0293\n",
            "Epoch 28/128\n",
            "236/236 [==============================] - 4s 15ms/step - loss: -13420790284288.0000 - accuracy: 0.0519 - val_loss: -722188173312.0000 - val_accuracy: 0.0294\n",
            "Epoch 29/128\n",
            "236/236 [==============================] - 4s 15ms/step - loss: -13713080844288.0000 - accuracy: 0.0358 - val_loss: -736528760832.0000 - val_accuracy: 0.0293\n",
            "Epoch 30/128\n",
            "236/236 [==============================] - 4s 15ms/step - loss: -14008555929600.0000 - accuracy: 0.0393 - val_loss: -751846424576.0000 - val_accuracy: 0.0298\n",
            "Epoch 31/128\n",
            "236/236 [==============================] - 3s 15ms/step - loss: -14316152553472.0000 - accuracy: 0.0363 - val_loss: -767097176064.0000 - val_accuracy: 0.0294\n",
            "Epoch 32/128\n",
            "236/236 [==============================] - 4s 15ms/step - loss: -14624088915968.0000 - accuracy: 0.0856 - val_loss: -782073528320.0000 - val_accuracy: 0.0293\n",
            "Epoch 33/128\n",
            "236/236 [==============================] - 4s 16ms/step - loss: -14935146889216.0000 - accuracy: 0.0370 - val_loss: -797690298368.0000 - val_accuracy: 0.0297\n",
            "Epoch 34/128\n",
            "236/236 [==============================] - 4s 16ms/step - loss: -15253299527680.0000 - accuracy: 0.0430 - val_loss: -813131825152.0000 - val_accuracy: 0.0305\n",
            "Epoch 35/128\n",
            "236/236 [==============================] - 4s 15ms/step - loss: -15577267568640.0000 - accuracy: 0.1028 - val_loss: -828874227712.0000 - val_accuracy: 0.0297\n",
            "Epoch 36/128\n",
            "236/236 [==============================] - 4s 15ms/step - loss: -15914966712320.0000 - accuracy: 0.0727 - val_loss: -846236680192.0000 - val_accuracy: 0.0291\n",
            "Epoch 37/128\n",
            "236/236 [==============================] - 4s 15ms/step - loss: -16247557193728.0000 - accuracy: 0.0317 - val_loss: -862432919552.0000 - val_accuracy: 0.0302\n",
            "Epoch 38/128\n",
            "236/236 [==============================] - 4s 15ms/step - loss: -16587963760640.0000 - accuracy: 0.0615 - val_loss: -879457468416.0000 - val_accuracy: 0.0294\n",
            "Epoch 39/128\n",
            "236/236 [==============================] - 4s 15ms/step - loss: -16935340212224.0000 - accuracy: 0.0307 - val_loss: -896627179520.0000 - val_accuracy: 0.0327\n",
            "Epoch 40/128\n",
            "236/236 [==============================] - 3s 15ms/step - loss: -17290875633664.0000 - accuracy: 0.0514 - val_loss: -914663079936.0000 - val_accuracy: 0.0302\n",
            "Epoch 41/128\n",
            "236/236 [==============================] - 3s 15ms/step - loss: -17649752866816.0000 - accuracy: 0.0681 - val_loss: -933179293696.0000 - val_accuracy: 0.0299\n",
            "Epoch 42/128\n",
            "236/236 [==============================] - 3s 14ms/step - loss: -18013914923008.0000 - accuracy: 0.0451 - val_loss: -951848665088.0000 - val_accuracy: 0.0298\n",
            "Epoch 43/128\n",
            "236/236 [==============================] - 4s 15ms/step - loss: -18383496019968.0000 - accuracy: 0.0292 - val_loss: -968903163904.0000 - val_accuracy: 0.0303\n",
            "Epoch 44/128\n",
            "236/236 [==============================] - 3s 15ms/step - loss: -18762967285760.0000 - accuracy: 0.0977 - val_loss: -987696005120.0000 - val_accuracy: 0.0290\n",
            "Epoch 45/128\n",
            "236/236 [==============================] - 3s 14ms/step - loss: -19134322573312.0000 - accuracy: 0.0288 - val_loss: -1007864119296.0000 - val_accuracy: 0.0298\n",
            "Epoch 46/128\n",
            "236/236 [==============================] - 3s 14ms/step - loss: -19519948980224.0000 - accuracy: 0.0529 - val_loss: -1027748986880.0000 - val_accuracy: 0.0302\n",
            "Epoch 47/128\n",
            "236/236 [==============================] - 4s 16ms/step - loss: -19916243599360.0000 - accuracy: 0.0546 - val_loss: -1045427978240.0000 - val_accuracy: 0.0291\n",
            "Epoch 48/128\n",
            "236/236 [==============================] - 4s 15ms/step - loss: -20316061433856.0000 - accuracy: 0.0677 - val_loss: -1064679571456.0000 - val_accuracy: 0.0290\n",
            "Epoch 49/128\n",
            "236/236 [==============================] - 4s 15ms/step - loss: -20721315086336.0000 - accuracy: 0.0630 - val_loss: -1086801313792.0000 - val_accuracy: 0.0291\n",
            "Epoch 50/128\n",
            "236/236 [==============================] - 4s 15ms/step - loss: -21126786842624.0000 - accuracy: 0.0298 - val_loss: -1108096974848.0000 - val_accuracy: 0.0294\n",
            "Epoch 51/128\n",
            "236/236 [==============================] - 3s 15ms/step - loss: -21543067320320.0000 - accuracy: 0.0287 - val_loss: -1129210576896.0000 - val_accuracy: 0.0295\n",
            "Epoch 52/128\n",
            "236/236 [==============================] - 3s 15ms/step - loss: -21972515815424.0000 - accuracy: 0.0821 - val_loss: -1151916048384.0000 - val_accuracy: 0.0290\n",
            "Epoch 53/128\n",
            "236/236 [==============================] - 3s 15ms/step - loss: -22396836773888.0000 - accuracy: 0.0284 - val_loss: -1173849767936.0000 - val_accuracy: 0.0295\n",
            "Epoch 54/128\n",
            "236/236 [==============================] - 3s 14ms/step - loss: -22841596575744.0000 - accuracy: 0.0314 - val_loss: -1197066813440.0000 - val_accuracy: 0.0303\n",
            "Epoch 55/128\n",
            "236/236 [==============================] - 3s 15ms/step - loss: -23291676852224.0000 - accuracy: 0.0419 - val_loss: -1220512317440.0000 - val_accuracy: 0.0293\n",
            "Epoch 56/128\n",
            "236/236 [==============================] - 3s 15ms/step - loss: -23753176121344.0000 - accuracy: 0.0418 - val_loss: -1242584449024.0000 - val_accuracy: 0.0295\n",
            "Epoch 57/128\n",
            "236/236 [==============================] - 3s 15ms/step - loss: -24209872912384.0000 - accuracy: 0.0342 - val_loss: -1265810669568.0000 - val_accuracy: 0.0295\n",
            "Epoch 58/128\n",
            "236/236 [==============================] - 3s 14ms/step - loss: -24666548731904.0000 - accuracy: 0.0418 - val_loss: -1287768506368.0000 - val_accuracy: 0.0293\n",
            "Epoch 59/128\n",
            "236/236 [==============================] - 3s 15ms/step - loss: -25129163685888.0000 - accuracy: 0.0487 - val_loss: -1312633257984.0000 - val_accuracy: 0.0295\n",
            "Epoch 60/128\n",
            "236/236 [==============================] - 3s 15ms/step - loss: -25597052977152.0000 - accuracy: 0.0326 - val_loss: -1337564069888.0000 - val_accuracy: 0.0293\n",
            "Epoch 61/128\n",
            "236/236 [==============================] - 4s 16ms/step - loss: -26087683784704.0000 - accuracy: 0.0348 - val_loss: -1362829901824.0000 - val_accuracy: 0.0295\n",
            "Epoch 62/128\n",
            "236/236 [==============================] - 4s 16ms/step - loss: -26575231778816.0000 - accuracy: 0.0366 - val_loss: -1385301016576.0000 - val_accuracy: 0.0298\n",
            "Epoch 63/128\n",
            "236/236 [==============================] - 4s 16ms/step - loss: -27084348981248.0000 - accuracy: 0.0858 - val_loss: -1412343529472.0000 - val_accuracy: 0.0290\n",
            "Epoch 64/128\n",
            "236/236 [==============================] - 4s 16ms/step - loss: -27583303385088.0000 - accuracy: 0.0360 - val_loss: -1437599137792.0000 - val_accuracy: 0.0291\n",
            "Epoch 65/128\n",
            "236/236 [==============================] - 4s 16ms/step - loss: -28105158688768.0000 - accuracy: 0.0317 - val_loss: -1465324011520.0000 - val_accuracy: 0.0291\n",
            "Epoch 66/128\n",
            "236/236 [==============================] - 4s 16ms/step - loss: -28624432398336.0000 - accuracy: 0.0611 - val_loss: -1492528660480.0000 - val_accuracy: 0.0291\n",
            "Epoch 67/128\n",
            "236/236 [==============================] - 4s 16ms/step - loss: -29162427383808.0000 - accuracy: 0.0344 - val_loss: -1521777115136.0000 - val_accuracy: 0.0293\n",
            "Epoch 68/128\n",
            "236/236 [==============================] - 4s 16ms/step - loss: -29712743137280.0000 - accuracy: 0.0648 - val_loss: -1550601551872.0000 - val_accuracy: 0.0289\n",
            "Epoch 69/128\n",
            "236/236 [==============================] - 4s 17ms/step - loss: -30256817766400.0000 - accuracy: 0.0694 - val_loss: -1578931322880.0000 - val_accuracy: 0.0277\n",
            "Epoch 70/128\n",
            "236/236 [==============================] - 4s 16ms/step - loss: -30813880057856.0000 - accuracy: 0.0277 - val_loss: -1609094791168.0000 - val_accuracy: 0.0275\n",
            "Epoch 71/128\n",
            "236/236 [==============================] - 4s 17ms/step - loss: -31376078274560.0000 - accuracy: 0.0439 - val_loss: -1636434313216.0000 - val_accuracy: 0.0269\n",
            "Epoch 72/128\n",
            "236/236 [==============================] - 4s 16ms/step - loss: -31944653930496.0000 - accuracy: 0.0835 - val_loss: -1663922470912.0000 - val_accuracy: 0.0270\n",
            "Epoch 73/128\n",
            "236/236 [==============================] - 4s 16ms/step - loss: -32523377704960.0000 - accuracy: 0.0442 - val_loss: -1690898530304.0000 - val_accuracy: 0.0271\n",
            "Epoch 74/128\n",
            "236/236 [==============================] - 4s 16ms/step - loss: -33117578461184.0000 - accuracy: 0.0829 - val_loss: -1723027554304.0000 - val_accuracy: 0.0267\n",
            "Epoch 75/128\n",
            "236/236 [==============================] - 4s 15ms/step - loss: -33719175872512.0000 - accuracy: 0.0269 - val_loss: -1753637453824.0000 - val_accuracy: 0.0271\n",
            "Epoch 76/128\n",
            "236/236 [==============================] - 4s 15ms/step - loss: -34319955394560.0000 - accuracy: 0.0630 - val_loss: -1783093657600.0000 - val_accuracy: 0.0277\n",
            "Epoch 77/128\n",
            "236/236 [==============================] - 4s 15ms/step - loss: -34935165419520.0000 - accuracy: 0.0313 - val_loss: -1813581791232.0000 - val_accuracy: 0.0274\n",
            "Epoch 78/128\n",
            "236/236 [==============================] - 4s 15ms/step - loss: -35565797900288.0000 - accuracy: 0.0317 - val_loss: -1842534154240.0000 - val_accuracy: 0.2148\n",
            "Epoch 79/128\n",
            "236/236 [==============================] - 3s 15ms/step - loss: -36200559673344.0000 - accuracy: 0.0975 - val_loss: -1875080249344.0000 - val_accuracy: 0.0271\n",
            "Epoch 80/128\n",
            "236/236 [==============================] - 3s 15ms/step - loss: -36829248094208.0000 - accuracy: 0.0437 - val_loss: -1908286816256.0000 - val_accuracy: 0.0270\n",
            "Epoch 81/128\n",
            "236/236 [==============================] - 4s 15ms/step - loss: -37472444612608.0000 - accuracy: 0.0663 - val_loss: -1943717019648.0000 - val_accuracy: 0.0271\n",
            "Epoch 82/128\n",
            "236/236 [==============================] - 4s 16ms/step - loss: -38137845776384.0000 - accuracy: 0.0385 - val_loss: -1976105566208.0000 - val_accuracy: 0.0279\n",
            "Epoch 83/128\n",
            "236/236 [==============================] - 4s 16ms/step - loss: -38806589800448.0000 - accuracy: 0.0410 - val_loss: -2009940099072.0000 - val_accuracy: 0.2144\n",
            "Epoch 84/128\n",
            "236/236 [==============================] - 4s 16ms/step - loss: -39484183805952.0000 - accuracy: 0.0630 - val_loss: -2045966155776.0000 - val_accuracy: 0.0271\n",
            "Epoch 85/128\n",
            "236/236 [==============================] - 4s 15ms/step - loss: -40169801515008.0000 - accuracy: 0.0260 - val_loss: -2081896529920.0000 - val_accuracy: 0.0274\n",
            "Epoch 86/128\n",
            "236/236 [==============================] - 4s 15ms/step - loss: -40861513547776.0000 - accuracy: 0.0290 - val_loss: -2119133954048.0000 - val_accuracy: 0.0279\n",
            "Epoch 87/128\n",
            "236/236 [==============================] - 4s 15ms/step - loss: -41580333367296.0000 - accuracy: 0.0330 - val_loss: -2152115863552.0000 - val_accuracy: 0.2141\n",
            "Epoch 88/128\n",
            "236/236 [==============================] - 3s 15ms/step - loss: -42305012629504.0000 - accuracy: 0.0995 - val_loss: -2190696513536.0000 - val_accuracy: 0.0271\n",
            "Epoch 89/128\n",
            "236/236 [==============================] - 3s 15ms/step - loss: -43026948816896.0000 - accuracy: 0.0272 - val_loss: -2227746897920.0000 - val_accuracy: 0.0271\n",
            "Epoch 90/128\n",
            "236/236 [==============================] - 3s 15ms/step - loss: -43765301510144.0000 - accuracy: 0.0380 - val_loss: -2264041259008.0000 - val_accuracy: 0.0279\n",
            "Epoch 91/128\n",
            "236/236 [==============================] - 3s 15ms/step - loss: -44508414738432.0000 - accuracy: 0.0449 - val_loss: -2302040080384.0000 - val_accuracy: 0.0283\n",
            "Epoch 92/128\n",
            "236/236 [==============================] - 3s 15ms/step - loss: -45253537038336.0000 - accuracy: 0.0479 - val_loss: -2341015912448.0000 - val_accuracy: 0.0283\n",
            "Epoch 93/128\n",
            "236/236 [==============================] - 4s 15ms/step - loss: -46032603840512.0000 - accuracy: 0.0336 - val_loss: -2377001205760.0000 - val_accuracy: 0.0293\n",
            "Epoch 94/128\n",
            "236/236 [==============================] - 4s 15ms/step - loss: -46813008625664.0000 - accuracy: 0.0448 - val_loss: -2416260939776.0000 - val_accuracy: 0.0290\n",
            "Epoch 95/128\n",
            "236/236 [==============================] - 4s 15ms/step - loss: -47599348350976.0000 - accuracy: 0.1095 - val_loss: -2456220073984.0000 - val_accuracy: 0.0270\n",
            "Epoch 96/128\n",
            "236/236 [==============================] - 3s 15ms/step - loss: -48385587412992.0000 - accuracy: 0.0322 - val_loss: -2496792625152.0000 - val_accuracy: 0.0281\n",
            "Epoch 97/128\n",
            "236/236 [==============================] - 3s 15ms/step - loss: -49188758880256.0000 - accuracy: 0.0371 - val_loss: -2536435875840.0000 - val_accuracy: 0.0290\n",
            "Epoch 98/128\n",
            "236/236 [==============================] - 4s 15ms/step - loss: -50005696053248.0000 - accuracy: 0.0624 - val_loss: -2581891907584.0000 - val_accuracy: 0.0279\n",
            "Epoch 99/128\n",
            "236/236 [==============================] - 4s 15ms/step - loss: -50845097918464.0000 - accuracy: 0.0282 - val_loss: -2620059549696.0000 - val_accuracy: 0.0290\n",
            "Epoch 100/128\n",
            "236/236 [==============================] - 3s 15ms/step - loss: -51659463983104.0000 - accuracy: 0.0583 - val_loss: -2661655511040.0000 - val_accuracy: 0.2142\n",
            "Epoch 101/128\n",
            "236/236 [==============================] - 4s 15ms/step - loss: -52516435787776.0000 - accuracy: 0.0430 - val_loss: -2704020865024.0000 - val_accuracy: 0.0283\n",
            "Epoch 102/128\n",
            "236/236 [==============================] - 4s 15ms/step - loss: -53374468751360.0000 - accuracy: 0.0801 - val_loss: -2749450158080.0000 - val_accuracy: 0.0271\n",
            "Epoch 103/128\n",
            "236/236 [==============================] - 4s 15ms/step - loss: -54252202360832.0000 - accuracy: 0.0380 - val_loss: -2793702162432.0000 - val_accuracy: 0.0274\n",
            "Epoch 104/128\n",
            "236/236 [==============================] - 4s 15ms/step - loss: -55131919876096.0000 - accuracy: 0.0490 - val_loss: -2837865037824.0000 - val_accuracy: 0.2142\n",
            "Epoch 105/128\n",
            "236/236 [==============================] - 4s 15ms/step - loss: -56021363982336.0000 - accuracy: 0.0749 - val_loss: -2885655461888.0000 - val_accuracy: 0.0270\n",
            "Epoch 106/128\n",
            "236/236 [==============================] - 3s 15ms/step - loss: -56926121492480.0000 - accuracy: 0.0292 - val_loss: -2929014341632.0000 - val_accuracy: 0.0269\n",
            "Epoch 107/128\n",
            "236/236 [==============================] - 4s 15ms/step - loss: -57836021219328.0000 - accuracy: 0.0423 - val_loss: -2975955681280.0000 - val_accuracy: 0.0271\n",
            "Epoch 108/128\n",
            "236/236 [==============================] - 4s 16ms/step - loss: -58750673092608.0000 - accuracy: 0.0284 - val_loss: -3019575394304.0000 - val_accuracy: 0.0282\n",
            "Epoch 109/128\n",
            "236/236 [==============================] - 4s 16ms/step - loss: -59691220598784.0000 - accuracy: 0.0383 - val_loss: -3067501871104.0000 - val_accuracy: 0.2141\n",
            "Epoch 110/128\n",
            "236/236 [==============================] - 4s 16ms/step - loss: -60639259131904.0000 - accuracy: 0.0835 - val_loss: -3121824399360.0000 - val_accuracy: 0.0279\n",
            "Epoch 111/128\n",
            "236/236 [==============================] - 4s 16ms/step - loss: -61632310935552.0000 - accuracy: 0.0287 - val_loss: -3168166215680.0000 - val_accuracy: 0.0287\n",
            "Epoch 112/128\n",
            "236/236 [==============================] - 4s 16ms/step - loss: -62612322648064.0000 - accuracy: 0.0599 - val_loss: -3214969667584.0000 - val_accuracy: 0.0279\n",
            "Epoch 113/128\n",
            "236/236 [==============================] - 4s 15ms/step - loss: -63608876695552.0000 - accuracy: 0.0368 - val_loss: -3263932137472.0000 - val_accuracy: 0.0278\n",
            "Epoch 114/128\n",
            "236/236 [==============================] - 4s 15ms/step - loss: -64599051206656.0000 - accuracy: 0.0392 - val_loss: -3315408044032.0000 - val_accuracy: 0.0281\n",
            "Epoch 115/128\n",
            "236/236 [==============================] - 4s 15ms/step - loss: -65631546245120.0000 - accuracy: 0.0492 - val_loss: -3369578266624.0000 - val_accuracy: 0.0290\n",
            "Epoch 116/128\n",
            "236/236 [==============================] - 4s 15ms/step - loss: -66664938864640.0000 - accuracy: 0.0753 - val_loss: -3423091818496.0000 - val_accuracy: 0.0282\n",
            "Epoch 117/128\n",
            "236/236 [==============================] - 4s 15ms/step - loss: -67693117964288.0000 - accuracy: 0.0277 - val_loss: -3471631187968.0000 - val_accuracy: 0.0290\n",
            "Epoch 118/128\n",
            "236/236 [==============================] - 4s 15ms/step - loss: -68765626662912.0000 - accuracy: 0.0337 - val_loss: -3523450503168.0000 - val_accuracy: 0.0289\n",
            "Epoch 119/128\n",
            "236/236 [==============================] - 4s 15ms/step - loss: -69814005530624.0000 - accuracy: 0.0676 - val_loss: -3578346340352.0000 - val_accuracy: 0.0285\n",
            "Epoch 120/128\n",
            "236/236 [==============================] - 4s 15ms/step - loss: -70885255938048.0000 - accuracy: 0.0280 - val_loss: -3633987715072.0000 - val_accuracy: 0.0290\n",
            "Epoch 121/128\n",
            "236/236 [==============================] - 4s 15ms/step - loss: -71985069555712.0000 - accuracy: 0.0619 - val_loss: -3686695698432.0000 - val_accuracy: 0.0289\n",
            "Epoch 122/128\n",
            "236/236 [==============================] - 4s 16ms/step - loss: -73087726911488.0000 - accuracy: 0.0295 - val_loss: -3739238793216.0000 - val_accuracy: 0.0285\n",
            "Epoch 123/128\n",
            "236/236 [==============================] - 4s 16ms/step - loss: -74157156990976.0000 - accuracy: 0.0300 - val_loss: -3794319179776.0000 - val_accuracy: 0.2139\n",
            "Epoch 124/128\n",
            "236/236 [==============================] - 4s 16ms/step - loss: -75286574006272.0000 - accuracy: 0.1188 - val_loss: -3848073379840.0000 - val_accuracy: 0.0270\n",
            "Epoch 125/128\n",
            "236/236 [==============================] - 4s 17ms/step - loss: -76405765308416.0000 - accuracy: 0.0266 - val_loss: -3905158905856.0000 - val_accuracy: 0.0277\n",
            "Epoch 126/128\n",
            "236/236 [==============================] - 4s 16ms/step - loss: -77573744754688.0000 - accuracy: 0.0521 - val_loss: -3961389318144.0000 - val_accuracy: 0.0278\n",
            "Epoch 127/128\n",
            "236/236 [==============================] - 4s 16ms/step - loss: -78723478978560.0000 - accuracy: 0.0266 - val_loss: -4020730855424.0000 - val_accuracy: 0.0278\n",
            "Epoch 128/128\n",
            "236/236 [==============================] - 4s 16ms/step - loss: -79901147267072.0000 - accuracy: 0.0326 - val_loss: -4081862574080.0000 - val_accuracy: 0.0281\n"
          ],
          "name": "stdout"
        }
      ]
    },
    {
      "cell_type": "code",
      "metadata": {
        "id": "bM1SJ3W9Zw8R"
      },
      "source": [
        "\n",
        "from sklearn.metrics import confusion_matrix,classification_report"
      ],
      "execution_count": 211,
      "outputs": []
    },
    {
      "cell_type": "code",
      "metadata": {
        "id": "2BBfm6dNKPzd"
      },
      "source": [
        "#LSTM"
      ],
      "execution_count": 147,
      "outputs": []
    },
    {
      "cell_type": "code",
      "metadata": {
        "id": "QW0UooawKXeD"
      },
      "source": [
        "from keras.models import Sequential\n",
        "from keras.layers import Dense, Embedding, LSTM, SpatialDropout1D\n",
        "from keras.utils.np_utils import to_categorical\n",
        "from keras.callbacks import EarlyStopping\n",
        "from keras.layers import Dropout\n",
        "from tqdm.notebook import tqdm\n",
        "from keras.preprocessing import sequence"
      ],
      "execution_count": 155,
      "outputs": []
    },
    {
      "cell_type": "code",
      "metadata": {
        "colab": {
          "base_uri": "https://localhost:8080/"
        },
        "id": "CCrDdqaZM-Ma",
        "outputId": "9a4d4356-73b4-4be8-b050-da25b043ce1e"
      },
      "source": [
        "#Max wwords for processing \n",
        "MAX_NB_WORDS = 10000\n",
        "# Max number of words in a sequence\n",
        "MAX_SEQUENCE_LENGTH = 250\n",
        "#fixed\n",
        "EMBEDDING_DIM = 100\n",
        "\n",
        "tokenizer = Tokenizer(num_words=MAX_NB_WORDS)\n",
        "tokenizer.fit_on_texts(df['Message'].values)\n",
        "word_index = tokenizer.word_index\n",
        "print('Found %s unique tokens.' % len(word_index))"
      ],
      "execution_count": 160,
      "outputs": [
        {
          "output_type": "stream",
          "text": [
            "Found 12790 unique tokens.\n"
          ],
          "name": "stdout"
        }
      ]
    },
    {
      "cell_type": "code",
      "metadata": {
        "colab": {
          "base_uri": "https://localhost:8080/"
        },
        "id": "eIOWdXnnM-Xj",
        "outputId": "a84054de-03b2-416e-dacb-0b66af2e8b86"
      },
      "source": [
        "X1 = tokenizer.texts_to_sequences(df['Message'].values)\n",
        "X1 = pad_sequences(X1, maxlen=MAX_SEQUENCE_LENGTH)\n",
        "print('Shape of data tensor:', X1.shape)"
      ],
      "execution_count": 162,
      "outputs": [
        {
          "output_type": "stream",
          "text": [
            "Shape of data tensor: (37757, 250)\n"
          ],
          "name": "stdout"
        }
      ]
    },
    {
      "cell_type": "code",
      "metadata": {
        "colab": {
          "base_uri": "https://localhost:8080/"
        },
        "id": "HYAb4m32M-aK",
        "outputId": "bcac3d3a-13f6-4555-9b7b-a0a40b2ebfa8"
      },
      "source": [
        "Y1 = y.values.astype(int)\n",
        "print('Shape of label tensor:', Y1.shape)"
      ],
      "execution_count": 168,
      "outputs": [
        {
          "output_type": "stream",
          "text": [
            "Shape of label tensor: (37757,)\n"
          ],
          "name": "stdout"
        }
      ]
    },
    {
      "cell_type": "code",
      "metadata": {
        "colab": {
          "base_uri": "https://localhost:8080/"
        },
        "id": "h0AxZ5RAM-c4",
        "outputId": "06f7e785-4dce-4096-87d1-fda2aac37283"
      },
      "source": [
        "X_train, X_test, Y_train, Y_test = train_test_split(X1,Y1, test_size = 0.20, random_state = 42)\n",
        "print(X_train.shape,Y_train.shape)\n",
        "print(X_test.shape,Y_test.shape)"
      ],
      "execution_count": 169,
      "outputs": [
        {
          "output_type": "stream",
          "text": [
            "(30205, 250) (30205,)\n",
            "(7552, 250) (7552,)\n"
          ],
          "name": "stdout"
        }
      ]
    },
    {
      "cell_type": "code",
      "metadata": {
        "colab": {
          "base_uri": "https://localhost:8080/"
        },
        "id": "ilJlmtUWOKmS",
        "outputId": "2cb49470-4d9f-46ac-f481-ce4b0b054d15"
      },
      "source": [
        "Y1.dtype"
      ],
      "execution_count": 170,
      "outputs": [
        {
          "output_type": "execute_result",
          "data": {
            "text/plain": [
              "dtype('int64')"
            ]
          },
          "metadata": {
            "tags": []
          },
          "execution_count": 170
        }
      ]
    },
    {
      "cell_type": "code",
      "metadata": {
        "colab": {
          "base_uri": "https://localhost:8080/"
        },
        "id": "odaZqnxvM-fY",
        "outputId": "de2cc21b-856b-463d-f5ad-bda8e0c4487b"
      },
      "source": [
        "model = Sequential()\n",
        "model.add(Embedding(MAX_NB_WORDS, EMBEDDING_DIM, input_length=X1.shape[1]))\n",
        "model.add(SpatialDropout1D(0.2))\n",
        "model.add(LSTM(100, dropout=0.2, recurrent_dropout=0.2))\n",
        "model.add(Dense(1, activation='sigmoid', kernel_regularizer=l2(0.01)))\n",
        "model.compile(loss='binary_crossentropy', optimizer='adam', metrics=['accuracy'])\n",
        "print(model.summary())"
      ],
      "execution_count": 171,
      "outputs": [
        {
          "output_type": "stream",
          "text": [
            "WARNING:tensorflow:Layer lstm_5 will not use cuDNN kernels since it doesn't meet the criteria. It will use a generic GPU kernel as fallback when running on GPU.\n",
            "Model: \"sequential_3\"\n",
            "_________________________________________________________________\n",
            "Layer (type)                 Output Shape              Param #   \n",
            "=================================================================\n",
            "embedding_5 (Embedding)      (None, 250, 100)          1000000   \n",
            "_________________________________________________________________\n",
            "spatial_dropout1d_3 (Spatial (None, 250, 100)          0         \n",
            "_________________________________________________________________\n",
            "lstm_5 (LSTM)                (None, 100)               80400     \n",
            "_________________________________________________________________\n",
            "dense_3 (Dense)              (None, 1)                 101       \n",
            "=================================================================\n",
            "Total params: 1,080,501\n",
            "Trainable params: 1,080,501\n",
            "Non-trainable params: 0\n",
            "_________________________________________________________________\n",
            "None\n"
          ],
          "name": "stdout"
        }
      ]
    },
    {
      "cell_type": "code",
      "metadata": {
        "colab": {
          "base_uri": "https://localhost:8080/"
        },
        "id": "GUu12yglM-iR",
        "outputId": "b0052599-f8d8-4b6d-a7f0-7345c0e82e0d"
      },
      "source": [
        "epochs = 5\n",
        "batch_size = 128\n",
        "\n",
        "history = model.fit(X_train, Y_train, epochs=epochs, batch_size=batch_size,validation_split=0.2,callbacks=[EarlyStopping(monitor='val_loss', patience=3, min_delta=0.0001)])"
      ],
      "execution_count": 172,
      "outputs": [
        {
          "output_type": "stream",
          "text": [
            "Epoch 1/5\n",
            "189/189 [==============================] - 258s 1s/step - loss: 0.1836 - accuracy: 0.0121 - val_loss: 0.0266 - val_accuracy: 0.0000e+00\n",
            "Epoch 2/5\n",
            "189/189 [==============================] - 253s 1s/step - loss: 0.0919 - accuracy: 0.0000e+00 - val_loss: -0.0233 - val_accuracy: 3.3107e-04\n",
            "Epoch 3/5\n",
            "189/189 [==============================] - 253s 1s/step - loss: -0.4970 - accuracy: 0.0105 - val_loss: -0.1613 - val_accuracy: 0.0204\n",
            "Epoch 4/5\n",
            "189/189 [==============================] - 254s 1s/step - loss: -2.3189 - accuracy: 0.0736 - val_loss: -0.2597 - val_accuracy: 0.0467\n",
            "Epoch 5/5\n",
            "189/189 [==============================] - 252s 1s/step - loss: -4.8371 - accuracy: 0.0956 - val_loss: -0.3929 - val_accuracy: 0.0571\n"
          ],
          "name": "stdout"
        }
      ]
    },
    {
      "cell_type": "code",
      "metadata": {
        "id": "dabG6FlSN27O"
      },
      "source": [
        ""
      ],
      "execution_count": null,
      "outputs": []
    }
  ]
}